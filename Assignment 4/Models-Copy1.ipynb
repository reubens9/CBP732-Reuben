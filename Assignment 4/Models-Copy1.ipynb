{
 "cells": [
  {
   "cell_type": "code",
   "execution_count": 2,
   "metadata": {
    "collapsed": true
   },
   "outputs": [],
   "source": [
    "from scipy.integrate import odeint\n",
    "from scipy.optimize import fsolve\n",
    "import numpy as np\n",
    "from matplotlib import pyplot as plt\n",
    "import pandas\n",
    "import operator\n",
    "%matplotlib inline"
   ]
  },
  {
   "cell_type": "markdown",
   "metadata": {},
   "source": [
    "# $Succi$"
   ]
  },
  {
   "cell_type": "markdown",
   "metadata": {},
   "source": [
    "##  Mass balance\n",
    "\n",
    "$$Xylose + CO_2 + NH_3 = X + Succinic~ acid + Acetic ~acid  + Formic~ acid  + Water$$\n",
    "\n",
    "\n",
    "$$CH_2O + CO_2 + NH_3= CH_{1.896}O_{0.603}N_{0.258} + CH_{1.5}O + CH_2O + CH_2O_2 + H_2O$$\n",
    "\n",
    "## Metabolic flux model\n",
    "<img src=\"succi.png\" width=\"400\" />"
   ]
  },
  {
   "cell_type": "code",
   "execution_count": 3,
   "metadata": {},
   "outputs": [
    {
     "data": {
      "text/plain": [
       "27.282336800000003"
      ]
     },
     "execution_count": 3,
     "metadata": {},
     "output_type": "execute_result"
    }
   ],
   "source": [
    "\"\"\"Mass balance\"\"\"\n",
    "\n",
    "Mass_S = np.matrix([[1,1,1,1,1,1,0,0],   #C\n",
    "                    [2,0,1.896,1.5,2,2,2,3],  #H\n",
    "                    [1,2,0.603,1,1,2,1,0],    #O\n",
    "                    [0,0,0.258,0,0,0,0,1],    #N   \n",
    "                   [-1,0,0,0,0,0,0,0],       #Xylose\n",
    "                    [0,0,0,1,0,0,0,0],        #Succinic acid\n",
    "                    [0,0,0,0,1,0,0,0],        #Acetic acid \n",
    "                    [0,0,0,0,0,1,0,0],        #Formic acid\n",
    "                   ])\n",
    "\n",
    "#Average Yeast composition (C=47, N= 7.5%, H=6.5, O=31) \n",
    "# from Atkinson and Mavituna, Biochemical Engineering and biotechnology Handbook.\n",
    "MM = 12.11 + 1.0078*1.896 + 16*0.603 + 14.006*0.258\n",
    "MM\n"
   ]
  },
  {
   "cell_type": "markdown",
   "metadata": {},
   "source": [
    "# Continuous fermentation\n",
    "\n",
    "The data that has been given in Ladakis, (2018) is the steady state concentration of succinic acids, risidual glucose and by products. In order to conduct a metabolic flux analysis the production rates of these compounds need to be determined. This is done wiht the following equations:\n",
    "\n",
    "$$\\frac{dC_i}{dt}=\\frac{Q}{V}(CF_i−C_i)+r_iC_X$$\n",
    "\n",
    "At steady state this equation becomes:\n",
    "\n",
    "$$ 0 =\\frac{Q}{V}(CF_i−C_i)+r_iC_X$$\n",
    "\n",
    "The individual rate can then be solved for with the following equation.\n",
    "\n",
    "$$ri = \\frac{Q}{C_XV}(CF_i - C_i)$$\n"
   ]
  },
  {
   "cell_type": "code",
   "execution_count": 4,
   "metadata": {},
   "outputs": [
    {
     "name": "stdout",
     "output_type": "stream",
     "text": [
      "C balance error =  -4.16333634234e-17\n",
      "Biomass error =  12.317139874 %\n"
     ]
    },
    {
     "data": {
      "text/html": [
       "<div>\n",
       "<style>\n",
       "    .dataframe thead tr:only-child th {\n",
       "        text-align: right;\n",
       "    }\n",
       "\n",
       "    .dataframe thead th {\n",
       "        text-align: left;\n",
       "    }\n",
       "\n",
       "    .dataframe tbody tr th {\n",
       "        vertical-align: top;\n",
       "    }\n",
       "</style>\n",
       "<table border=\"1\" class=\"dataframe\">\n",
       "  <thead>\n",
       "    <tr style=\"text-align: right;\">\n",
       "      <th></th>\n",
       "      <th>Dilution (1/h)</th>\n",
       "      <th>Xylose (g/l)</th>\n",
       "      <th>$CO_2$ (g/L)</th>\n",
       "      <th>Biomass (g/l)</th>\n",
       "      <th>Succinic (g/l)</th>\n",
       "      <th>Acetic (g/l)</th>\n",
       "      <th>Formic (g/l)</th>\n",
       "    </tr>\n",
       "  </thead>\n",
       "  <tbody>\n",
       "    <tr>\n",
       "      <th>0</th>\n",
       "      <td>0.02</td>\n",
       "      <td>-38.854806</td>\n",
       "      <td>-6.568074</td>\n",
       "      <td>8.043652</td>\n",
       "      <td>24.086331</td>\n",
       "      <td>7.519863</td>\n",
       "      <td>3.780547</td>\n",
       "    </tr>\n",
       "    <tr>\n",
       "      <th>1</th>\n",
       "      <td>0.03</td>\n",
       "      <td>-36.768916</td>\n",
       "      <td>-6.301315</td>\n",
       "      <td>8.972723</td>\n",
       "      <td>21.035971</td>\n",
       "      <td>6.963219</td>\n",
       "      <td>4.345697</td>\n",
       "    </tr>\n",
       "    <tr>\n",
       "      <th>2</th>\n",
       "      <td>0.04</td>\n",
       "      <td>-35.460123</td>\n",
       "      <td>-6.175688</td>\n",
       "      <td>9.074009</td>\n",
       "      <td>19.769784</td>\n",
       "      <td>6.599193</td>\n",
       "      <td>4.569278</td>\n",
       "    </tr>\n",
       "    <tr>\n",
       "      <th>3</th>\n",
       "      <td>0.06</td>\n",
       "      <td>-34.601227</td>\n",
       "      <td>-6.218275</td>\n",
       "      <td>9.027901</td>\n",
       "      <td>18.503597</td>\n",
       "      <td>6.725687</td>\n",
       "      <td>5.155174</td>\n",
       "    </tr>\n",
       "    <tr>\n",
       "      <th>4</th>\n",
       "      <td>0.10</td>\n",
       "      <td>-33.456033</td>\n",
       "      <td>-5.788359</td>\n",
       "      <td>8.414268</td>\n",
       "      <td>18.043165</td>\n",
       "      <td>6.871992</td>\n",
       "      <td>4.478830</td>\n",
       "    </tr>\n",
       "    <tr>\n",
       "      <th>5</th>\n",
       "      <td>0.15</td>\n",
       "      <td>-29.529652</td>\n",
       "      <td>-5.720046</td>\n",
       "      <td>4.680004</td>\n",
       "      <td>17.928058</td>\n",
       "      <td>7.017208</td>\n",
       "      <td>4.645413</td>\n",
       "    </tr>\n",
       "    <tr>\n",
       "      <th>6</th>\n",
       "      <td>0.20</td>\n",
       "      <td>-26.421268</td>\n",
       "      <td>-5.459313</td>\n",
       "      <td>3.060670</td>\n",
       "      <td>16.834532</td>\n",
       "      <td>6.628184</td>\n",
       "      <td>4.641005</td>\n",
       "    </tr>\n",
       "    <tr>\n",
       "      <th>7</th>\n",
       "      <td>0.25</td>\n",
       "      <td>-22.617587</td>\n",
       "      <td>-4.285991</td>\n",
       "      <td>4.727327</td>\n",
       "      <td>12.000000</td>\n",
       "      <td>5.555556</td>\n",
       "      <td>3.952991</td>\n",
       "    </tr>\n",
       "  </tbody>\n",
       "</table>\n",
       "</div>"
      ],
      "text/plain": [
       "   Dilution (1/h)  Xylose (g/l)  $CO_2$ (g/L)  Biomass (g/l)  Succinic (g/l)  \\\n",
       "0            0.02    -38.854806     -6.568074       8.043652       24.086331   \n",
       "1            0.03    -36.768916     -6.301315       8.972723       21.035971   \n",
       "2            0.04    -35.460123     -6.175688       9.074009       19.769784   \n",
       "3            0.06    -34.601227     -6.218275       9.027901       18.503597   \n",
       "4            0.10    -33.456033     -5.788359       8.414268       18.043165   \n",
       "5            0.15    -29.529652     -5.720046       4.680004       17.928058   \n",
       "6            0.20    -26.421268     -5.459313       3.060670       16.834532   \n",
       "7            0.25    -22.617587     -4.285991       4.727327       12.000000   \n",
       "\n",
       "   Acetic (g/l)  Formic (g/l)  \n",
       "0      7.519863      3.780547  \n",
       "1      6.963219      4.345697  \n",
       "2      6.599193      4.569278  \n",
       "3      6.725687      5.155174  \n",
       "4      6.871992      4.478830  \n",
       "5      7.017208      4.645413  \n",
       "6      6.628184      4.641005  \n",
       "7      5.555556      3.952991  "
      ]
     },
     "execution_count": 4,
     "metadata": {},
     "output_type": "execute_result"
    }
   ],
   "source": [
    "DataS = pandas.read_excel('Data.xlsx',sheetname = 'SData')\n",
    "# print (DataS)\n",
    "DataS = np.array(DataS)\n",
    "Slen = range(len(DataS))\n",
    "Results = pandas.ExcelWriter('Results.xlsx')\n",
    "\n",
    "def MBs(i): \n",
    "    \"Component order = Xylose, CO2, X, SA, AA, FA, H20\"\n",
    "    B = np.matrix([0,0,0,0,(40 - DataS[i,1])/(150.13/5),DataS[i,2]/(118.09/4),DataS[i,3]/(60.05/2) ,DataS[i,4]/46.03]).T\n",
    "    X = np.linalg.solve(Mass_S,B)\n",
    "    return [X[0,0]*(150.13/5), X[1,0]*44.01, X[2,0]*MM, X[3,0]*(118.09/4), X[4,0]*(60.05/2), X[5,0]*46.03]\n",
    "\n",
    "MB_Succi = [MBs(i) for i in Slen]\n",
    "DS = list(DataS[:,0])\n",
    "\n",
    "MB = pandas.DataFrame(columns= [\"Dilution (1/h)\",  \"Xylose (g/l)\", \"$CO_2$ (g/L)\",\"Biomass (g/l)\",\n",
    "                                       \"Succinic (g/l)\",  \"Acetic (g/l)\",  \"Formic (g/l)\"])\n",
    "for i in Slen:\n",
    "    MB.loc[i] = [DS[i]] + MB_Succi[i]\n",
    "\n",
    "Xe = sum(abs((MB['Biomass (g/l)'] - DataS[:,5])/MB['Biomass (g/l)']))/Slen[-1] * 100\n",
    "\n",
    "\n",
    "Balance =  MB['Xylose (g/l)']/(150.13/5) + MB['$CO_2$ (g/L)']/44.01+ (MB['Biomass (g/l)']/MM +\n",
    "                 MB['Succinic (g/l)']/(118.09/4) + MB['Acetic (g/l)']/(60.05/2) + MB['Formic (g/l)']/46.03)\n",
    "                                            \n",
    "print ('C balance error = ',sum(Balance)/len(Balance))\n",
    "print ('Biomass error = ',Xe,'%')\n",
    "MB"
   ]
  },
  {
   "cell_type": "code",
   "execution_count": 5,
   "metadata": {},
   "outputs": [
    {
     "name": "stdout",
     "output_type": "stream",
     "text": [
      "0.087782020583 0.088652020583\n",
      "0.0\n",
      "0.0\n",
      "0.0\n",
      "0.0\n",
      "0.111702250136 0.113007250136\n",
      "0.0\n",
      "0.0\n",
      "0.0\n",
      "0.0\n",
      "0.142031646772 0.143771646772\n",
      "0.0\n",
      "0.0\n",
      "0.0\n",
      "0.0\n",
      "0.208948871606 0.211558871606\n",
      "6.93889390391e-18\n",
      "0.0\n",
      "0.0\n",
      "0.0\n",
      "0.361278552586 0.365628552586\n",
      "0.0\n",
      "0.0\n",
      "0.0\n",
      "0.0\n",
      "0.859978230634 0.866503230634\n",
      "0.0\n",
      "0.0\n",
      "0.0\n",
      "0.0\n",
      "1.56874068864 1.57744068864\n",
      "0.0\n",
      "0.0\n",
      "0.0\n",
      "0.0\n",
      "1.08681274406 1.09768774406\n",
      "0.0\n",
      "0.0\n",
      "0.0\n",
      "0.0\n",
      "CO2 error =  8.3373787829 %\n"
     ]
    },
    {
     "data": {
      "text/plain": [
       "matrix([[-1.        ,  1.105     ,  1.        ,  0.        ,  0.        ,\n",
       "          0.        ,  0.        ,  0.        ,  0.        ,  0.        ,\n",
       "          0.        ,  0.        ],\n",
       "        [ 0.        ,  0.        , -1.        ,  1.        , -0.83333333,\n",
       "          1.        ,  0.        ,  0.        ,  0.        ,  0.        ,\n",
       "          0.        ,  0.        ],\n",
       "        [ 0.        ,  0.        ,  0.        , -1.        ,  1.        ,\n",
       "          0.        ,  1.        ,  0.        ,  0.        ,  0.        ,\n",
       "          0.        ,  0.        ],\n",
       "        [ 0.        ,  0.        ,  0.        ,  0.        ,  0.        ,\n",
       "          1.        ,  1.        , -1.        ,  0.        ,  0.        ,\n",
       "          0.        ,  0.        ],\n",
       "        [ 0.        ,  0.        ,  0.        ,  0.        ,  0.        ,\n",
       "          0.        ,  0.        , -1.        ,  0.75      ,  1.        ,\n",
       "          0.        ,  0.        ],\n",
       "        [ 0.        ,  0.        ,  0.        ,  0.        ,  0.        ,\n",
       "          0.        ,  0.        ,  0.        ,  0.        , -1.        ,\n",
       "          1.5       ,  1.5       ],\n",
       "        [ 0.        ,  0.        ,  0.        , -1.        ,  0.        ,\n",
       "          4.        ,  0.        ,  0.        ,  0.        ,  0.        ,\n",
       "          0.        ,  0.        ],\n",
       "        [ 0.        ,  0.165     ,  0.        ,  0.        ,  0.33333333,\n",
       "          0.        ,  0.        ,  0.33333333, -0.5       ,  0.        ,\n",
       "          0.5       ,  0.        ],\n",
       "        [ 0.        ,  1.        ,  0.        ,  0.        ,  0.        ,\n",
       "          0.        ,  0.        ,  0.        ,  0.        ,  0.        ,\n",
       "          0.        ,  0.        ],\n",
       "        [ 0.        ,  0.        ,  0.        ,  0.        ,  0.        ,\n",
       "          0.        ,  0.        ,  0.        ,  1.        ,  0.        ,\n",
       "          0.        ,  0.        ],\n",
       "        [ 0.        ,  0.        ,  0.        ,  0.        ,  0.        ,\n",
       "          0.        ,  0.        ,  0.        ,  0.        ,  0.        ,\n",
       "          1.        ,  1.        ],\n",
       "        [ 0.        ,  0.        ,  0.        ,  0.        ,  0.        ,\n",
       "          0.        ,  0.        ,  0.        ,  0.        ,  0.        ,\n",
       "          0.        ,  0.5       ]])"
      ]
     },
     "execution_count": 5,
     "metadata": {},
     "output_type": "execute_result"
    }
   ],
   "source": [
    "\"\"\"Flux model\"\"\"\n",
    "S = np.matrix(pandas.read_excel('Data.xlsx',sheetname = 'Succ'))\n",
    "alpha, beta = 0.105, 0.165\n",
    "S[7,1] = beta\n",
    "S[0,1] = 1 + alpha\n",
    "\n",
    "def rates(i):\n",
    "    Cxy, Cco2, Cx, Csa, Caa, Cfa = MBs(i)\n",
    "    C = [Cxy/(150.13/5), Cco2/44.01, Cx/MM, Csa/(118.09/4), Caa/(60.05/2), Cfa/46.03]\n",
    "    CX = C[2]\n",
    "    D = DataS[i,0]\n",
    "    r = np.zeros_like(C)\n",
    "    for j in range(len(C)):\n",
    "        r[j] = D*C[j]/CX\n",
    "        \n",
    "    return r\n",
    "Xerror = []\n",
    "def metafluxs(i):\n",
    "    r = rates(i)\n",
    "    rco2 = r[0] +r[2] + r[3] + r[4] + r[5]\n",
    "    D = DataS[i,0]\n",
    "    specs = np.matrix([0,0,0,0,0,0,0,0,D,r[3],r[4],r[5]]).T\n",
    "    F =  np.linalg.solve(S,specs)\n",
    "    CO2 = F[1,0]*alpha + 1/6*F[4,0] - 1/4*F[8,0] + 1/2*F[10,0]\n",
    "    Xerror.append(abs((r[1] - CO2)/r[1])*100)\n",
    "#     print (r[1], CO2, rco2)\n",
    "    print (-r[0], F[0,0])\n",
    "    print (r[2]- F[1,0])\n",
    "    print (r[3]- F[8,0])\n",
    "    print (r[4]- F[10,0] - F[11,0])\n",
    "    print (r[5]- 0.5*F[11,0])\n",
    "\n",
    "    return [F[0,0],F[1,0],F[2,0],F[3,0],F[4,0],F[5,0],F[6,0],F[7,0],F[8,0],F[9,0],F[10,0],F[11,0]]\n",
    "\n",
    "FluxS = [metafluxs(i) for i in Slen]\n",
    "FS =  pandas.DataFrame(columns= ('µ (1/h)','r_xylose (cmol/cmolX/h)','r_CO_2 (cmol/cmolX/h)',\n",
    "                                'r_SA (cmol/cmolX/h)', 'r_AA (cmol/cmolX/h)', 'r_FA (cmol/cmolX/h)',))\n",
    "\n",
    "\n",
    "for i in Slen:\n",
    "    rCO2 = FluxS[i][1]*alpha + 1/6*FluxS[i][4] - 1/4*FluxS[i][8] + 1/2*FluxS[i][10]\n",
    "\n",
    "    Bal = FluxS[i][0] - FluxS[i][1] - FluxS[i][8] - FluxS[i][10] - FluxS[i][11] - 0.5*FluxS[i][11]\n",
    "#     print (Bal-rCO2)\n",
    "\n",
    "    FS.loc[i] = [FluxS[i][1], FluxS[i][0], rCO2, FluxS[i][8], FluxS[i][10] + FluxS[i][11], 0.5*FluxS[i][11]]\n",
    "\n",
    "print ('CO2 error = ', sum(Xerror)/len(Xerror), '%')\n",
    "S"
   ]
  },
  {
   "cell_type": "code",
   "execution_count": 6,
   "metadata": {
    "collapsed": true
   },
   "outputs": [],
   "source": [
    "Results = pandas.ExcelWriter('Results.xlsx')\n",
    "MB.to_excel(Results, sheet_name = 'MBA_Succi')\n",
    "FS.to_excel(Results, sheet_name = 'FA_Succi')"
   ]
  },
  {
   "cell_type": "markdown",
   "metadata": {},
   "source": [
    "#  $Basfia$"
   ]
  },
  {
   "cell_type": "markdown",
   "metadata": {},
   "source": [
    "## Mass balance\n",
    "\n",
    "$$Xylose + CO_2 + NH_3 = X + Succinic~ acid + Acetic ~acid  + Formic~ acid + Lactic~ acid$$\n",
    "\n",
    "\n",
    "$$CH_2O + CO_2 + NH_3= CH_{1.896}O_{0.603}N_{0.258} + CH_{1.5}O + CH_2O + CH_2O_2 + CH_20 $$\n",
    "\n",
    "## Metabolic flux model\n",
    "\n",
    "<img src=\"Basfia.png\" width=\"400\" />"
   ]
  },
  {
   "cell_type": "code",
   "execution_count": 7,
   "metadata": {
    "collapsed": true
   },
   "outputs": [],
   "source": [
    "\"\"\"Mass balance\"\"\"\n",
    "\n",
    "Mass_B = np.matrix([[1,1,1,1,1,1,1,0,0],  #C\n",
    "                    [2,0,1.896,1.5,2,2,2,2,3], #H\n",
    "                    [1,2,0.603,1,1,2,1,1,0],   #O\n",
    "                    [0,0,0,0,0,0,0,0,1],       #N\n",
    "                   [-1,0,0,0,0,0,0,0,0],      #Xylose\n",
    "                    [0,0,0,1,0,0,0,0,0],       #Succinic acid\n",
    "                    [0,0,0,0,1,0,0,0,0],       #Acetic acid \n",
    "                    [0,0,0,0,0,1,0,0,0],       #Formic acid\n",
    "                    [0,0,0,0,0,0,1,0,0],       #Lactic acid\n",
    "                  ])"
   ]
  },
  {
   "cell_type": "code",
   "execution_count": 13,
   "metadata": {},
   "outputs": [
    {
     "name": "stdout",
     "output_type": "stream",
     "text": [
      "Biomass error =  12.317139874 %\n",
      "C balance error =  -4.16333634234e-17\n"
     ]
    }
   ],
   "source": [
    "DataS = pandas.read_excel('Data.xlsx',sheetname = 'SData')\n",
    "# print (DataB)\n",
    "DataS = np.array(DataS)\n",
    "Slen = range(len(DataS))\n",
    "\n",
    "def MBs(i): \n",
    "    \"Component order = Xylose, CO2, X, SA, AA, FA, LA, H20\"\n",
    "    DataS[i,1]\n",
    "    B = np.matrix([0,0,0,0,(40 - DataS[i,1])/(150.13/5),DataS[i,2]/(118.09/4),\n",
    "                   DataS[i,3]/(60.05/2) ,DataS[i,4]/46.03]).T\n",
    "    X = np.linalg.solve(Mass_S,B)\n",
    "    return [X[0,0]*(150.13/5), X[1,0]*44.01, X[2,0]*MM, X[3,0]*(118.09/4), X[4,0]*(60.05/2), X[5,0]*46.03]\n",
    "\n",
    "MB_Succ = [MBs(i) for i in Slen]\n",
    "DS = list(DataS[:,0])\n",
    "\n",
    "MB_datas = pandas.DataFrame(columns= [\"Dilution (1/h)\",  \"Xylose (g/l)\", \"$CO_2$ (g/L)\",\"Biomass (g/l)\",\n",
    "                                       \"Succinic (g/l)\",  \"Acetic (g/l)\",  \"Formic (g/l)\"])\n",
    "for i in Slen:\n",
    "    MB_datas.loc[i] = [DS[i]] + MB_Succ[i]\n",
    "\n",
    "print (\"Biomass error = \",sum(abs((MB_datas['Biomass (g/l)'] - DataS[:,5])/MB_datas['Biomass (g/l)']))/Slen[-1] * 100,'%')\n",
    "\n",
    "Balance =  MB_datas['Xylose (g/l)']/(150.13/5) + MB_datas['$CO_2$ (g/L)']/44.01+ (MB_datas['Biomass (g/l)']/MM +\n",
    "                   MB_datas['Succinic (g/l)']/(118.09/4) + MB_datas['Acetic (g/l)']/(60.05/2) + \n",
    "                   MB_datas['Formic (g/l)']/46.03)\n",
    "                                            \n",
    "print ('C balance error = ',sum(Balance)/len(Balance))"
   ]
  },
  {
   "cell_type": "code",
   "execution_count": 17,
   "metadata": {},
   "outputs": [
    {
     "name": "stdout",
     "output_type": "stream",
     "text": [
      "-0.0101238333709 -0.00925383337086 0.0101238333709\n",
      "-0.0130604570646 -0.0117554570646 0.0130604570646\n",
      "-0.0168762655277 -0.0151362655277 0.0168762655277\n",
      "-0.0256191431987 -0.0230091431987 0.0256191431987\n",
      "-0.0426451190911 -0.0382951190911 0.0426451190911\n",
      "-0.113651382248 -0.107126382248 0.113651382248\n",
      "-0.221147303438 -0.212447303438 0.221147303438\n",
      "-0.140509552084 -0.129634552084 0.140509552084\n",
      "-0.00925383337086 -0.00925383337086\n",
      "-0.0117554570646 -0.0117554570646\n",
      "-0.0151362655277 -0.0151362655277\n",
      "-0.0230091431987 -0.0230091431987\n",
      "-0.0382951190911 -0.0382951190911\n",
      "-0.107126382248 -0.107126382248\n",
      "-0.212447303438 -0.212447303438\n",
      "-0.129634552084 -0.129634552084\n",
      "Error =  1.01894734992 %\n"
     ]
    }
   ],
   "source": [
    "\"\"\"Flux model\"\"\"\n",
    "S = np.matrix(pandas.read_excel('Data.xlsx',sheetname = 'Succ'))\n",
    "\n",
    "S[7,1] = beta\n",
    "S[0,1] = 1 + alpha\n",
    "\n",
    "def rates(i):\n",
    "    Cxy, Cco2, Cx, Csa, Caa, Cfa  = MBs(i)\n",
    "    C = [Cxy/(150.13/5), Cco2/44.01, Cx/MM, Csa/(118.09/4), Caa/(60.05/2), Cfa/46.03]\n",
    "    CX = C[2]\n",
    "    D = DataS[i,0]\n",
    "    r = np.zeros_like(C)\n",
    "    for j in range(len(C)):\n",
    "        r[j] = D/CX*C[j]\n",
    "        \n",
    "    return r\n",
    "\n",
    "Xerror = []\n",
    "\n",
    "def metafluxs(i):\n",
    "    r = rates(i)\n",
    "    rco2 = r[0] +r[2] + r[3] + r[4] + r[5]\n",
    "    D = DataB[i,0]\n",
    "    specs = np.matrix([0,0,0,0,0,0,0,0,D,r[3],r[4],r[5]]).T\n",
    "    F =  np.linalg.solve(S,specs)\n",
    "    CO2 = F[1,0]*alpha + 1/6*F[4,0] - 1/4*F[8,0] + 1/2*F[10,0]\n",
    "#     Xerror.append((abs(r[1] - CO2)/-r[1])*100)\n",
    "    print (r[1], CO2, rco2)\n",
    "    Xerror.append(abs((r[0] + F[0,0])/r[0])*100)\n",
    "#     print (-r[0], F[0,0])\n",
    "#     print (r[2]- F[1,0])\n",
    "#     print (r[3]- F[18,0] -  F[16,0])\n",
    "#     print (r[4]- F[14,0])\n",
    "#     print (r[5]- 0.5*F[11,0])\n",
    "#     print (r[6]- F[12,0])\n",
    "    \n",
    "    return [F[0,0],F[1,0],F[2,0],F[3,0],F[4,0],F[5,0],F[6,0],F[7,0],F[8,0],F[9,0],F[10,0],F[11,0]]\n",
    "\n",
    "FluxS = [metafluxs(i) for i in Slen]\n",
    "FB =  pandas.DataFrame(columns= ('µ (1/h)','r_xylose (cmol/cmolX/h)','r_CO_2 (cmol/cmolX/h)',\n",
    "                                'r_SA (cmol/cmolX/h)', 'r_AA (cmol/cmolX/h)', 'r_FA (cmol/cmolX/h)'))\n",
    "\n",
    "\n",
    "for i in Slen:\n",
    "    rCO2 = FluxS[i][1]*alpha + 1/6*FluxS[i][4] - 1/4*FluxS[i][8] + 1/2*FluxS[i][10]\n",
    "    Bal = FluxS[i][0] - FluxS[i][1] - FluxS[i][8] - FluxS[i][10] - FluxS[i][11] - 0.5*FluxS[i][11] \n",
    "    print (Bal,rCO2)\n",
    "    FB.loc[i] = [FluxS[i][1], FluxS[i][0], rCO2, FluxS[i][8], FluxS[i][10] + FluxS[i][11], 0.5*FluxS[i][11]]\n",
    "\n",
    "print ('Error = ', sum (Xerror)/len(Xerror), '%')"
   ]
  },
  {
   "cell_type": "code",
   "execution_count": 10,
   "metadata": {},
   "outputs": [
    {
     "ename": "NameError",
     "evalue": "name 'rATPS' is not defined",
     "output_type": "error",
     "traceback": [
      "\u001b[1;31m---------------------------------------------------------------------------\u001b[0m",
      "\u001b[1;31mNameError\u001b[0m                                 Traceback (most recent call last)",
      "\u001b[1;32m<ipython-input-10-f727ee18c864>\u001b[0m in \u001b[0;36m<module>\u001b[1;34m()\u001b[0m\n\u001b[0;32m      8\u001b[0m \u001b[0mplt\u001b[0m\u001b[1;33m.\u001b[0m\u001b[0mtitle\u001b[0m\u001b[1;33m(\u001b[0m\u001b[1;34m'ATP production'\u001b[0m\u001b[1;33m)\u001b[0m\u001b[1;33m\u001b[0m\u001b[0m\n\u001b[0;32m      9\u001b[0m \u001b[0mplt\u001b[0m\u001b[1;33m.\u001b[0m\u001b[0mplot\u001b[0m\u001b[1;33m(\u001b[0m\u001b[0mDB\u001b[0m\u001b[1;33m,\u001b[0m\u001b[0mrATPB\u001b[0m\u001b[1;33m,\u001b[0m\u001b[1;34m'ro'\u001b[0m\u001b[1;33m,\u001b[0m \u001b[0mlabel\u001b[0m \u001b[1;33m=\u001b[0m \u001b[1;34m'Basfia'\u001b[0m\u001b[1;33m)\u001b[0m\u001b[1;33m\u001b[0m\u001b[0m\n\u001b[1;32m---> 10\u001b[1;33m \u001b[0mplt\u001b[0m\u001b[1;33m.\u001b[0m\u001b[0mplot\u001b[0m\u001b[1;33m(\u001b[0m\u001b[0mDS\u001b[0m\u001b[1;33m,\u001b[0m\u001b[0mrATPS\u001b[0m\u001b[1;33m,\u001b[0m\u001b[1;34m'ko'\u001b[0m\u001b[1;33m,\u001b[0m\u001b[0mlabel\u001b[0m \u001b[1;33m=\u001b[0m \u001b[1;34m'Succi'\u001b[0m\u001b[1;33m)\u001b[0m\u001b[1;33m\u001b[0m\u001b[0m\n\u001b[0m\u001b[0;32m     11\u001b[0m \u001b[0mplt\u001b[0m\u001b[1;33m.\u001b[0m\u001b[0mylabel\u001b[0m\u001b[1;33m(\u001b[0m\u001b[1;34m'$r_{ATP}$ (mol/cmolX/h)'\u001b[0m\u001b[1;33m)\u001b[0m\u001b[1;33m\u001b[0m\u001b[0m\n\u001b[0;32m     12\u001b[0m \u001b[0mplt\u001b[0m\u001b[1;33m.\u001b[0m\u001b[0mxlabel\u001b[0m\u001b[1;33m(\u001b[0m\u001b[1;34m'D (1/h)'\u001b[0m\u001b[1;33m)\u001b[0m\u001b[1;33m\u001b[0m\u001b[0m\n",
      "\u001b[1;31mNameError\u001b[0m: name 'rATPS' is not defined"
     ]
    },
    {
     "data": {
      "image/png": "[encoded data removed]",
      "text/plain": [
       "<matplotlib.figure.Figure at 0x18f78e9c668>"
      ]
     },
     "metadata": {},
     "output_type": "display_data"
    }
   ],
   "source": [
    "rATPB = []\n",
    "v6_v4 = []\n",
    "for i in Blen:\n",
    "    rATPB.append(-1/5*FluxB[i][2] + 1/3*FluxB[i][7] + 1/3*FluxB[i][9] + 1/2*FluxB[i][14] + 1/4*FluxB[i][8] + 1/4*FluxB[i][16]) \n",
    "    v6_v4.append(FluxB[i][6]/FluxB[i][4])\n",
    "    \n",
    "plt.figure('ATP')\n",
    "plt.title('ATP production')\n",
    "plt.plot(DB,rATPB,'ro', label = 'Basfia')\n",
    "plt.plot(DS,rATPS,'ko',label = 'Succi')\n",
    "plt.ylabel('$r_{ATP}$ (mol/cmolX/h)')\n",
    "plt.xlabel('D (1/h)')\n",
    "plt.legend(loc = 'best')\n",
    "plt.show()"
   ]
  },
  {
   "cell_type": "code",
   "execution_count": null,
   "metadata": {},
   "outputs": [],
   "source": [
    "plt.figure('Cycle')\n",
    "plt.title('Succinic acid production')\n",
    "plt.plot(FB['µ (1/h)'],FB['r_SA (cmol/cmolX/h)'],'rv', label = \"Basfia\")\n",
    "plt.plot(FS['µ (1/h)'],FS['r_SA (cmol/cmolX/h)'], 'kv',label = \"Succi\")\n",
    "plt.ylabel('Rate (cmol/cmolX/h)')\n",
    "plt.xlabel('D (1/h)')\n",
    "plt.legend(loc = 'best')\n",
    "plt.show()"
   ]
  },
  {
   "cell_type": "code",
   "execution_count": null,
   "metadata": {},
   "outputs": [],
   "source": [
    "plt.figure('Cycle')\n",
    "plt.title('$CO_2$ consumption')\n",
    "plt.plot(FB['µ (1/h)'],-FB['r_CO_2 (cmol/cmolX/h)'],'r*', label = \"Basfia\")\n",
    "plt.plot(FS['µ (1/h)'],-FS['r_CO_2 (cmol/cmolX/h)'], 'k*',label = \"Succi\")\n",
    "plt.ylabel('Rate (cmol/cmolX/h)')\n",
    "plt.xlabel('D (1/h)')\n",
    "plt.legend(loc = 'best')\n",
    "plt.show()"
   ]
  },
  {
   "cell_type": "code",
   "execution_count": null,
   "metadata": {},
   "outputs": [],
   "source": [
    "Sv8 = [FluxS[i][8] for i in Slen]\n",
    "Bv8 = [FluxB[i][8] for i in Blen]\n",
    "\n",
    "plt.figure('Cycle')\n",
    "plt.title('PEP to OXA pathway')\n",
    "plt.plot(FB['µ (1/h)'],Bv8,'rx', label = \"Basfia\")\n",
    "plt.plot(FS['µ (1/h)'],Sv8,'kx',label = \"Succi\")\n",
    "plt.ylabel('Rate (cmol/cmolX/h)')\n",
    "plt.xlabel('D (1/h)')\n",
    "plt.legend(loc = 'best')\n",
    "plt.show()"
   ]
  },
  {
   "cell_type": "code",
   "execution_count": null,
   "metadata": {
    "scrolled": true
   },
   "outputs": [],
   "source": [
    "Bv18 = [FluxB[i][18] for i in Blen]\n",
    "Bv16 = [FluxB[i][16] for i in Blen]\n",
    "\n",
    "plt.figure('Cycle')\n",
    "plt.title('Succinic acid production pathways')\n",
    "plt.plot(FB['µ (1/h)'],Bv18,'rD', label = \"Reductive\")\n",
    "plt.plot(FB['µ (1/h)'],Bv16,'kD',label = \"Oxidative\")\n",
    "plt.ylabel('Rate (cmol/cmolX/h)')\n",
    "plt.xlabel('D (1/h)')\n",
    "plt.legend(loc = 'best')\n",
    "plt.show()"
   ]
  },
  {
   "cell_type": "code",
   "execution_count": null,
   "metadata": {
    "collapsed": true
   },
   "outputs": [],
   "source": []
  }
 ],
 "metadata": {
  "kernelspec": {
   "display_name": "Python 3",
   "language": "python",
   "name": "python3"
  },
  "language_info": {
   "codemirror_mode": {
    "name": "ipython",
    "version": 3
   },
   "file_extension": ".py",
   "mimetype": "text/x-python",
   "name": "python",
   "nbconvert_exporter": "python",
   "pygments_lexer": "ipython3",
   "version": "3.6.3"
  }
 },
 "nbformat": 4,
 "nbformat_minor": 2
}
