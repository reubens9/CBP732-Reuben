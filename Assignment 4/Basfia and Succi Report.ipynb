{
 "cells": [
  {
   "cell_type": "markdown",
   "metadata": {},
   "source": [
    "<center><h1>The metabolic flux analysis and energy production comparison between $Actinobacillus~succinogenes$ and $Basfia~succiniciproducens$"
   ]
  },
  {
   "cell_type": "markdown",
   "metadata": {},
   "source": [
    "## Introduction\n",
    "\n",
    "In a paper recently published in the Biochemical Engineering Journal continuous fermentations were conducted with $Actinobacillus~succinogenes$ ($Succi$) and $Basfia~succiniciproducens$ ($Basfia$). The fermentations were conducted with xylose and a spent sulphite liquor (SSL) in order to determine which organism would produce higher titres of succinic acid. $Succi$ has been widely know to be a good producer of succinic acid however little is known about $Basfia$. \n",
    "\n",
    "In analysis of the paper is was determine that further insight could be obtain with analysis tools such as a metabolic flux analysis as well as mass and energy balances. In order to simplify the analysis only the continuous data from the xylose fermentations will be used. This was decided since the SSl sugar composition isn't fully known and to take multiple sugars into account in a flux analysis unknown variables are added that cannot be solved for."
   ]
  },
  {
   "cell_type": "markdown",
   "metadata": {
    "collapsed": true
   },
   "source": [
    "## Literature\n",
    "\n",
    "### Succinic acid production via continuous fermentation\n",
    "\n",
    "In the paper by Ladakis, Michailid, Vlysidis, Koutinas and Koutinas (2018) is was found that Basfia was able to produce higher concentrations of succinic acid at the dilution rates tested. The same concentration of xylose of 40 g/l was feed for all fermentations conducted at varied dilution rates. In Figure 1 below it can be seen that the highest production of succinic acid for both organisms was at a dilution rate of 0.04 1/h, after which the concentration decreased with an increase in dilution rate. $Succi$ (△) produces less succinic acid compared to $Basfia$ (▲).\n",
    "\n",
    "<img src=\"SA.png\" width=\"350\" />\n",
    "<center><h5> Figure 1: Comparison between the succinic acid production concentrations</center></h5>\n",
    "<br><br>\n",
    "Along with the production of succinic acid both organisms produce by products, for $Succi$ these include acetic acid and formic acid. $Basfia$ produces the same by products as $Succi$ as well as the addition of lactic acid. The products are however in lower concentrations than that of succinic acid. In Figure 2 the concentration profiles of these compound are shown. As the dilution rate increases the by products concentrations decrease for $Succi$ however with $Basfia$ they seem to increase.\n",
    "\n",
    "<img src=\"ByP.png\" width=\"350\" />\n",
    "<center><h5> Figure 2: By product concentration profiles. Acetic acid (▲,△), formic acid (■,□) and lactic acid (●)</center></h5>\n",
    "<br><br>\n",
    "Figure 3 shows that as the dilution rate was increased the amount of xylose consumed decreased. The reason for this can be that the dilution rate is approaching the maximum specific growth rates for both organisms. This results in less biomass in the reactor as can be seen in Figure 4 and a decrease in volumetric consumption of xylose.\n",
    "\n",
    "<img src=\"Xylose.png\" width=\"350\" />\n",
    "<center><h5> Figure 3: Xylose concentration profiles of $Succi$ (△) and $Basfia$ (▲)</center></h5>\n",
    "<br><br>\n",
    "The biomass concentrations shown in Figure 4 are not measured concentrations, the values were determine with the use of a metabolic flux model.\n",
    "\n",
    "<img src=\"CX.png\" width=\"330\" />\n",
    "<center><h5> Figure 4: Biomass concentration profiles of $Succi$ (△) and $Basfia$ (▲)</center></h5>\n",
    "<br><br>\n",
    "\n",
    "<h3>Mass balances</h3>\n",
    "\n",
    "In order to analyses the data fully it is necessary to determine if the mass balance is fully satisfied. The balance must take into account the substrates and products. In this case xylose, $NH_3$ are the reactants with $CO_2$ that functions both as a product and reactant. The products include all of the products specified above as well as water. Equation 1 and 2 show the chemical equations for $Succi$ and $Basfia$ respectfully. \n",
    "<br><br>\n",
    "\n",
    "<center>$$Xylose + CO_2 + NH_3 → X + Succinic~ acid + Acetic ~acid  + Formic~ acid  + Water~~~~~~~~(1)$$</center>\n",
    "\n",
    "<center>$$Xylose + CO_2 + NH_3 → X + Succinic~ acid + Acetic ~acid  + Formic~ acid + Lactic~ acid~~~~(2)$$\n",
    "</center>\n",
    "\n",
    "<br><br>\n",
    "Equations 3 and 4 show the chemical equations for $Succi$ and $Basfia$ respectfully with all the compound in a Cmol base.\n",
    "<br><br>\n",
    "<center>$$CH_2O + CO_2 + NH_3 → CH_{1.896}O_{0.603}N_{0.258} + CH_{1.5}O + CH_2O + CH_2O_2 + H_2O~~~~~~(3)$$</center>\n",
    "\n",
    "<center>$$CH_2O + CO_2 + NH_3 → CH_{1.8}O_{0.5}N_{0.2} + CH_{1.5}O + CH_2O + CH_2O_2 + CH_20~~~~~(4) $$</center>\n",
    "<br><br>\n",
    "As can be seen in Equation 3 above the biomass formula is $CH_{1.896}O_{0.603}N_{0.258}$. This is the Cmol based biomass formula for $Succi$ as has been determined Lexow (2018). The biomass equation for $Basfia$ is unknown therefore the average biomass formula of $CH_{1.8}O_{0.5}N_{0.2}$ will be used in Equation 4. To solve the mass balance a carbon, oxygen, hydrogen and nitrogen balances will be used with the known concentrations of xylose, succinic acid and byproducts.\n",
    "\n",
    "<h3>Metabolic flux analysis</h3>\n",
    "<br><br>\n",
    "A goal of this analysis is to determine the differences between the metabolism and energy production of $Succi$ and $Basfia$. It is therefore required that we known the metabolic pathways of both these organism. Ladakis et al. (2018) was used to determine the pathway for $Basfia$ when xylose is the only substrate and Bradfield (2016) showed the pathways for $Succi$ on xylose. The metabolic pathways can be seen in Figures 5 and 6 for $Succi$ and $Basfia$ respectfully.\n",
    "\n",
    "<img src=\"Succi.png\" width=\"400\" />\n",
    "<center><h5> Figure 5: Metabolic pathways for $Actinobacillus~succinogenes$ with xylose as substrate$</center></h5>\n",
    "<br><br>\n",
    "\n",
    "<img src=\"Basfia.png\" width=\"430\" />\n",
    "<center><h5> Figure 6: Metabolic pathways for $Basfia~succiniciproducens$ with xylose as substrate</center></h5>\n",
    "<br><br>\n",
    "\n",
    "<h3> Continuous fermentation </h3>\n",
    "\n",
    "The data that has been given in Ladakis, et al. (2018) is the steady state concentration of succinic acids, residual glucose and by products. In order to conduct a metabolic flux analysis the production rates of these compounds need to be determined. This is done with the following equations:\n",
    "\n",
    "$$\\frac{dC_i}{dt}=\\frac{Q}{V}(CF_i−C_i)+r_iC_X~~~~~(5)$$\n",
    "\n",
    "At steady state Equation 5 becomes:\n",
    "\n",
    "$$ 0 =\\frac{Q}{V}(CF_i−C_i)+r_iC_X~~~~~~~~~~~(6)$$\n",
    "\n",
    "The individual rate can then be solved for with the following equation.\n",
    "\n",
    "$$ri = \\frac{Q}{C_XV}(CF_i - C_i)~~~~~~~~~~~~~~~~~~(7)$$\n",
    "\n",
    "Equation 7 will then be used to solve for the biomass based rates that will allow for the metabolic flux model to be solve.\n"
   ]
  },
  {
   "cell_type": "markdown",
   "metadata": {
    "collapsed": true
   },
   "source": [
    "<h2> Results and discussion</h2>\n",
    "\n",
    "The analysis of this paper was conducted using the Python coding language in the Jupyter notebook environment. To show the results the following code is run to interpret the data and generate the images that will be shown below. In order to see how the mass balances and metabolic rates were calculated click [here](https://nbviewer.jupyter.org/github/reubens9/CBP732-Reuben/blob/master/Assignment%204/Models.ipynb)."
   ]
  },
  {
   "cell_type": "code",
   "execution_count": 7,
   "metadata": {
    "collapsed": true
   },
   "outputs": [],
   "source": [
    "from Analysis import MB, MS, FS, FB, Biomass_B, Biomass_S, Biomass_errorB, Biomass_errorS"
   ]
  },
  {
   "cell_type": "markdown",
   "metadata": {},
   "source": [
    "<h3> Mass balance</h3>\n",
    "\n",
    "In the paper by Ladakis, et al. (2018) the biomass concentrations were calculated with the use of a metabolic flux model. However, this enables us to compare our mass balance against that of theres. \n",
    "\n",
    "In solving the $Succi$ mass balance it was found that there was a percentage error of"
   ]
  },
  {
   "cell_type": "code",
   "execution_count": 10,
   "metadata": {},
   "outputs": [
    {
     "data": {
      "text/plain": [
       "12.317139874022761"
      ]
     },
     "execution_count": 10,
     "metadata": {},
     "output_type": "execute_result"
    }
   ],
   "source": [
    "Biomass_errorS"
   ]
  },
  {
   "cell_type": "markdown",
   "metadata": {},
   "source": [
    "between the calculated values and that taken from the paper. The biomass concentrations can be seen below."
   ]
  },
  {
   "cell_type": "code",
   "execution_count": 11,
   "metadata": {},
   "outputs": [
    {
     "data": {
      "text/html": [
       "<div>\n",
       "<table border=\"1\" class=\"dataframe\">\n",
       "  <thead>\n",
       "    <tr style=\"text-align: right;\">\n",
       "      <th></th>\n",
       "      <th>Biomass calculated (g/l)</th>\n",
       "      <th>Biomass (g/l) Ladakis, et al. (2018)</th>\n",
       "    </tr>\n",
       "  </thead>\n",
       "  <tbody>\n",
       "    <tr>\n",
       "      <th>0</th>\n",
       "      <td>8.043652</td>\n",
       "      <td>8.268500</td>\n",
       "    </tr>\n",
       "    <tr>\n",
       "      <th>1</th>\n",
       "      <td>8.972723</td>\n",
       "      <td>8.757975</td>\n",
       "    </tr>\n",
       "    <tr>\n",
       "      <th>2</th>\n",
       "      <td>9.074009</td>\n",
       "      <td>8.439278</td>\n",
       "    </tr>\n",
       "    <tr>\n",
       "      <th>3</th>\n",
       "      <td>9.027901</td>\n",
       "      <td>8.346848</td>\n",
       "    </tr>\n",
       "    <tr>\n",
       "      <th>4</th>\n",
       "      <td>8.414268</td>\n",
       "      <td>8.105461</td>\n",
       "    </tr>\n",
       "    <tr>\n",
       "      <th>5</th>\n",
       "      <td>4.680004</td>\n",
       "      <td>4.689667</td>\n",
       "    </tr>\n",
       "    <tr>\n",
       "      <th>6</th>\n",
       "      <td>3.060670</td>\n",
       "      <td>3.096459</td>\n",
       "    </tr>\n",
       "    <tr>\n",
       "      <th>7</th>\n",
       "      <td>4.727327</td>\n",
       "      <td>1.822547</td>\n",
       "    </tr>\n",
       "  </tbody>\n",
       "</table>\n",
       "</div>"
      ],
      "text/plain": [
       "   Biomass calculated (g/l)  Biomass (g/l) Ladakis, et al. (2018)\n",
       "0                  8.043652                              8.268500\n",
       "1                  8.972723                              8.757975\n",
       "2                  9.074009                              8.439278\n",
       "3                  9.027901                              8.346848\n",
       "4                  8.414268                              8.105461\n",
       "5                  4.680004                              4.689667\n",
       "6                  3.060670                              3.096459\n",
       "7                  4.727327                              1.822547"
      ]
     },
     "execution_count": 11,
     "metadata": {},
     "output_type": "execute_result"
    }
   ],
   "source": [
    "Biomass_S"
   ]
  },
  {
   "cell_type": "markdown",
   "metadata": {},
   "source": [
    "The biomass error may be as a result of products such as pyruvate, that were accounted for in there analysis however were not reported in the paper. The total mass balance of $Succi$ can be seen below with the Xylose and $CO_2$ concentrations given as negatives since they were consumed. "
   ]
  },
  {
   "cell_type": "code",
   "execution_count": 12,
   "metadata": {},
   "outputs": [
    {
     "data": {
      "text/html": [
       "<div>\n",
       "<table border=\"1\" class=\"dataframe\">\n",
       "  <thead>\n",
       "    <tr style=\"text-align: right;\">\n",
       "      <th></th>\n",
       "      <th>Dilution (1/h)</th>\n",
       "      <th>Xylose (g/l)</th>\n",
       "      <th>$CO_2$ (g/L)</th>\n",
       "      <th>Biomass (g/l)</th>\n",
       "      <th>Succinic (g/l)</th>\n",
       "      <th>Acetic (g/l)</th>\n",
       "      <th>Formic (g/l)</th>\n",
       "    </tr>\n",
       "  </thead>\n",
       "  <tbody>\n",
       "    <tr>\n",
       "      <th>0</th>\n",
       "      <td>0.02</td>\n",
       "      <td>-38.854806</td>\n",
       "      <td>-6.568074</td>\n",
       "      <td>8.043652</td>\n",
       "      <td>24.086331</td>\n",
       "      <td>7.519863</td>\n",
       "      <td>3.780547</td>\n",
       "    </tr>\n",
       "    <tr>\n",
       "      <th>1</th>\n",
       "      <td>0.03</td>\n",
       "      <td>-36.768916</td>\n",
       "      <td>-6.301315</td>\n",
       "      <td>8.972723</td>\n",
       "      <td>21.035971</td>\n",
       "      <td>6.963219</td>\n",
       "      <td>4.345697</td>\n",
       "    </tr>\n",
       "    <tr>\n",
       "      <th>2</th>\n",
       "      <td>0.04</td>\n",
       "      <td>-35.460123</td>\n",
       "      <td>-6.175688</td>\n",
       "      <td>9.074009</td>\n",
       "      <td>19.769784</td>\n",
       "      <td>6.599193</td>\n",
       "      <td>4.569278</td>\n",
       "    </tr>\n",
       "    <tr>\n",
       "      <th>3</th>\n",
       "      <td>0.06</td>\n",
       "      <td>-34.601227</td>\n",
       "      <td>-6.218275</td>\n",
       "      <td>9.027901</td>\n",
       "      <td>18.503597</td>\n",
       "      <td>6.725687</td>\n",
       "      <td>5.155174</td>\n",
       "    </tr>\n",
       "    <tr>\n",
       "      <th>4</th>\n",
       "      <td>0.10</td>\n",
       "      <td>-33.456033</td>\n",
       "      <td>-5.788359</td>\n",
       "      <td>8.414268</td>\n",
       "      <td>18.043165</td>\n",
       "      <td>6.871992</td>\n",
       "      <td>4.478830</td>\n",
       "    </tr>\n",
       "    <tr>\n",
       "      <th>5</th>\n",
       "      <td>0.15</td>\n",
       "      <td>-29.529652</td>\n",
       "      <td>-5.720046</td>\n",
       "      <td>4.680004</td>\n",
       "      <td>17.928058</td>\n",
       "      <td>7.017208</td>\n",
       "      <td>4.645413</td>\n",
       "    </tr>\n",
       "    <tr>\n",
       "      <th>6</th>\n",
       "      <td>0.20</td>\n",
       "      <td>-26.421268</td>\n",
       "      <td>-5.459313</td>\n",
       "      <td>3.060670</td>\n",
       "      <td>16.834532</td>\n",
       "      <td>6.628184</td>\n",
       "      <td>4.641005</td>\n",
       "    </tr>\n",
       "    <tr>\n",
       "      <th>7</th>\n",
       "      <td>0.25</td>\n",
       "      <td>-22.617587</td>\n",
       "      <td>-4.285991</td>\n",
       "      <td>4.727327</td>\n",
       "      <td>12.000000</td>\n",
       "      <td>5.555556</td>\n",
       "      <td>3.952991</td>\n",
       "    </tr>\n",
       "  </tbody>\n",
       "</table>\n",
       "</div>"
      ],
      "text/plain": [
       "   Dilution (1/h)  Xylose (g/l)  $CO_2$ (g/L)  Biomass (g/l)  Succinic (g/l)  \\\n",
       "0            0.02    -38.854806     -6.568074       8.043652       24.086331   \n",
       "1            0.03    -36.768916     -6.301315       8.972723       21.035971   \n",
       "2            0.04    -35.460123     -6.175688       9.074009       19.769784   \n",
       "3            0.06    -34.601227     -6.218275       9.027901       18.503597   \n",
       "4            0.10    -33.456033     -5.788359       8.414268       18.043165   \n",
       "5            0.15    -29.529652     -5.720046       4.680004       17.928058   \n",
       "6            0.20    -26.421268     -5.459313       3.060670       16.834532   \n",
       "7            0.25    -22.617587     -4.285991       4.727327       12.000000   \n",
       "\n",
       "   Acetic (g/l)  Formic (g/l)  \n",
       "0      7.519863      3.780547  \n",
       "1      6.963219      4.345697  \n",
       "2      6.599193      4.569278  \n",
       "3      6.725687      5.155174  \n",
       "4      6.871992      4.478830  \n",
       "5      7.017208      4.645413  \n",
       "6      6.628184      4.641005  \n",
       "7      5.555556      3.952991  "
      ]
     },
     "execution_count": 12,
     "metadata": {},
     "output_type": "execute_result"
    }
   ],
   "source": [
    "MS"
   ]
  },
  {
   "cell_type": "markdown",
   "metadata": {},
   "source": [
    "The mass balance of $Basfia$ was then conducted and it was found that the biomass percentage error was  "
   ]
  },
  {
   "cell_type": "code",
   "execution_count": 13,
   "metadata": {},
   "outputs": [
    {
     "data": {
      "text/plain": [
       "11.849018163426061"
      ]
     },
     "execution_count": 13,
     "metadata": {},
     "output_type": "execute_result"
    }
   ],
   "source": [
    "Biomass_errorB"
   ]
  },
  {
   "cell_type": "markdown",
   "metadata": {},
   "source": [
    "This error is comparable to that of the $Succi$ mass balance. The error could also indicate that there is possibly another carbon sink that has not been taken into account. The production of ethanol is one possibility however no production of ethanol is reported in the paper. Below one can see that the difference between the biomass values are not very large and do follow a similar decreasing trend."
   ]
  },
  {
   "cell_type": "code",
   "execution_count": 5,
   "metadata": {},
   "outputs": [
    {
     "data": {
      "text/html": [
       "<div>\n",
       "<table border=\"1\" class=\"dataframe\">\n",
       "  <thead>\n",
       "    <tr style=\"text-align: right;\">\n",
       "      <th></th>\n",
       "      <th>Biomass calculated (g/l)</th>\n",
       "      <th>Biomass (g/l) Ladakis, et al. (2018)</th>\n",
       "    </tr>\n",
       "  </thead>\n",
       "  <tbody>\n",
       "    <tr>\n",
       "      <th>0</th>\n",
       "      <td>5.177417</td>\n",
       "      <td>5.488145</td>\n",
       "    </tr>\n",
       "    <tr>\n",
       "      <th>1</th>\n",
       "      <td>4.370697</td>\n",
       "      <td>4.531535</td>\n",
       "    </tr>\n",
       "    <tr>\n",
       "      <th>2</th>\n",
       "      <td>2.517662</td>\n",
       "      <td>2.636464</td>\n",
       "    </tr>\n",
       "    <tr>\n",
       "      <th>3</th>\n",
       "      <td>2.049101</td>\n",
       "      <td>2.563182</td>\n",
       "    </tr>\n",
       "    <tr>\n",
       "      <th>4</th>\n",
       "      <td>1.821668</td>\n",
       "      <td>1.965719</td>\n",
       "    </tr>\n",
       "  </tbody>\n",
       "</table>\n",
       "</div>"
      ],
      "text/plain": [
       "   Biomass calculated (g/l)  Biomass (g/l) Ladakis, et al. (2018)\n",
       "0                  5.177417                              5.488145\n",
       "1                  4.370697                              4.531535\n",
       "2                  2.517662                              2.636464\n",
       "3                  2.049101                              2.563182\n",
       "4                  1.821668                              1.965719"
      ]
     },
     "execution_count": 5,
     "metadata": {},
     "output_type": "execute_result"
    }
   ],
   "source": [
    "Biomass_B"
   ]
  },
  {
   "cell_type": "markdown",
   "metadata": {},
   "source": [
    "The total $Basfia$ mass balance can be seen below."
   ]
  },
  {
   "cell_type": "code",
   "execution_count": 14,
   "metadata": {},
   "outputs": [
    {
     "data": {
      "text/html": [
       "<div>\n",
       "<table border=\"1\" class=\"dataframe\">\n",
       "  <thead>\n",
       "    <tr style=\"text-align: right;\">\n",
       "      <th></th>\n",
       "      <th>Dilution (1/h)</th>\n",
       "      <th>Xylose (g/l)</th>\n",
       "      <th>$CO_2$ (g/L)</th>\n",
       "      <th>Biomass (g/l)</th>\n",
       "      <th>Succinic (g/l)</th>\n",
       "      <th>Acetic (g/l)</th>\n",
       "      <th>Formic (g/l)</th>\n",
       "      <th>Lactic (g/l)</th>\n",
       "    </tr>\n",
       "  </thead>\n",
       "  <tbody>\n",
       "    <tr>\n",
       "      <th>0</th>\n",
       "      <td>0.02</td>\n",
       "      <td>-36.427105</td>\n",
       "      <td>-5.940541</td>\n",
       "      <td>5.177417</td>\n",
       "      <td>24.201439</td>\n",
       "      <td>6.322867</td>\n",
       "      <td>3.961756</td>\n",
       "      <td>0.639107</td>\n",
       "    </tr>\n",
       "    <tr>\n",
       "      <th>1</th>\n",
       "      <td>0.04</td>\n",
       "      <td>-34.784394</td>\n",
       "      <td>-5.748282</td>\n",
       "      <td>4.370697</td>\n",
       "      <td>23.280576</td>\n",
       "      <td>5.808180</td>\n",
       "      <td>3.767582</td>\n",
       "      <td>1.427838</td>\n",
       "    </tr>\n",
       "    <tr>\n",
       "      <th>2</th>\n",
       "      <td>0.08</td>\n",
       "      <td>-32.566735</td>\n",
       "      <td>-6.025993</td>\n",
       "      <td>2.517662</td>\n",
       "      <td>22.820144</td>\n",
       "      <td>5.944061</td>\n",
       "      <td>4.181240</td>\n",
       "      <td>1.723975</td>\n",
       "    </tr>\n",
       "    <tr>\n",
       "      <th>3</th>\n",
       "      <td>0.10</td>\n",
       "      <td>-30.882957</td>\n",
       "      <td>-5.979029</td>\n",
       "      <td>2.049101</td>\n",
       "      <td>22.129496</td>\n",
       "      <td>5.664105</td>\n",
       "      <td>4.264532</td>\n",
       "      <td>1.508122</td>\n",
       "    </tr>\n",
       "    <tr>\n",
       "      <th>4</th>\n",
       "      <td>0.15</td>\n",
       "      <td>-29.527721</td>\n",
       "      <td>-5.883977</td>\n",
       "      <td>1.821668</td>\n",
       "      <td>20.863309</td>\n",
       "      <td>5.585066</td>\n",
       "      <td>4.516689</td>\n",
       "      <td>1.567972</td>\n",
       "    </tr>\n",
       "  </tbody>\n",
       "</table>\n",
       "</div>"
      ],
      "text/plain": [
       "   Dilution (1/h)  Xylose (g/l)  $CO_2$ (g/L)  Biomass (g/l)  Succinic (g/l)  \\\n",
       "0            0.02    -36.427105     -5.940541       5.177417       24.201439   \n",
       "1            0.04    -34.784394     -5.748282       4.370697       23.280576   \n",
       "2            0.08    -32.566735     -6.025993       2.517662       22.820144   \n",
       "3            0.10    -30.882957     -5.979029       2.049101       22.129496   \n",
       "4            0.15    -29.527721     -5.883977       1.821668       20.863309   \n",
       "\n",
       "   Acetic (g/l)  Formic (g/l)  Lactic (g/l)  \n",
       "0      6.322867      3.961756      0.639107  \n",
       "1      5.808180      3.767582      1.427838  \n",
       "2      5.944061      4.181240      1.723975  \n",
       "3      5.664105      4.264532      1.508122  \n",
       "4      5.585066      4.516689      1.567972  "
      ]
     },
     "execution_count": 14,
     "metadata": {},
     "output_type": "execute_result"
    }
   ],
   "source": [
    "MB"
   ]
  },
  {
   "cell_type": "markdown",
   "metadata": {},
   "source": [
    "The mass balance above shows the $CO_2$ values remain very constant even thought the biomass concentration decrease with an increase in dilution rate. This may contribute to $Basfia's$ higher succinic acid production rates."
   ]
  },
  {
   "cell_type": "markdown",
   "metadata": {},
   "source": [
    "<h3>Metabolic flux analysis</h3>\n",
    "\n",
    "Flux analysis were conducted to allow for the inner metabolic pathways to be quantified. This allows for a more detailed comparison between the two organism. The metabolic pathways for both the respective organisms as can be seen in Figures 5 and 6 were used to develop a rate matrix. The rate matrix consist of nodal balances, stoichiometric specifications, an NADH balance as well as rate specifications. The production and consumption rates of the specific components were calculated and then used as specifications to solve for the internal metabolic rates. It was found that the mass balances and metabolic flux models achieved the same solutions with negligible errors.\n",
    "\n",
    "When analysing the metabolic pathways it can be seen that the major difference between $Succi$ and $Basfia$ is the presence of the full tricarboxylic acid cycle in $Basfia$. This analysis enables us to determine to what extent this difference makes a impact in the metabolism of xylose. From Figure 1 it can be seen that $Basfia$ produces succinic acid in higher concentrations, this translates to higher rates of production as can be seen in Figure 7\n",
    "\n",
    "<img src=\"SUC.png\" width=\"430\" />\n",
    "<center><h5> Figure 7: Comparison between the succinate production rate of $Basfia$ and $Succi$</center>\n",
    "<br><br>\n",
    "\n",
    "The figure above clearly shows that $Basfia$ is far more effective at producing succinic acid, possible causes for this is a greater production of NADH through the oxidative branch of the TCA cycle. If more NADH is produced then a greater NADH sink is required which will result in more succinic acid. This therefore is definatly part of the reason however may not be the complete reason. Since the internal metabolic fluxes have been determine its now possible to determine the ATP production as can be seen in Figure 8.\n",
    "\n",
    "<img src=\"ATP.png\" width=\"430\" />\n",
    "<center><h5> Figure 8: Comparison between the ATP production rate of $Basfia$ and $Succi$</center>\n",
    "<br><br>\n",
    "\n",
    "This figure shows a very similar trend as shown in Figure 7. The ATP production is far greater for that of $Basfia$, this greater ATP production may enable $Basia$ more energy to pump succinate into the medium and therefore increase its succinate production. The reason for this similarity between Figure 7 and 8 may however, be far simpler. If one looks at the pathway used to produce succinate in $Basfia$ (Figure 6) it can be seen that if the reductive branch of the of the TCA cycle is used then ATP is produced along with succinic acid.\n",
    "\n",
    "The phosphoenolpyruvate carboxylase enzyme is present in both $Succi$ and $Basfia$. This enzyme converts phosphoenolpyruvate (PEP) to oxaloacetate with the consumption of $CO_2$. In Figure 9 it can be seen that this enzyme is far more active in $Basfia$ than in $Succi$. This explains both the higher succinic acid production as well as the ATP production rate.\n",
    "\n",
    "<img src=\"PEPOXA.png\" width=\"430\" />\n",
    "<center><h5> Figure 9: Comparison between the activity of phosphoenolpyruvate carboxylase in $Basfia$ and $Succi$</center>\n",
    "<br><br>\n",
    "\n",
    "The increased activity of this enzyme should then also affect the amount of $CO_2$ that is consumed. It could be the causation of the almost constant $CO_2$ consumption that was notices when analysing the $Basfia$ mass balance. Figure 10 shows that the consumption of $CO_2$ is far greater for $Basfia$\n",
    "\n",
    "<img src=\"CO2.png\" width=\"430\" />\n",
    "<center><h5> Figure 10: Comparison between the $CO_2$ consumption in $Basfia$ and $Succi$</center>\n",
    "<br><br>\n",
    "<img src=\"X.png\" width=\"430\" />\n",
    "<center><h5> Figure 11: Comparison between the xylose consumption in $Basfia$ and $Succi$</center>\n",
    "<br><br>\n",
    "\n",
    "In order to have all these rates operating a higher levels more carbon will have to be used, this is seen in the consumption of $CO_2$ as well as in Figure 11 the consumption of xylose. At some points $Basfia's$ xylose consumption is more than double that of $Succi$ at the same dilution rate. However, the question still hasn't been answered whether the oxidative branch in $Basfia$ is the cause of the higher succinate production rate. Figure 12 shows that all the succinate seems to be produced through the reductive branch and oxidative branches are inactive. This is possibly a means of the organism to optimise its metabolic pathways to produce succinic acid.\n",
    "\n",
    "<img src=\"REDOX.png\" width=\"430\" />\n",
    "<center><h5> Figure 12: Comparison between the reductive and oxidative branch of the TCA cycle in $Basfia$</center>\n",
    "<br><br>"
   ]
  },
  {
   "cell_type": "markdown",
   "metadata": {},
   "source": [
    "<h2> Conclusion </h2>\n",
    "\n",
    "It can clearly be seen that $Basfia$ is able to produce succinic acid at far higher rates than $Succi$. The mass balance as well as metabolic flux analysis has lead to believe that the phosphoenolpyruvate carboxylase enzyme is more active in $Basfia$. This leads to more ATP being produced, more $CO_2$ being consumed and the higher production of succinic acid. It has also been seen that under these conditions of high succinate production the oxidative branch of the TCA cycle has been shutdown. All carbon is then channeled through the reductive pathways."
   ]
  }
 ],
 "metadata": {
  "kernelspec": {
   "display_name": "Python 3",
   "language": "python",
   "name": "python3"
  },
  "language_info": {
   "codemirror_mode": {
    "name": "ipython",
    "version": 3
   },
   "file_extension": ".py",
   "mimetype": "text/x-python",
   "name": "python",
   "nbconvert_exporter": "python",
   "pygments_lexer": "ipython3",
   "version": "3.5.3"
  }
 },
 "nbformat": 4,
 "nbformat_minor": 2
}
