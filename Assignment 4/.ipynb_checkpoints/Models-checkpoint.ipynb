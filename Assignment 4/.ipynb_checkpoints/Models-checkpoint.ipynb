{
 "cells": [
  {
   "cell_type": "code",
   "execution_count": 7,
   "metadata": {
    "collapsed": true
   },
   "outputs": [],
   "source": [
    "from scipy.integrate import odeint\n",
    "from scipy.optimize import fsolve\n",
    "import numpy as np\n",
    "from matplotlib import pyplot as plt\n",
    "import pandas\n",
    "import operator\n",
    "%matplotlib inline"
   ]
  },
  {
   "cell_type": "markdown",
   "metadata": {},
   "source": [
    "# $Succi$"
   ]
  },
  {
   "cell_type": "markdown",
   "metadata": {},
   "source": [
    "##  Mass balance\n",
    "\n",
    "$$Xylose + CO_2 + NH_3 = X + Succinic~ acid + Acetic ~acid  + Formic~ acid  + Water$$\n",
    "\n",
    "\n",
    "$$CH_2O + CO_2 + NH_3= CH_{1.896}O_{0.603}N_{0.258} + CH_{1.5}O + CH_2O + CH_2O_2 + H_2O$$\n",
    "\n",
    "## Metabolic flux model\n",
    "<img src=\"succi.png\" width=\"400\" />"
   ]
  },
  {
   "cell_type": "code",
   "execution_count": 80,
   "metadata": {},
   "outputs": [
    {
     "data": {
      "text/plain": [
       "27.282336800000003"
      ]
     },
     "execution_count": 80,
     "metadata": {},
     "output_type": "execute_result"
    }
   ],
   "source": [
    "\"\"\"Mass balance\"\"\"\n",
    "\n",
    "Mass_S = np.matrix([[1,1,1    ,1,  1,1,0,0],    #C\n",
    "                    [2,0,1.896,1.5,2,2,2,3],    #H\n",
    "                    [1,2,0.603,1,  1,2,1,0],    #O\n",
    "                    [0,0,0.258,0,  0,0,0,1],    #N   \n",
    "                   [-1,0,0,    0,  0,0,0,0],    #Xylose\n",
    "                    [0,0,0,    1,  0,0,0,0],    #Succinic acid\n",
    "                    [0,0,0,    0,  1,0,0,0],    #Acetic acid \n",
    "                    [0,0,0,    0,  0,1,0,0],    #Formic acid\n",
    "                   ])\n",
    "\n",
    "#Average Yeast composition (C=47, N= 7.5%, H=6.5, O=31) \n",
    "# from Atkinson and Mavituna, Biochemical Engineering and biotechnology Handbook.\n",
    "MM = 12.11 + 1.0078*1.896 + 16*0.603 + 14.006*0.258\n",
    "MM \n"
   ]
  },
  {
   "cell_type": "code",
   "execution_count": 81,
   "metadata": {},
   "outputs": [
    {
     "name": "stdout",
     "output_type": "stream",
     "text": [
      "C balance error =  -4.16333634234e-17\n",
      "Biomass error =  12.317139874 %\n"
     ]
    }
   ],
   "source": [
    "DataS = pandas.read_excel('Data.xlsx',sheetname = 'SData')\n",
    "# print (DataS)\n",
    "DataS = np.array(DataS)\n",
    "Slen = range(len(DataS))\n",
    "Results = pandas.ExcelWriter('Results.xlsx')\n",
    "\n",
    "def MBs(i): \n",
    "    \"Component order = Xylose, CO2, X, SA, AA, FA, H20\"\n",
    "    B = np.matrix([0,0,0,0,(40 - DataS[i,1])/(150.13/5),DataS[i,2]/(118.09/4),DataS[i,3]/(60.05/2) ,DataS[i,4]/46.03]).T\n",
    "    X = np.linalg.solve(Mass_S,B)\n",
    "    return [X[0,0]*(150.13/5), X[1,0]*44.01, X[2,0]*MM, X[3,0]*(118.09/4), X[4,0]*(60.05/2), X[5,0]*46.03]\n",
    "\n",
    "MB_Succi = [MBs(i) for i in Slen]\n",
    "DS = list(DataS[:,0])\n",
    "BS = list(DataS[:,5])\n",
    "\n",
    "MB = pandas.DataFrame(columns= [\"Dilution (1/h)\",  \"Xylose (g/l)\", \"$CO_2$ (g/L)\",\"Biomass (g/l)\",\n",
    "                                       \"Succinic (g/l)\",  \"Acetic (g/l)\",  \"Formic (g/l)\"])\n",
    "Biomass_S = pandas.DataFrame(columns= [\"Biomass calculated (g/l)\",\"Biomass (g/l) Ladakis, et al. (2018)\"])\n",
    "\n",
    "for i in Slen:\n",
    "    MB.loc[i] = [DS[i]] + MB_Succi[i]\n",
    "\n",
    "LS = list(MB['Biomass (g/l)'])\n",
    "for i in Slen:\n",
    "    Biomass_S.loc[i] =  [LS[i]] + [BS[i]]\n",
    "    \n",
    "Xe = sum(abs((MB['Biomass (g/l)'] - DataS[:,5])/MB['Biomass (g/l)']))/Slen[-1] * 100\n",
    "\n",
    "\n",
    "Balance =  MB['Xylose (g/l)']/(150.13/5) + MB['$CO_2$ (g/L)']/44.01 + (MB['Biomass (g/l)']/MM +\n",
    "                 MB['Succinic (g/l)']/(118.09/4) + MB['Acetic (g/l)']/(60.05/2) + MB['Formic (g/l)']/46.03)\n",
    "                                            \n",
    "print ('C balance error = ',sum(Balance)/len(Balance))\n",
    "print ('Biomass error = ',Xe,'%')"
   ]
  },
  {
   "cell_type": "code",
   "execution_count": 84,
   "metadata": {},
   "outputs": [
    {
     "name": "stdout",
     "output_type": "stream",
     "text": [
      "0.0553446734753\n",
      "0.0649962065886\n",
      "0.0805362058327\n",
      "0.113644662588\n",
      "0.198164027813\n",
      "0.531014903664\n",
      "1.01658316339\n",
      "0.58645413063\n",
      "CO2 error =  8.85723429563e-14 %\n",
      "0    0.055345\n",
      "1    0.064996\n",
      "2    0.080536\n",
      "3    0.113645\n",
      "4    0.198164\n",
      "5    0.531015\n",
      "6    1.016583\n",
      "7    0.586454\n",
      "dtype: float64\n"
     ]
    },
    {
     "data": {
      "text/html": [
       "<div>\n",
       "<style>\n",
       "    .dataframe thead tr:only-child th {\n",
       "        text-align: right;\n",
       "    }\n",
       "\n",
       "    .dataframe thead th {\n",
       "        text-align: left;\n",
       "    }\n",
       "\n",
       "    .dataframe tbody tr th {\n",
       "        vertical-align: top;\n",
       "    }\n",
       "</style>\n",
       "<table border=\"1\" class=\"dataframe\">\n",
       "  <thead>\n",
       "    <tr style=\"text-align: right;\">\n",
       "      <th></th>\n",
       "      <th>µ (1/h)</th>\n",
       "      <th>r_xylose (cmol/cmolX/h)</th>\n",
       "      <th>r_CO_2 (cmol/cmolX/h)</th>\n",
       "      <th>r_SA (cmol/cmolX/h)</th>\n",
       "      <th>r_AA (cmol/cmolX/h)</th>\n",
       "      <th>r_FA (cmol/cmolX/h)</th>\n",
       "    </tr>\n",
       "  </thead>\n",
       "  <tbody>\n",
       "    <tr>\n",
       "      <th>0</th>\n",
       "      <td>0.02</td>\n",
       "      <td>0.087782</td>\n",
       "      <td>-0.010124</td>\n",
       "      <td>0.055345</td>\n",
       "      <td>0.016990</td>\n",
       "      <td>0.005571</td>\n",
       "    </tr>\n",
       "    <tr>\n",
       "      <th>1</th>\n",
       "      <td>0.03</td>\n",
       "      <td>0.111702</td>\n",
       "      <td>-0.013060</td>\n",
       "      <td>0.064996</td>\n",
       "      <td>0.021155</td>\n",
       "      <td>0.008612</td>\n",
       "    </tr>\n",
       "    <tr>\n",
       "      <th>2</th>\n",
       "      <td>0.04</td>\n",
       "      <td>0.142032</td>\n",
       "      <td>-0.016876</td>\n",
       "      <td>0.080536</td>\n",
       "      <td>0.026433</td>\n",
       "      <td>0.011938</td>\n",
       "    </tr>\n",
       "    <tr>\n",
       "      <th>3</th>\n",
       "      <td>0.06</td>\n",
       "      <td>0.208949</td>\n",
       "      <td>-0.025619</td>\n",
       "      <td>0.113645</td>\n",
       "      <td>0.040616</td>\n",
       "      <td>0.020307</td>\n",
       "    </tr>\n",
       "    <tr>\n",
       "      <th>4</th>\n",
       "      <td>0.10</td>\n",
       "      <td>0.361279</td>\n",
       "      <td>-0.042645</td>\n",
       "      <td>0.198164</td>\n",
       "      <td>0.074210</td>\n",
       "      <td>0.031549</td>\n",
       "    </tr>\n",
       "    <tr>\n",
       "      <th>5</th>\n",
       "      <td>0.15</td>\n",
       "      <td>0.859978</td>\n",
       "      <td>-0.113651</td>\n",
       "      <td>0.531015</td>\n",
       "      <td>0.204366</td>\n",
       "      <td>0.088249</td>\n",
       "    </tr>\n",
       "    <tr>\n",
       "      <th>6</th>\n",
       "      <td>0.20</td>\n",
       "      <td>1.568741</td>\n",
       "      <td>-0.221147</td>\n",
       "      <td>1.016583</td>\n",
       "      <td>0.393556</td>\n",
       "      <td>0.179749</td>\n",
       "    </tr>\n",
       "    <tr>\n",
       "      <th>7</th>\n",
       "      <td>0.25</td>\n",
       "      <td>1.086813</td>\n",
       "      <td>-0.140510</td>\n",
       "      <td>0.586454</td>\n",
       "      <td>0.266963</td>\n",
       "      <td>0.123906</td>\n",
       "    </tr>\n",
       "  </tbody>\n",
       "</table>\n",
       "</div>"
      ],
      "text/plain": [
       "   µ (1/h)  r_xylose (cmol/cmolX/h)  r_CO_2 (cmol/cmolX/h)  \\\n",
       "0     0.02                 0.087782              -0.010124   \n",
       "1     0.03                 0.111702              -0.013060   \n",
       "2     0.04                 0.142032              -0.016876   \n",
       "3     0.06                 0.208949              -0.025619   \n",
       "4     0.10                 0.361279              -0.042645   \n",
       "5     0.15                 0.859978              -0.113651   \n",
       "6     0.20                 1.568741              -0.221147   \n",
       "7     0.25                 1.086813              -0.140510   \n",
       "\n",
       "   r_SA (cmol/cmolX/h)  r_AA (cmol/cmolX/h)  r_FA (cmol/cmolX/h)  \n",
       "0             0.055345             0.016990             0.005571  \n",
       "1             0.064996             0.021155             0.008612  \n",
       "2             0.080536             0.026433             0.011938  \n",
       "3             0.113645             0.040616             0.020307  \n",
       "4             0.198164             0.074210             0.031549  \n",
       "5             0.531015             0.204366             0.088249  \n",
       "6             1.016583             0.393556             0.179749  \n",
       "7             0.586454             0.266963             0.123906  "
      ]
     },
     "execution_count": 84,
     "metadata": {},
     "output_type": "execute_result"
    }
   ],
   "source": [
    "\"\"\"Flux model\"\"\"\n",
    "\n",
    "S = np.matrix(pandas.read_excel('Data.xlsx',sheetname = 'Succ'))\n",
    "alpha, beta = 0.105, 0.165\n",
    "\n",
    "def rates(i):\n",
    "    Cxy, Cco2, Cx, Csa, Caa, Cfa = MBs(i)\n",
    "    C = [Cxy/(150.13/5), Cco2/44.01, Cx/MM, Csa/(118.09/4), Caa/(60.05/2), Cfa/46.03]\n",
    "    CX = C[2]\n",
    "    D = DataS[i,0]\n",
    "    r = np.zeros_like(C)\n",
    "    for j in range(len(C)):\n",
    "        r[j] = D*C[j]/CX\n",
    "        \n",
    "    return r\n",
    "Xerror = []\n",
    "def metafluxs(i):\n",
    "    r = rates(i)\n",
    "    rco2 = r[0] + r[2] + r[3] + r[4] + r[5]\n",
    "    D = DataS[i,0]\n",
    "    specs = np.matrix([0,0,0,0,0,0,-r[0],0,D,r[3],r[4],r[5]]).T\n",
    "    F =  np.linalg.solve(S,specs)\n",
    "    CO2 = F[1,0]*alpha + 1/6*F[4,0] - 1/4*F[8,0] + 1/2*F[10,0]\n",
    "    Xerror.append(abs((r[1] - CO2)/r[1])*100)\n",
    "#     print (r[1], CO2, rco2)\n",
    "#     print (-r[0], F[0,0])\n",
    "#     print (r[2]- F[1,0])\n",
    "#     print (r[3]- F[8,0])\n",
    "#     print (r[4]- F[10,0] - F[11,0])\n",
    "#     print (r[5]- 0.5*F[11,0])\n",
    "    print (r[3])\n",
    "    return [F[0,0],F[1,0],F[2,0],F[3,0],F[4,0],F[5,0],F[6,0],F[7,0],F[8,0],F[9,0],F[10,0],F[11,0]]\n",
    "\n",
    "FluxS = [metafluxs(i) for i in Slen]\n",
    "FS =  pandas.DataFrame(columns= ('µ (1/h)','r_xylose (cmol/cmolX/h)','r_CO_2 (cmol/cmolX/h)',\n",
    "                                'r_SA (cmol/cmolX/h)', 'r_AA (cmol/cmolX/h)', 'r_FA (cmol/cmolX/h)',))\n",
    "\n",
    "\n",
    "for i in Slen:\n",
    "    rCO2 = FluxS[i][1]*alpha + 1/6*FluxS[i][4] - 1/4*FluxS[i][8] + 1/2*FluxS[i][10]\n",
    "\n",
    "    Bal = FluxS[i][0] - FluxS[i][1] - FluxS[i][8] - FluxS[i][10] - FluxS[i][11] - 0.5*FluxS[i][11]\n",
    "#     print (Bal, rCO2)\n",
    "\n",
    "    FS.loc[i] = [FluxS[i][1], FluxS[i][0], rCO2, FluxS[i][8], FluxS[i][10] + FluxS[i][11], 0.5*FluxS[i][11]]\n",
    "\n",
    "print ('CO2 error = ', sum(Xerror)/len(Xerror), '%')\n",
    "print (MB['Dilution (1/h)']*MB['Succinic (g/l)']/(118.09/4)/(MB['Biomass (g/l)']/MM))\n",
    "FS"
   ]
  },
  {
   "cell_type": "markdown",
   "metadata": {},
   "source": [
    "#  $Basfia$"
   ]
  },
  {
   "cell_type": "markdown",
   "metadata": {},
   "source": [
    "## Mass balance\n",
    "\n",
    "$$Xylose + CO_2 + NH_3 = X + Succinic~ acid + Acetic ~acid  + Formic~ acid + Lactic~ acid$$\n",
    "\n",
    "\n",
    "$$CH_2O + CO_2 + NH_3= CH_{1.896}O_{0.603}N_{0.258} + CH_{1.5}O + CH_2O + CH_2O_2 + CH_20 $$\n",
    "\n",
    "## Metabolic flux model\n",
    "\n",
    "<img src=\"Basfia.png\" width=\"400\" />"
   ]
  },
  {
   "cell_type": "code",
   "execution_count": 11,
   "metadata": {},
   "outputs": [
    {
     "data": {
      "text/plain": [
       "24.6"
      ]
     },
     "execution_count": 11,
     "metadata": {},
     "output_type": "execute_result"
    }
   ],
   "source": [
    "\"\"\"Mass balance\"\"\"\n",
    "\n",
    "Mass_B = np.matrix([[1,1,1,1,1,1,1,0,0],  #C\n",
    "                    [2,0,1.896,1.5,2,2,2,2,3], #H\n",
    "                    [1,2,0.603,1,1,2,1,1,0],   #O\n",
    "                    [0,0,0,0,0,0,0,0,1],       #N\n",
    "                   [-1,0,0,0,0,0,0,0,0],      #Xylose\n",
    "                    [0,0,0,1,0,0,0,0,0],       #Succinic acid\n",
    "                    [0,0,0,0,1,0,0,0,0],       #Acetic acid \n",
    "                    [0,0,0,0,0,1,0,0,0],       #Formic acid\n",
    "                    [0,0,0,0,0,0,1,0,0],       #Lactic acid\n",
    "                  ])\n",
    "\n",
    "MM = 12 + 1.8 + 16*0.5 + 14*0.2\n",
    "MM"
   ]
  },
  {
   "cell_type": "code",
   "execution_count": 56,
   "metadata": {},
   "outputs": [
    {
     "name": "stdout",
     "output_type": "stream",
     "text": [
      "Biomass error =  48.6130602924 %\n",
      "C balance error =  4.4408920985e-17\n"
     ]
    },
    {
     "data": {
      "text/html": [
       "<div>\n",
       "<style>\n",
       "    .dataframe thead tr:only-child th {\n",
       "        text-align: right;\n",
       "    }\n",
       "\n",
       "    .dataframe thead th {\n",
       "        text-align: left;\n",
       "    }\n",
       "\n",
       "    .dataframe tbody tr th {\n",
       "        vertical-align: top;\n",
       "    }\n",
       "</style>\n",
       "<table border=\"1\" class=\"dataframe\">\n",
       "  <thead>\n",
       "    <tr style=\"text-align: right;\">\n",
       "      <th></th>\n",
       "      <th>Biomass calculated (g/l)</th>\n",
       "      <th>Biomass (g/l) Ladakis, et al. (2018)</th>\n",
       "    </tr>\n",
       "  </thead>\n",
       "  <tbody>\n",
       "    <tr>\n",
       "      <th>0</th>\n",
       "      <td>5.609302</td>\n",
       "      <td>5.488145</td>\n",
       "    </tr>\n",
       "    <tr>\n",
       "      <th>1</th>\n",
       "      <td>5.757660</td>\n",
       "      <td>4.531535</td>\n",
       "    </tr>\n",
       "    <tr>\n",
       "      <th>2</th>\n",
       "      <td>5.626993</td>\n",
       "      <td>2.636464</td>\n",
       "    </tr>\n",
       "    <tr>\n",
       "      <th>3</th>\n",
       "      <td>5.743105</td>\n",
       "      <td>2.563182</td>\n",
       "    </tr>\n",
       "    <tr>\n",
       "      <th>4</th>\n",
       "      <td>5.239296</td>\n",
       "      <td>1.965719</td>\n",
       "    </tr>\n",
       "  </tbody>\n",
       "</table>\n",
       "</div>"
      ],
      "text/plain": [
       "   Biomass calculated (g/l)  Biomass (g/l) Ladakis, et al. (2018)\n",
       "0                  5.609302                              5.488145\n",
       "1                  5.757660                              4.531535\n",
       "2                  5.626993                              2.636464\n",
       "3                  5.743105                              2.563182\n",
       "4                  5.239296                              1.965719"
      ]
     },
     "execution_count": 56,
     "metadata": {},
     "output_type": "execute_result"
    }
   ],
   "source": [
    "DataB = pandas.read_excel('Data.xlsx',sheetname = 'BData')\n",
    "# print (DataB)\n",
    "DataB = np.array(DataB)\n",
    "Blen = range(len(DataB))\n",
    "\n",
    "def MBb(i): \n",
    "    \"Component order = Xylose, CO2, X, SA, AA, FA, LA, H20\"\n",
    "    B = np.matrix([0,0,0,0,(40 - DataS[i,1])/(150.13/5),DataS[i,2]/(118.09/4),\n",
    "                   DataS[i,3]/(60.05/2) ,DataS[i,4]/46.03, DataB[i,5]/(90.08/3)]).T\n",
    "    X = np.linalg.solve(Mass_B,B)\n",
    "#     print (sum([X[0,0]*(150.13/5), X[1,0]*44.01, X[2,0]*MM, X[3,0]*(118.09/4), X[4,0]*(60.05/2), X[5,0]*46.03, X[6,0]*(90.08/3), X[7,0]*(17)]))\n",
    "    return [X[0,0]*(150.13/5), X[1,0]*44.01, X[2,0]*MM, X[3,0]*(118.09/4), X[4,0]*(60.05/2), X[5,0]*46.03, X[6,0]*(90.08/3)]\n",
    "\n",
    "MB_Basfia = [MBb(i) for i in Blen]\n",
    "DB = list(DataB[:,0])\n",
    "BB = list(DataB[:,6])\n",
    "\n",
    "MB_datab = pandas.DataFrame(columns= [\"Dilution (1/h)\",  \"Xylose (g/l)\", \"$CO_2$ (g/L)\",\"Biomass (g/l)\",\n",
    "                                       \"Succinic (g/l)\",  \"Acetic (g/l)\",  \"Formic (g/l)\", 'Lactic (g/l)'])\n",
    "\n",
    "Biomass_B = pandas.DataFrame(columns= [\"Biomass calculated (g/l)\",\"Biomass (g/l) Ladakis, et al. (2018)\"])\n",
    "\n",
    "for i in Blen:\n",
    "    MB_datab.loc[i] = [DB[i]] + MB_Basfia[i]\n",
    "\n",
    "LB = list(MB_datab['Biomass (g/l)'])\n",
    "for i in Blen:\n",
    "    Biomass_B.loc[i] =  [LB[i]] + [BB[i]]\n",
    "\n",
    "print (\"Biomass error = \",sum(abs((MB_datab['Biomass (g/l)'] - DataB[:,6])/MB_datab['Biomass (g/l)']))/Blen[-1] * 100,'%')\n",
    "\n",
    "Balance =  MB_datab['Xylose (g/l)']/(150.13/5) + MB_datab['$CO_2$ (g/L)']/44.01+ (MB_datab['Biomass (g/l)']/MM +\n",
    "                   MB_datab['Succinic (g/l)']/(118.09/4) + MB_datab['Acetic (g/l)']/(60.05/2) + \n",
    "                   MB_datab['Formic (g/l)']/46.03  + MB_datab['Lactic (g/l)']/(90.08/3))\n",
    "                                            \n",
    "print ('C balance error = ',sum(Balance)/len(Balance))\n",
    "MB_datab\n",
    "Biomass_B"
   ]
  },
  {
   "cell_type": "code",
   "execution_count": 75,
   "metadata": {},
   "outputs": [
    {
     "name": "stdout",
     "output_type": "stream",
     "text": [
      "CO2 Error =  1.94857770728e-13 %\n"
     ]
    },
    {
     "data": {
      "text/html": [
       "<div>\n",
       "<style>\n",
       "    .dataframe thead tr:only-child th {\n",
       "        text-align: right;\n",
       "    }\n",
       "\n",
       "    .dataframe thead th {\n",
       "        text-align: left;\n",
       "    }\n",
       "\n",
       "    .dataframe tbody tr th {\n",
       "        vertical-align: top;\n",
       "    }\n",
       "</style>\n",
       "<table border=\"1\" class=\"dataframe\">\n",
       "  <thead>\n",
       "    <tr style=\"text-align: right;\">\n",
       "      <th></th>\n",
       "      <th>µ (1/h)</th>\n",
       "      <th>r_xylose (cmol/cmolX/h)</th>\n",
       "      <th>r_CO_2 (cmol/cmolX/h)</th>\n",
       "      <th>r_SA (cmol/cmolX/h)</th>\n",
       "      <th>r_AA (cmol/cmolX/h)</th>\n",
       "      <th>r_FA (cmol/cmolX/h)</th>\n",
       "      <th>r_LA (cmol/cmolX/h)</th>\n",
       "    </tr>\n",
       "  </thead>\n",
       "  <tbody>\n",
       "    <tr>\n",
       "      <th>0</th>\n",
       "      <td>0.02</td>\n",
       "      <td>0.113502</td>\n",
       "      <td>-0.009097</td>\n",
       "      <td>0.071561</td>\n",
       "      <td>0.021968</td>\n",
       "      <td>0.007204</td>\n",
       "      <td>0.001867</td>\n",
       "    </tr>\n",
       "    <tr>\n",
       "      <th>1</th>\n",
       "      <td>0.04</td>\n",
       "      <td>0.209282</td>\n",
       "      <td>-0.016389</td>\n",
       "      <td>0.121775</td>\n",
       "      <td>0.039635</td>\n",
       "      <td>0.016135</td>\n",
       "      <td>0.008127</td>\n",
       "    </tr>\n",
       "    <tr>\n",
       "      <th>2</th>\n",
       "      <td>0.08</td>\n",
       "      <td>0.413039</td>\n",
       "      <td>-0.032835</td>\n",
       "      <td>0.234206</td>\n",
       "      <td>0.076870</td>\n",
       "      <td>0.034718</td>\n",
       "      <td>0.020080</td>\n",
       "    </tr>\n",
       "    <tr>\n",
       "      <th>3</th>\n",
       "      <td>0.10</td>\n",
       "      <td>0.493608</td>\n",
       "      <td>-0.040295</td>\n",
       "      <td>0.268467</td>\n",
       "      <td>0.095949</td>\n",
       "      <td>0.047972</td>\n",
       "      <td>0.021514</td>\n",
       "    </tr>\n",
       "    <tr>\n",
       "      <th>4</th>\n",
       "      <td>0.15</td>\n",
       "      <td>0.784748</td>\n",
       "      <td>-0.062195</td>\n",
       "      <td>0.430440</td>\n",
       "      <td>0.161196</td>\n",
       "      <td>0.068529</td>\n",
       "      <td>0.036778</td>\n",
       "    </tr>\n",
       "  </tbody>\n",
       "</table>\n",
       "</div>"
      ],
      "text/plain": [
       "   µ (1/h)  r_xylose (cmol/cmolX/h)  r_CO_2 (cmol/cmolX/h)  \\\n",
       "0     0.02                 0.113502              -0.009097   \n",
       "1     0.04                 0.209282              -0.016389   \n",
       "2     0.08                 0.413039              -0.032835   \n",
       "3     0.10                 0.493608              -0.040295   \n",
       "4     0.15                 0.784748              -0.062195   \n",
       "\n",
       "   r_SA (cmol/cmolX/h)  r_AA (cmol/cmolX/h)  r_FA (cmol/cmolX/h)  \\\n",
       "0             0.071561             0.021968             0.007204   \n",
       "1             0.121775             0.039635             0.016135   \n",
       "2             0.234206             0.076870             0.034718   \n",
       "3             0.268467             0.095949             0.047972   \n",
       "4             0.430440             0.161196             0.068529   \n",
       "\n",
       "   r_LA (cmol/cmolX/h)  \n",
       "0             0.001867  \n",
       "1             0.008127  \n",
       "2             0.020080  \n",
       "3             0.021514  \n",
       "4             0.036778  "
      ]
     },
     "execution_count": 75,
     "metadata": {},
     "output_type": "execute_result"
    }
   ],
   "source": [
    "\"\"\"Flux model\"\"\"\n",
    "B = np.matrix(pandas.read_excel('Data.xlsx',sheetname = 'Basf'))\n",
    "alpha, beta = 0.1,0.1\n",
    "B[12,1] = beta\n",
    "B[0,1] = 1 + alpha\n",
    "\n",
    "def rates(i):\n",
    "    Cxy, Cco2, Cx, Csa, Caa, Cfa, Cla  = MBb(i)\n",
    "    C = [Cxy/(150.13/5), Cco2/44.01, Cx/MM, Csa/(118.09/4), Caa/(60.05/2), Cfa/46.03, Cla/(90.08/3)]\n",
    "    CX = C[2]\n",
    "    D = DataB[i,0]\n",
    "    r = np.zeros_like(C)\n",
    "    for j in range(len(C)):\n",
    "        r[j] = D/CX*C[j]\n",
    "        \n",
    "    return r\n",
    "\n",
    "Xerror = []\n",
    "\n",
    "def metafluxs(i):\n",
    "    r = rates(i)\n",
    "    rco2 = r[0] +r[2] + r[3] + r[4] + r[5] + r[6]\n",
    "    D = DataB[i,0]\n",
    "    specs = np.matrix([0,0,0,0,0,0,0,0,0,0,0,0,0,D,r[3],r[4],r[5],r[6],-r[0]]).T\n",
    "    F =  np.linalg.solve(B,specs)\n",
    "    CO2 = F[1,0]*alpha + 1/6*F[4,0] - 1/4*F[8,0] + 1/2*F[10,0] + 1/5*F[15,0] + 1/4*F[16,0]\n",
    "    Xerror.append((abs(r[1] - CO2)/-r[1])*100)\n",
    "#     print (r[1], CO2, rco2)\n",
    "#     Xerror.append(abs((r[0] + F[0,0])/r[0])*100)\n",
    "#     print (-r[0], F[0,0])\n",
    "#     print (r[2]- F[1,0])\n",
    "#     print (r[3]- F[18,0] -  F[16,0])\n",
    "#     print (r[4]- F[14,0])\n",
    "#     print (r[5]- 0.5*F[11,0])\n",
    "#     print (r[6]- F[12,0])\n",
    "    \n",
    "    return [F[0,0],F[1,0],F[2,0],F[3,0],F[4,0],F[5,0],F[6,0],F[7,0],F[8,0],F[9,0],\n",
    "            F[10,0],F[11,0],F[12,0],F[13,0],F[14,0],F[15,0],F[16,0],F[17,0],F[18,0]]\n",
    "\n",
    "FluxB = [metafluxs(i) for i in Blen]\n",
    "FB =  pandas.DataFrame(columns= ('µ (1/h)','r_xylose (cmol/cmolX/h)','r_CO_2 (cmol/cmolX/h)',\n",
    "                                'r_SA (cmol/cmolX/h)', 'r_AA (cmol/cmolX/h)', 'r_FA (cmol/cmolX/h)','r_LA (cmol/cmolX/h)'))\n",
    "\n",
    "\n",
    "for i in Blen:\n",
    "    rCO2 = FluxB[i][1]*alpha + 1/6*FluxB[i][4] - 1/4*FluxB[i][8] + 1/2*FluxB[i][10] + 1/5*FluxB[i][15] + 1/4*FluxB[i][16]\n",
    "    Bal = FluxB[i][0] - FluxB[i][1] - FluxB[i][16] - FluxB[i][18] - FluxB[i][14] - 0.5*FluxB[i][11] - FluxB[i][12]\n",
    "#     print (Bal,rCO2)\n",
    "    FB.loc[i] = [FluxB[i][1], FluxB[i][0], rCO2, FluxB[i][16] + FluxB[i][18], FluxB[i][14], 0.5*FluxB[i][11], FluxB[i][12]]\n",
    "\n",
    "print ('CO2 Error = ', sum (Xerror)/len(Xerror), '%')\n",
    "FB"
   ]
  },
  {
   "cell_type": "markdown",
   "metadata": {},
   "source": [
    "# Analysis"
   ]
  },
  {
   "cell_type": "code",
   "execution_count": 66,
   "metadata": {},
   "outputs": [
    {
     "data": {
      "image/png": "[encoded data removed]",
      "text/plain": [
       "<matplotlib.figure.Figure at 0x2092f819048>"
      ]
     },
     "metadata": {},
     "output_type": "display_data"
    }
   ],
   "source": [
    "rATPS = []\n",
    "v6_v4s = []\n",
    "rATPB = []\n",
    "v6_v4b = []\n",
    "\n",
    "BR = 1 #DataB[:,6]\n",
    "# MB_datab['Biomass (g/l)']/\n",
    "SR = 1 #DataS[:,5]\n",
    "# MB['Biomass (g/l)']/\n",
    "for i in Slen:\n",
    "    rATPS.append(-1/5*FluxS[i][2] + 1/3*FluxS[i][7] + 1/3*FluxS[i][9] + 1/2*FluxS[i][10] + 1/2*FluxS[i][11] + 5/12*FluxS[i][8]) \n",
    "    v6_v4s.append(FluxS[i][6]/FluxS[i][4])\n",
    "for i in Blen:\n",
    "    rATPB.append(-1/5*FluxB[i][2] + 1/3*FluxB[i][7] + 1/3*FluxB[i][9] + 1/2*FluxB[i][14] + \n",
    "                 1/4*FluxB[i][8] + 1/4*FluxB[i][16] + 1/6*FluxB[i][18]) \n",
    "    v6_v4b.append(FluxB[i][6]/FluxB[i][4])\n",
    "    \n",
    "plt.figure('ATP')\n",
    "plt.title('ATP production')\n",
    "plt.plot(DB,rATPB*BR,'ro', label = 'Basfia')\n",
    "plt.plot(DS,rATPS*SR,'ko',label = 'Succi')\n",
    "plt.ylabel('$r_{ATP}$ (mol/cmolX/h)')\n",
    "plt.xlabel('D (1/h)')\n",
    "plt.legend(loc = 'best')\n",
    "plt.savefig('ATP.png')"
   ]
  },
  {
   "cell_type": "code",
   "execution_count": 91,
   "metadata": {},
   "outputs": [
    {
     "data": {
      "image/png": "[encoded data removed]",
      "text/plain": [
       "<matplotlib.figure.Figure at 0x20930b008d0>"
      ]
     },
     "metadata": {},
     "output_type": "display_data"
    },
    {
     "data": {
      "image/png": "[encoded data removed]",
      "text/plain": [
       "<matplotlib.figure.Figure at 0x20930c427b8>"
      ]
     },
     "metadata": {},
     "output_type": "display_data"
    }
   ],
   "source": [
    "plt.figure()\n",
    "plt.title('Succinic acid production')\n",
    "plt.plot(FB['µ (1/h)'],FB['r_SA (cmol/cmolX/h)']*BR,'rv', label = \"Basfia\")\n",
    "plt.plot(FS['µ (1/h)'],FS['r_SA (cmol/cmolX/h)']*SR,'kv',label = \"Succi\")\n",
    "plt.ylabel('Rate (cmol/cmolX/h)')\n",
    "plt.xlabel('D (1/h)')\n",
    "plt.legend(loc = 'best')\n",
    "plt.savefig('SUC.png')\n",
    "plt.figure()\n",
    "plt.title('Succinic acid production')\n",
    "plt.plot(FB['µ (1/h)'],MB_datab['Dilution (1/h)']*MB_datab['Succinic (g/l)']/(118.09/4)/(DataB[:,6]/24),'rv', label = \"Basfia\")\n",
    "plt.plot(FS['µ (1/h)'],MB['Dilution (1/h)']*MB['Succinic (g/l)']/(118.09/4)/(DataS[:,5]/27.28),'kv',label = \"Succi\")\n",
    "plt.ylabel('Rate (cmol/cmolX/h)')\n",
    "plt.xlabel('D (1/h)')\n",
    "plt.legend(loc = 'best')\n",
    "plt.savefig('SUC.png')"
   ]
  },
  {
   "cell_type": "code",
   "execution_count": 88,
   "metadata": {},
   "outputs": [
    {
     "data": {
      "image/png": "[encoded data removed]",
      "text/plain": [
       "<matplotlib.figure.Figure at 0x20930ab0f60>"
      ]
     },
     "metadata": {},
     "output_type": "display_data"
    }
   ],
   "source": [
    "plt.figure()\n",
    "plt.title('$CO_2$ consumption')\n",
    "plt.plot(FB['µ (1/h)'],-FB['r_CO_2 (cmol/cmolX/h)']*BR,'r*', label = \"Basfia\")\n",
    "plt.plot(FS['µ (1/h)'],-FS['r_CO_2 (cmol/cmolX/h)']*SR, 'k*',label = \"Succi\")\n",
    "plt.ylabel('Rate (cmol/cmolX/h)')\n",
    "plt.xlabel('D (1/h)')\n",
    "plt.legend(loc = 'best')\n",
    "plt.savefig('CO2.png')"
   ]
  },
  {
   "cell_type": "code",
   "execution_count": 39,
   "metadata": {},
   "outputs": [
    {
     "data": {
      "image/png": "[encoded data removed]",
      "text/plain": [
       "<matplotlib.figure.Figure at 0x2092fa5fd30>"
      ]
     },
     "metadata": {},
     "output_type": "display_data"
    }
   ],
   "source": [
    "Sv8 = [FluxS[i][8] for i in Slen]\n",
    "Bv8 = [FluxB[i][8] for i in Blen]\n",
    "\n",
    "plt.figure()\n",
    "plt.title('PEP to OXA pathway')\n",
    "plt.plot(FB['µ (1/h)'],Bv8*BR,'rx', label = \"Basfia\")\n",
    "plt.plot(FS['µ (1/h)'],Sv8*SR,'kx',label = \"Succi\")\n",
    "plt.ylabel('Rate (cmol/cmolX/h)')\n",
    "plt.xlabel('D (1/h)')\n",
    "plt.legend(loc = 'best')\n",
    "plt.savefig('PEPOXA.png')"
   ]
  },
  {
   "cell_type": "code",
   "execution_count": 40,
   "metadata": {
    "scrolled": false
   },
   "outputs": [
    {
     "data": {
      "image/png": "[encoded data removed]",
      "text/plain": [
       "<matplotlib.figure.Figure at 0x20930afa860>"
      ]
     },
     "metadata": {},
     "output_type": "display_data"
    }
   ],
   "source": [
    "Bv18 = [FluxB[i][18] for i in Blen]\n",
    "Bv16 = [FluxB[i][16] for i in Blen]\n",
    "\n",
    "plt.figure()\n",
    "plt.title('Succinic acid production pathways')\n",
    "plt.plot(FB['µ (1/h)'],Bv18,'rD', label = \"Reductive\")\n",
    "plt.plot(FB['µ (1/h)'],Bv16,'kD',label = \"Oxidative\")\n",
    "plt.ylabel('Rate (cmol/cmolX/h)')\n",
    "plt.xlabel('D (1/h)')\n",
    "plt.legend(loc = 'best')\n",
    "plt.savefig('REDOX.png')\n"
   ]
  },
  {
   "cell_type": "code",
   "execution_count": 25,
   "metadata": {},
   "outputs": [],
   "source": [
    "Results = pandas.ExcelWriter('Results.xlsx')\n",
    "MB.to_excel(Results, sheet_name = 'MBA_Succi')\n",
    "FS.to_excel(Results, sheet_name = 'FA_Succi')\n",
    "MB_datab.to_excel(Results, sheet_name = 'MBA_Basfia')\n",
    "FB.to_excel(Results, sheet_name = 'FA_Basfia')"
   ]
  },
  {
   "cell_type": "code",
   "execution_count": null,
   "metadata": {},
   "outputs": [],
   "source": [
    "FB"
   ]
  },
  {
   "cell_type": "code",
   "execution_count": null,
   "metadata": {},
   "outputs": [],
   "source": [
    "FS"
   ]
  }
 ],
 "metadata": {
  "kernelspec": {
   "display_name": "Python 3",
   "language": "python",
   "name": "python3"
  }
 },
 "nbformat": 4,
 "nbformat_minor": 2
}
