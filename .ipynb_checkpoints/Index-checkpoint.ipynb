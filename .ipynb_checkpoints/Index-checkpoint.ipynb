{
 "cells": [
  {
   "cell_type": "markdown",
   "metadata": {},
   "source": [
    "# Index"
   ]
  },
  {
   "cell_type": "markdown",
   "metadata": {},
   "source": [
    "[Assignment 1.1](https://nbviewer.jupyter.org/github/reubens9/CBP732-Reuben/blob/master/Assignment%201.1/Data%20analysis.ipynb)"
   ]
  },
  {
   "cell_type": "markdown",
   "metadata": {},
   "source": [
    "[Assignment 2](https://nbviewer.jupyter.org/github/reubens9/CBP732-Reuben/blob/master/Assignment%202/Aerobic%20model.ipynb)"
   ]
  },
  {
   "cell_type": "markdown",
   "metadata": {},
   "source": [
    "[Crabtree effect report](https://nbviewer.jupyter.org/github/reubens9/CBP732-Reuben/blob/master/Assignment%201.1/Data%20analysis.ipynb)"
   ]
  },
  {
   "cell_type": "markdown",
   "metadata": {},
   "source": [
    "[Basfia and Succi report](https://nbviewer.jupyter.org/github/reubens9/CBP732-Reuben/blob/master/Assignment%204/Basfia%20and%20Succi%20Report.ipynb)"
   ]
  }
 ],
 "metadata": {
  "kernelspec": {
   "display_name": "Python 3",
   "language": "python",
   "name": "python3"
  },
  "language_info": {
   "codemirror_mode": {
    "name": "ipython",
    "version": 3
   },
   "file_extension": ".py",
   "mimetype": "text/x-python",
   "name": "python",
   "nbconvert_exporter": "python",
   "pygments_lexer": "ipython3",
   "version": "3.5.3"
  }
 },
 "nbformat": 4,
 "nbformat_minor": 2
}
