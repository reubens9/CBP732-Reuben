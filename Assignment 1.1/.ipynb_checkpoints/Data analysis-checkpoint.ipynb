{
 "cells": [
  {
   "cell_type": "code",
   "execution_count": 2,
   "metadata": {
    "collapsed": true
   },
   "outputs": [],
   "source": [
    "from scipy.integrate import odeint\n",
    "from scipy.optimize import fsolve\n",
    "import numpy as np\n",
    "from matplotlib import pyplot as plt\n",
    "import pandas\n",
    "%matplotlib inline"
   ]
  },
  {
   "cell_type": "code",
   "execution_count": 35,
   "metadata": {},
   "outputs": [
    {
     "name": "stdout",
     "output_type": "stream",
     "text": [
      "[RangeIndex(start=0, stop=16, step=1), Index(['D (1/h)', 'X (g/L)', 'CO2 (mmol/g/h)', 'O2 (mmol/g/h)'], dtype='object')]\n"
     ]
    }
   ],
   "source": [
    "D69 = (pandas.read_excel('Data.xlsx', sheetname = 'Meyer69'))\n",
    "H97 = np.array(pandas.read_excel('Data.xlsx', sheetname = 'VanHoek97'))\n",
    "P89 = np.array(pandas.read_excel('Data.xlsx', sheetname = 'Postma89'))\n",
    "P93 = np.array(pandas.read_excel('Data.xlsx', sheetname = 'Pijen93'))\n",
    "S86 = np.array(pandas.read_excel('Data.xlsx', sheetname = 'Sonn86'))\n",
    "B79 = np.array(pandas.read_excel('Data.xlsx', sheetname = 'Barford79'))\n",
    "C98 = np.array(pandas.read_excel('Data.xlsx', sheetname = 'Cortassa98'))\n",
    "H79 = np.array(pandas.read_excel('Data.xlsx', sheetname = 'Hall79'))\n",
    "print (D69.axes)\n",
    "D69 = np.array(D69)"
   ]
  },
  {
   "cell_type": "markdown",
   "metadata": {},
   "source": [
    "Glucose  + $O_2$ + $NH_3$ $->$ Ethanol + Biomass + $CO_2$ + $H_2O$\n",
    "\n",
    "<img src=\"etresp.png\" width=\"500\" />\n",
    "\n",
    "<center> V1 = (1 + $\\alpha$)V2 + V3 + V4</center>\n",
    " <center>V4 = V5 + 1.5V6</center>\n",
    "<center> $\\beta$ + 2V3 - 1/3V5 - 2V7 = 0</center>\n",
    "<center> -$\\gamma$V2 + 2/3V3 - 1/3V4 + V6 +  2(P/O)V7 = $\\Theta$</center>\n",
    "<center> V2 = $\\mu$ </center>"
   ]
  },
  {
   "cell_type": "code",
   "execution_count": 106,
   "metadata": {},
   "outputs": [],
   "source": [
    "\n",
    "A = np.matrix([[-1,0,1,1,1,0,0],        #Carbon\n",
    "                [-2,0,1.6,3,0,2,-3],    #Hydrogen\n",
    "                [-1,-2,0.5,0.5,2,1,0],  #Oxygen\n",
    "                [0,0,0.2,0,0,0,-1],     #Nitrogen\n",
    "                [0,0,0,0,1,0,0],        #CO2 Spec\n",
    "                [0,1,0,0,0,0,0],        #O2 Spec\n",
    "                [0,0,1,0,0,0,0]])       #Biomass Spec\n",
    "\n",
    "Xdor = 4 + 1.6 + 0.5*-2 + 0.2*-3\n",
    "Xmm = 12 + 1.6 + 0.5*16 + 0.2*14\n",
    "\n",
    "def Analysis(Data,Beta,Gamma,Name):\n",
    "    span = range(len(Data))\n",
    "    PO = 1.5\n",
    "    \n",
    "    ratp = np.zeros_like(Data[:,0])\n",
    "    Resp = ratp\n",
    "    re = np.zeros_like(Data[:,0])\n",
    "    P_O = np.zeros_like(Data[:,0])\n",
    "    \n",
    "    for i in span:\n",
    "        B = np.matrix([0,0,0,0,Data[i,2],Data[i,3],Data[i,0]/Xmm*1000]).T\n",
    "        X = np.linalg.solve(A,B)\n",
    "        re[i] = X[3,0]\n",
    "        \n",
    "\n",
    "        alpha = 0.25*(Xdor + 2*Beta - 4)\n",
    "        resp = Data[i,2] - alpha*Data[i,0] - 0.5*X[3,0]\n",
    "        Resp[i] = resp\n",
    "            \n",
    "        P_O[i] = (0.5/Data[i,3])*(Gamma*Data[i,0]/Xmm*1000 - 0.5*X[3,0] - 2/3*resp)\n",
    "        \n",
    "        ratp[i] = 0.5*X[3,0] + P_O[i]*2*Data[i,3] + 2/3*resp\n",
    "        \n",
    "        \n",
    "#     plt.plot(Data[:,0],ratp,'co',label = '$r_{atp}$')\n",
    "#     plt.xlabel('D $(1/h)$')\n",
    "#     plt.ylabel('$r_{ATP}$ $(mmol_{ATP}/g/h$) ')\n",
    "#     plt.legend(loc = 'best')\n",
    "#     plt.title(str(Name))\n",
    "#     plt.show()\n",
    "    if pltrate == True:\n",
    "        plt.figure()\n",
    "        plt.plot(Data[:,0],Data[:,2],'ro',label = '$r_{CO_2}$')\n",
    "        plt.plot(Data[:,0],Data[:,3],'bo',label = '$r_{O_2}$')\n",
    "        plt.plot(Data[:,0],re,'ko',label = '$r_{Ethanol}$')\n",
    "        plt.xlabel('D $(1/h)$')\n",
    "        plt.ylabel('Rate $(mmol_{i}/g/h$) ')\n",
    "        plt.title(str(Name))\n",
    "        plt.legend(loc = 'best')\n",
    "        plt.show()\n",
    "    \n",
    "    if pltresp == True:\n",
    "        plt.figure()\n",
    "        plt.plot(Data[:,0],Resp,'ro',label = '$Respiration$')\n",
    "        plt.xlabel('D $(1/h)$')\n",
    "        plt.ylabel('Respiration $(mcmol/g/h$) ')\n",
    "        plt.legend(loc = 'best')\n",
    "        plt.title(str(Name))\n",
    "        plt.show()\n",
    "    \n",
    "    if pltpo == True:\n",
    "\n",
    "        plt.plot(Data[:,0],P_O,'go',label = '$P/O$')\n",
    "        plt.xlabel('D $(1/h)$')\n",
    "        plt.ylim([0,2])\n",
    "        plt.ylabel('P/O $(mol_{ATP}/mol_{O_2})$ ')\n",
    "        plt.title(str(Name))\n",
    "        plt.legend(loc = 'best')\n",
    "        plt.show()\n",
    "        \n",
    "        plt.plot(Data[:,0],Data[:,3]*P_O,'ko',label = 'Oxygen energy')\n",
    "        plt.plot(Data[:,0],0.5*re,'ro',label = 'Ethanol energy')\n",
    "        plt.plot(Data[:,0],Resp*2/3,'bo',label = 'Respiration energy')\n",
    "        plt.xlabel('D $(1/h)$')\n",
    "        plt.ylabel('Energy source $(mol_{ATP}//g/h)$ ')\n",
    "        plt.title(str(Name))\n",
    "        plt.legend(loc = 'best')\n",
    "        plt.show()\n",
    " \n",
    "#     return [ratp,re,Resp]"
   ]
  },
  {
   "cell_type": "code",
   "execution_count": 107,
   "metadata": {},
   "outputs": [
    {
     "data": {
      "image/png": "[encoded data removed]",
      "text/plain": [
       "<matplotlib.figure.Figure at 0x2120d77f198>"
      ]
     },
     "metadata": {},
     "output_type": "display_data"
    },
    {
     "data": {
      "image/png": "[encoded data removed]",
      "text/plain": [
       "<matplotlib.figure.Figure at 0x2120d4fbe48>"
      ]
     },
     "metadata": {},
     "output_type": "display_data"
    }
   ],
   "source": [
    "Beta = 0.1\n",
    "Gamma = 2\n",
    "\n",
    "\"\"\"Which plots do you want\"\"\"\n",
    "\n",
    "\"Rates of CO2 O2 and Ethanol?\"\n",
    "pltrate = False\n",
    "\n",
    "\"Respiration vs dilution rate?\"\n",
    "pltresp = False\n",
    "\n",
    "\"P/O vs dilution rate?\"\n",
    "pltpo = True\n",
    "\n",
    "Analysis(D69,Beta,Gamma,'Meyer69')\n",
    "# Analysis(P89,Beta,Gamma,'Postma89')\n",
    "# Analysis(H97,Beta,Gamma,'VanHoek97')\n",
    "# Analysis(P93,Beta,Gamma,'Pijen93')\n",
    "# Analysis(S86,Beta,Gamma,'Sonn86')\n",
    "# Analysis(B79,Beta,Gamma,'Barford79')\n",
    "# Analysis(C98,Beta,Gamma,'Cortassa98')\n",
    "# Analysis(H79,Beta,Gamma,'Hall79')"
   ]
  },
  {
   "cell_type": "markdown",
   "metadata": {
    "collapsed": true
   },
   "source": [
    "# Interpretation\n",
    "\n",
    "It can be seen from the relationship between the chemostat dilution rate and the specific growth rate that saccharomyces cerevisea always optimises for biomass growth. Therefore setting a dilution rate can be seen as setting the energy requirement for the cell. The analysis of this data assumes that the energy cost to produce biomass ($\\gamma$) is constant and there is no energy required for maintainance. \n",
    "\n",
    "The P/O ratio is an indication of the effiency of the oxidative phosphorylation process. It is therefore implied that if the P/O increases the effiency of respiration increases. \n",
    "\n",
    "Once the oxygen consumpution is at the max or aerobic fermentation has began it can be seen that the P/O ratio begins to increase. This is to account for the decrease consumption of oxygen.\n",
    "\n",
    "The question is then why is ethanol formed if the respiration"
   ]
  },
  {
   "cell_type": "code",
   "execution_count": null,
   "metadata": {
    "collapsed": true
   },
   "outputs": [],
   "source": []
  }
 ],
 "metadata": {
  "kernelspec": {
   "display_name": "Python 3",
   "language": "python",
   "name": "python3"
  },
  "language_info": {
   "codemirror_mode": {
    "name": "ipython",
    "version": 3
   },
   "file_extension": ".py",
   "mimetype": "text/x-python",
   "name": "python",
   "nbconvert_exporter": "python",
   "pygments_lexer": "ipython3",
   "version": "3.6.3"
  }
 },
 "nbformat": 4,
 "nbformat_minor": 2
}
