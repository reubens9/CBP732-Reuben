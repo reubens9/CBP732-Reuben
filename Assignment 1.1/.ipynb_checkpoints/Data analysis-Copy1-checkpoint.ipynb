{
 "cells": [
  {
   "cell_type": "code",
   "execution_count": 2,
   "metadata": {
    "collapsed": true
   },
   "outputs": [],
   "source": [
    "from scipy.integrate import odeint\n",
    "from scipy.optimize import fsolve\n",
    "import numpy as np\n",
    "from matplotlib import pyplot as plt\n",
    "import pandas\n",
    "%matplotlib inline"
   ]
  },
  {
   "cell_type": "code",
   "execution_count": 3,
   "metadata": {},
   "outputs": [
    {
     "name": "stdout",
     "output_type": "stream",
     "text": [
      "[RangeIndex(start=0, stop=16, step=1), Index(['D (1/h)', 'X (g/L)', 'CO2 (mmol/g/h)', 'O2 (mmol/g/h)'], dtype='object')]\n"
     ]
    }
   ],
   "source": [
    "D69 = (pandas.read_excel('Data.xlsx', sheetname = 'Meyer69'))\n",
    "H97 = np.array(pandas.read_excel('Data.xlsx', sheetname = 'VanHoek97'))\n",
    "P89 = np.array(pandas.read_excel('Data.xlsx', sheetname = 'Postma89'))\n",
    "P93 = np.array(pandas.read_excel('Data.xlsx', sheetname = 'Pijen93'))\n",
    "S86 = np.array(pandas.read_excel('Data.xlsx', sheetname = 'Sonn86'))\n",
    "S86 = np.array(pandas.read_excel('Data.xlsx', sheetname = 'Bar'))\n",
    "print (D69.axes)\n",
    "D69 = np.array(D69)"
   ]
  },
  {
   "cell_type": "markdown",
   "metadata": {},
   "source": [
    "Glucose  + $O_2$ + $NH_3$ $->$ Ethanol + Biomass + $CO_2$ + $H_2O$\n",
    "\n",
    "<img src=\"etresp.png\" width=\"500\" />\n",
    "\n",
    "<center> V1 = (1 + $\\alpha$)V2 + V3 + V4</center>\n",
    " <center>V4 = V5 + 1.5V6</center>\n",
    "<center> $\\beta$ + 2V3 - 1/3V5 - 2V7 = 0</center>\n",
    "<center> -$\\gamma$V2 + 2/3V3 - 1/3V4 + V6 +  2(P/O)V7 = $\\Theta$</center>\n",
    "<center> V2 = $\\mu$ </center>"
   ]
  },
  {
   "cell_type": "code",
   "execution_count": 4,
   "metadata": {
    "collapsed": true
   },
   "outputs": [],
   "source": [
    "A = np.matrix([[-1,0,1,1,1,0,0],        #Carbon\n",
    "                [-2,0,1.8,3,0,2,-3],    #Hydrogen\n",
    "                [-1,-2,0.5,0.5,2,1,0],  #Oxygen\n",
    "                [0,0,0.2,0,0,0,-1],     #Nitrogen\n",
    "                [0,0,0,0,1,0,0],        #CO2 Spec\n",
    "                [0,1,0,0,0,0,0],        #O2 Spec\n",
    "                [0,0,1,0,0,0,0]])       #Biomass Spec\n",
    "\n",
    "Xdor = 4 + 1.8 + 0.5*-2 + 0.2*-3\n",
    "Xmm = 12 + 1.8 + 0.5*16 + 0.2*14\n",
    "def Analysis(Data,Beta,Gamma,Name):\n",
    "    span = range(len(Data))\n",
    "    PO = 1.5\n",
    "    ratp = np.zeros_like(Data[:,0])\n",
    "    Resp = ratp\n",
    "    Ce = np.zeros_like(Data[:,0])\n",
    "    P_O = np.zeros_like(Data[:,0])\n",
    "    for i in span:\n",
    "        B = np.matrix([0,0,0,0,Data[i,2],Data[i,3],Data[i,0]/Xmm*1000]).T\n",
    "        X = np.linalg.solve(A,B)\n",
    "        Ce[i] = X[3,0]\n",
    "#         def resp(unk):\n",
    "#             alpha,Beta,resp = unk\n",
    "            \n",
    "#             CO2 = -Data[i,2] + alpha*Data[i,0] + resp + 0.5*X[3,0]\n",
    "#             NADH = -2*Data[i,3] + 2*resp + Beta*Data[i,0]\n",
    "#             DOR = -(1 + alpha)*4 + 4.2 + Beta*2\n",
    "#             return [CO2,NADH,DOR]\n",
    "            \n",
    "#         alpha,Beta,resp = fsolve(resp,[0.1,0.1,10])\n",
    "\n",
    "#         def func(a):\n",
    "#             return -Data[i,2] + a*Data[i,0] + -Data[i,0]/2*(-0.4 + a*8) + Data[i,3] + 0.5*X[3,0]\n",
    "\n",
    "#         a = fsolve(func,0.1)\n",
    "    \n",
    "#         resp = Data[i,2]  - a*Data[i,0] - 0.5*X[3,0]\n",
    "        def resp(unk,Beta):\n",
    "            alpha,resp = unk\n",
    "\n",
    "            CO2 = -Data[i,2] + alpha*Data[i,0] + resp + 0.5*X[3,0]\n",
    "            NADH = -2*Data[i,3] + 2*resp + Beta*Data[i,0]\n",
    "        #     DOR = -(1 + alpha)*4 + 4.2 + Beta*2\n",
    "            return [CO2,NADH]\n",
    "        \n",
    "        alpha, resp = fsolve(resp,[0.1,10],args = (Beta))\n",
    "        Resp[i] = resp\n",
    "            \n",
    "        ratp[i] = 0.5*X[3,0] + PO*2*Data[i,3] + 2/3*resp\n",
    "        \n",
    "        P_O[i] = (0.5/Data[i,3])*(Gamma*Data[i,0]/Xmm*1000 - 0.5*X[3,0] - 2/3*resp)\n",
    "        \n",
    "        \n",
    "    plt.plot(Data[:,0],ratp,'co',label = '$r_{atp}$')\n",
    "    plt.xlabel('D $(1/h)$')\n",
    "    plt.ylabel('$r_{ATP}$ $(mmol_{ATP}/g/h$) ')\n",
    "    plt.legend(loc = 'best')\n",
    "    plt.title(str(Name))\n",
    "    plt.show()\n",
    "\n",
    "    plt.plot(Data[:,0],Ce,'ko',label = '$C_{Ethanol}$')\n",
    "    plt.xlabel('D $(1/h)$')\n",
    "    plt.ylabel('Concentration $(mmol_{i}/g/h$) ')\n",
    "    plt.title(str(Name))\n",
    "    plt.legend(loc = 'best')\n",
    "    plt.show()\n",
    "    \n",
    "    plt.plot(Data[:,0],P_O,'go',label = '$P/O$')\n",
    "    plt.xlabel('D $(1/h)$')\n",
    "#     plt.ylabel('Concentration $(mmol_{i}/g/h$) ')\n",
    "    plt.title(str(Name))\n",
    "    plt.legend(loc = 'best')\n",
    "    plt.show()\n",
    " \n",
    "    return [ratp,Ce,Resp]"
   ]
  },
  {
   "cell_type": "code",
   "execution_count": 5,
   "metadata": {},
   "outputs": [
    {
     "data": {
      "image/png": "[encoded data removed]",
      "text/plain": [
       "<matplotlib.figure.Figure at 0x2120be5bb70>"
      ]
     },
     "metadata": {},
     "output_type": "display_data"
    },
    {
     "data": {
      "image/png": "[encoded data removed]",
      "text/plain": [
       "<matplotlib.figure.Figure at 0x2120bdbaf60>"
      ]
     },
     "metadata": {},
     "output_type": "display_data"
    },
    {
     "data": {
      "image/png": "[encoded data removed]",
      "text/plain": [
       "<matplotlib.figure.Figure at 0x2120c2f57b8>"
      ]
     },
     "metadata": {},
     "output_type": "display_data"
    }
   ],
   "source": [
    "Beta = 0.1\n",
    "Gamma = 2\n",
    "ratp_D691,Ce_D691,r1 = Analysis(D69,Beta,Gamma,'Meyer69')\n",
    "# ratp_P89, Ce_P89,r = Analysis(P89,Beta,Gamma,'Postma89')\n",
    "# ratp_H97, Ce_H97,r = Analysis(H97,Beta,Gamma,'VanHoek97')\n",
    "\n",
    "# import matplotlib.backends.backend_pdf\n",
    "# pdf = matplotlib.backends.backend_pdf.PdfPages(\"output.pdf\")\n",
    "\n",
    "# fig = plt.figure()\n",
    "# pdf.savefig(fig)"
   ]
  },
  {
   "cell_type": "code",
   "execution_count": 6,
   "metadata": {},
   "outputs": [
    {
     "data": {
      "text/plain": [
       "array([  1.81626016,   3.63252033,   7.16504065,  10.89756098,\n",
       "        14.6300813 ,  18.66260163,  20.58211382,  26.39512195,\n",
       "        48.72764228,  65.5601626 ,          nan,          nan,\n",
       "                nan,          nan,          nan,          nan,\n",
       "                nan,          nan,          nan])"
      ]
     },
     "execution_count": 6,
     "metadata": {},
     "output_type": "execute_result"
    }
   ],
   "source": [
    "Data = H97\n",
    "span = range(len(Data))\n",
    "PO = 1.5\n",
    "Gamma = 2.2\n",
    "ratp = np.zeros_like(Data[:,0])\n",
    "\n",
    "Ce = np.zeros_like(Data[:,0])\n",
    "\n",
    "A = np.matrix([[-1,0,1,1,1,0,0],        #Carbon\n",
    "                [-2,0,1.6,3,0,2,-3],    #Hydrogen\n",
    "                [-1,-2,0.5,0.5,2,1,0],  #Oxygen\n",
    "                [0,0,0.2,0,0,0,-1],     #Nitrogen\n",
    "                [0,0,0,0,1,0,0],        #CO2 Spec\n",
    "                [0,1,0,0,0,0,0],        #O2 Spec\n",
    "                [0,0,1,0,0,0,0]])       #Biomass Spec\n",
    "\n",
    "for i in span:\n",
    "    B = np.matrix([0,0,0,0,Data[i,2],Data[i,3],Data[i,0]/Xmm*1000]).T\n",
    "    X = np.linalg.solve(A,B)\n",
    "    Ce[i] = X[0,0]\n",
    "    \n",
    "Ce"
   ]
  },
  {
   "cell_type": "code",
   "execution_count": 7,
   "metadata": {},
   "outputs": [
    {
     "name": "stderr",
     "output_type": "stream",
     "text": [
      "E:\\Programs\\lib\\site-packages\\scipy\\optimize\\minpack.py:161: RuntimeWarning: The iteration is not making good progress, as measured by the \n",
      "  improvement from the last ten iterations.\n",
      "  warnings.warn(msg, RuntimeWarning)\n"
     ]
    },
    {
     "data": {
      "image/png": "[encoded data removed]",
      "text/plain": [
       "<matplotlib.figure.Figure at 0x2120be744a8>"
      ]
     },
     "metadata": {},
     "output_type": "display_data"
    },
    {
     "data": {
      "image/png": "[encoded data removed]",
      "text/plain": [
       "<matplotlib.figure.Figure at 0x2120d3c1cf8>"
      ]
     },
     "metadata": {},
     "output_type": "display_data"
    }
   ],
   "source": [
    "def resp(unk,beta):\n",
    "    alpha,resp = unk\n",
    "\n",
    "    CO2 = -Data[i,2] + alpha*Data[i,0] + resp + 0.5*X[3,0]\n",
    "    NADH = -2*Data[i,3] + 2*resp + beta*Data[i,0]\n",
    "#     DOR = -(1 + alpha)*4 + 4.2 + beta*2\n",
    "    return [CO2,NADH]\n",
    "\n",
    "Bspan = np.linspace(0.08,0.15,8)\n",
    "\n",
    "ANS =  np.asarray([fsolve(resp,[0.1,10],args = (i)) for i in Bspan])\n",
    "alpha,resp = ANS.T\n",
    "plt.plot(Bspan,alpha,'k')\n",
    "plt.show()\n",
    "plt.plot(Bspan,resp,'c')\n",
    "plt.show()"
   ]
  },
  {
   "cell_type": "code",
   "execution_count": 8,
   "metadata": {
    "collapsed": true
   },
   "outputs": [],
   "source": [
    "A = np.matrix([[-1,0,1,1,1,0,0],        #Carbon\n",
    "                [-2,0,1.8,3,0,2,-3],    #Hydrogen\n",
    "                [-1,-2,0.5,0.5,2,1,0],  #Oxygen\n",
    "                [0,0,0.2,0,0,0,-1],     #Nitrogen\n",
    "                [0,0,0,0,1,0,0],        #CO2 Spec\n",
    "                [0,1,0,0,0,0,0],        #O2 Spec\n",
    "                [0,0,1,0,0,0,0]])       #Biomass Spec\n",
    "\n",
    "Xdor = 4 + 1.8 + 0.5*-2 + 0.2*-3\n",
    "Xmm = 12 + 1.8 + 0.5*16 + 0.2*14\n",
    "def Analysis(Data,Beta,Gamma,Name):\n",
    "    span = range(len(Data))\n",
    "    PO = 1.5\n",
    "    \n",
    "    ratp = np.zeros_like(Data[:,0])\n",
    "    Resp = ratp\n",
    "    Ce = np.zeros_like(Data[:,0])\n",
    "    P_O = np.zeros_like(Data[:,0])\n",
    "    \n",
    "    for i in span:\n",
    "        B = np.matrix([0,0,0,0,Data[i,2],Data[i,3],Data[i,0]/Xmm*1000]).T\n",
    "        X = np.linalg.solve(A,B)\n",
    "        Ce[i] = X[3,0]\n",
    "        \n",
    "#         def resp(unk,Beta):\n",
    "#             alpha,resp = unk\n",
    "\n",
    "#             CO2 = -Data[i,2] + alpha*Data[i,0] + resp + 0.5*X[3,0]\n",
    "# #             NADH = -2*Data[i,3] + 2*resp + Beta*Data[i,0]\n",
    "#             DOR = -(1 + alpha)*4 + 4.2 + Beta*2\n",
    "#             return [CO2,DOR]\n",
    "        alpha = 0.1 \n",
    "        resp = Data[i,2] - alpha*Data[i,0] - 0.5*X[3,0]\n",
    "#         alpha, resp = fsolve(resp,[0.1,5],args = (Beta))\n",
    "#         print (alpha, resp)\n",
    "        Resp[i] = resp\n",
    "            \n",
    "        P_O[i] = (0.5/Data[i,3])*(Gamma*Data[i,0]/Xmm*1000 - 0.5*X[3,0] - 2/3*resp)\n",
    "        \n",
    "        ratp[i] = 0.5*X[3,0] + P_O[i]*2*Data[i,3] + 2/3*resp\n",
    "        \n",
    "        \n",
    "    plt.plot(Data[:,0],ratp,'co',label = '$r_{atp}$')\n",
    "    plt.xlabel('D $(1/h)$')\n",
    "    plt.ylabel('$r_{ATP}$ $(mmol_{ATP}/g/h$) ')\n",
    "    plt.legend(loc = 'best')\n",
    "    plt.title(str(Name))\n",
    "    plt.show()\n",
    "\n",
    "    plt.plot(Data[:,0],Ce,'ko',label = '$C_{Ethanol}$')\n",
    "    plt.xlabel('D $(1/h)$')\n",
    "    plt.ylabel('Concentration $(mmol_{i}/g/h$) ')\n",
    "    plt.title(str(Name))\n",
    "    plt.legend(loc = 'best')\n",
    "    plt.show()\n",
    "    \n",
    "    plt.plot(Data[:,0],P_O,'go',label = '$P/O$')\n",
    "    plt.xlabel('D $(1/h)$')\n",
    "#     plt.ylabel('Concentration $(mmol_{i}/g/h$) ')\n",
    "    plt.title(str(Name))\n",
    "    plt.legend(loc = 'best')\n",
    "    plt.show()\n",
    " \n",
    "    return [ratp,Ce,Resp]"
   ]
  },
  {
   "cell_type": "code",
   "execution_count": 15,
   "metadata": {},
   "outputs": [
    {
     "data": {
      "image/png": "[encoded data removed]",
      "text/plain": [
       "<matplotlib.figure.Figure at 0x2120d694128>"
      ]
     },
     "metadata": {},
     "output_type": "display_data"
    },
    {
     "data": {
      "image/png": "[encoded data removed]",
      "text/plain": [
       "<matplotlib.figure.Figure at 0x2120d726b38>"
      ]
     },
     "metadata": {},
     "output_type": "display_data"
    },
    {
     "data": {
      "image/png": "[encoded data removed]",
      "text/plain": [
       "<matplotlib.figure.Figure at 0x2120d694d68>"
      ]
     },
     "metadata": {},
     "output_type": "display_data"
    },
    {
     "data": {
      "text/plain": [
       "[array([ 16.24015104,  23.91333378,  26.36474994,  29.30683418,  33.47270231]),\n",
       " array([  0.12791541,  -0.494334  ,  10.03105496,  23.61634646,  41.54490614]),\n",
       " array([ 16.24015104,  23.91333378,  26.36474994,  29.30683418,  33.47270231])]"
      ]
     },
     "execution_count": 15,
     "metadata": {},
     "output_type": "execute_result"
    }
   ],
   "source": [
    "Beta = 0.1\n",
    "Gamma = 2\n",
    "\n",
    "# ratp_D691,Ce_D691,r1 = Analysis(D69,Beta,Gamma,'Meyer69')\n",
    "# # ratp_P89, Ce_P89,r = Analysis(P89,Beta,Gamma,'Postma89')\n",
    "# ratp_H97, Ce_H97,r = Analysis(H97,Beta,Gamma,'VanHoek97')\n",
    "# Analysis(P93,Beta,Gamma,'Pijen93')\n",
    "Analysis(S86,Beta,Gamma,'Sonn86')"
   ]
  },
  {
   "cell_type": "code",
   "execution_count": null,
   "metadata": {
    "collapsed": true
   },
   "outputs": [],
   "source": []
  },
  {
   "cell_type": "code",
   "execution_count": null,
   "metadata": {
    "collapsed": true
   },
   "outputs": [],
   "source": []
  }
 ],
 "metadata": {
  "kernelspec": {
   "display_name": "Python 3",
   "language": "python",
   "name": "python3"
  },
  "language_info": {
   "codemirror_mode": {
    "name": "ipython",
    "version": 3
   },
   "file_extension": ".py",
   "mimetype": "text/x-python",
   "name": "python",
   "nbconvert_exporter": "python",
   "pygments_lexer": "ipython3",
   "version": "3.6.3"
  }
 },
 "nbformat": 4,
 "nbformat_minor": 2
}
