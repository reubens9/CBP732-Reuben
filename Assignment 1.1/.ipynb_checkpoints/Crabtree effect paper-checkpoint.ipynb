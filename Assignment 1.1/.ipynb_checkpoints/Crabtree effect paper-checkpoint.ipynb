{
 "cells": [
  {
   "cell_type": "markdown",
   "metadata": {},
   "source": [
    "<center><h1>Comparison of respiration repression and respiration limitation in $Saccharomyces~cerevisea$"
   ]
  },
  {
   "cell_type": "markdown",
   "metadata": {
    "collapsed": true
   },
   "source": [
    "<h2> Introduction</h2>\n",
    "\n",
    "The Crabtree effect is phenomenon occurs in the metabolism of $Saccharomyces~cerevisea$, it characterised by the production of ethanol under aerobic conditions (De Deken, 1965). The Crabtree effect has been investigated for many years and by many different and well accomplished bioligists and chemical engineers alike. Yet no conclusion has been made as to the true reason behind the effect. In this study we are going to conduct an in depth metabolic energy analysis to help shed light on possible causes. Multiple sources of data will be analysed and compared to help identify the mechanisms behind the Crabtree effect and the effect that it has on respiration efficiency.\n",
    "\n",
    "<h2> Literature </h2>\n",
    "\n",
    "<h3> $Saccharomyces~cerevisea$ metabolism</h3>\n",
    "\n",
    "This microorganism has two modes by which it can metabolise glucose, fermentation which is manly done under anaerobic conditions and respiration which occurs under aerobic conditions. During respiration the glucose is converted to carbon dioxide, $CO_2$, unlike fermentation where ethanol and other products are produced. Respiration is more effcient since $CO_2$ contains less energy than ethanol does and therefore more energy is extracted from the glucose molecule (Madigan et al., 2015). The yeast will utilise these two modes depending on the environment under which it is subjected. If the oxygen, $O_2$, is depleted over time the organism will move from respiration to fermentation. This is often used by industry since the fermentation products are often more valuable. \n",
    "\n",
    "<h3> The Crabtree effect </h3>\n",
    "\n",
    "The Crabtree effect appears when S. cerevisiae is grown in an aerobic, glucose limited chemostat and is defined as alcoholic fermentation at high growth rates (Flikweert, 2000). This effect occurs when the dilution rate increases beyond a critical growth rate.\n",
    "\n",
    "Von Meyerenburg (1969) studied glucose metabolism in $S.~cerevisea$. He observed that the specific oxygen consumption increased linearly with the dilution rate until a critical dilution rate where the organism began to produce ethanol. After which the oxygen consumption decreased and the the ethanol production increased with an increase in the dilution rate. The dilution rate at which this maximum $O_2$ uptake occurs and the start of ethanol fermentation is call the critical dilution rate ($D_{crit}$) These findings were then used as evidence of the respiration of repression by the production of ethanol. In an energetic sense energy produced through glycolysis and fermentation pathways is repressing respiration.\n",
    "\n",
    "Bradford and Hall (1979) conducted a study in which they run prolonged continuous fermentations at dilution rate equal to the maximum specific growth rate. This adaption increase the maximum growth rate from 0.45 1/h to 0.6 1/h. Fermentations were then conducted  and at dilutions above the $D_{crit}$ no respiration repression was observed. As the dilution rate increased to $D_{crit}$ the oxygen uptake increased to a maximum where it then became constant with an increased dilution. Aerobic fermentation occurs under these conditions because the respiration capacity is not able to metabolise all the glucose consumed through glycolysis and to respiration repression.\n",
    "\n",
    "This new regulatory mechanism of respiration has now been accepted rather than respiration repression. This is as a result of no correlation being found between the respiration enzyme titres and oxygen uptake rates (Alexander 1990). Flikweert (2000) summarizes a number of studies proposing the possible mechanism of this effect. It is proposed that the alcoholic fermentation starts when the the dilution rates forces the capacity of acetaldehyde dehydrogenase to reach a limit and the thus carbon flux is redirected via alcohol dehydrogenase. \n",
    "\n",
    "<h3> Mass balance </h3>\n",
    "\n",
    "In order to conduct a energetic analysis is it first necessary to determine the unknown production rate such as the production rate of ethanol and the uptake of glucose. The Equation 1 shows the overall chemical balance of the reactions that take place in the chemostats.\n",
    "\n",
    "<center>$$ Glucose + NH_3 + O_2 → Ethanol + Biomass + CO_2 + H_2O~~~~~~~~~~(1)$$</center>\n",
    "<br><br>\n",
    "Equation 2 shows the Cmol based chemical eqaution of Equation 1.\n",
    "\n",
    "<center>$$ CH_2O + NH_3 + O_2 → CH_3O_{0.5} + CH_{1.8}O_{0.5}N_{0.2} + CO_2 + H_2O~~~~~~~~~~(2)$$</center>\n",
    "<br><br>\n",
    "\n",
    "The chemical formula for biomass has been chosen as $CH_{1.8}O_{0.5}N_{0.2}$ since this is the average form of the biomass equation. This simplified the analysis since the exact biomass equation is unknown and can vary depending on the environment.\n",
    "\n",
    "<h3>Metabolic flux analysis</h3>\n",
    "\n",
    "The internal metabolic rates need to be determined in order to conduct the energetic analysis. Figure 1 shows the metabolic flux model of $Saccharomyces~cerevisea$ which includes glycolysis, the tricarboxylic acid cycle and ethanol fermentation.\n",
    "\n",
    "<img src=\"etresp.png\" width=\"550\" />\n",
    "<center><h5> Figure 1: Metabolic pathways for $Saccharomyces~cerevisea$</center></h5>\n",
    "<br><br>\n",
    "\n",
    "This flux model is then used to solve for the internal metabolic rate. Equations 2 to 6 are the equations that describe the metabolism of glucose.\n",
    "<br><br>\n",
    "<center> $$V_1 = (1 + \\alpha)V_2 + V_3 + V_4~~~~~~~~~~(2)$$</center>\n",
    "<br><br>\n",
    "<center>$$V_4 = V_5 + 1.5V_6~~~~~~~~~~(3)$$</center>\n",
    "<br><br>\n",
    "<center>$$ \\beta + 2V_3 - 1/3V_5 - 2V_7 = 0~~~~~~~~~~(4)$$</center>\n",
    "<br><br>\n",
    "<center>$$ -\\gamma V_2 + 2/3V_3 - 1/3V_4 + V_6 +  2(P/O)V_7 = \\Theta~~~~~~~~~~(5)$$</center>\n",
    "<br><br>\n",
    "<center> $$V_2 = \\mu ~~~~~~~~~~(6)$$</center>\n",
    "\n",
    "This equations above allows us to calculate the P/O ratio, which is an indication of the efficiency of oxidative phosphorylation process. Since oxidative phosphorylation is the process by which NADH from respiration is converted to ATP, the P/O ratio can be seen as respiration efficiency. To simplify the analysis it will be assumed that the cell maintenance, $\\Theta$, will be equal to zero for this study."
   ]
  },
  {
   "cell_type": "markdown",
   "metadata": {
    "collapsed": true
   },
   "source": [
    "<h2> Results and discussion </h2>\n",
    "\n",
    "In order to determine the differences between respiration repression and respiration limitation the von Meyerenburg (1969) and Bradford (1979) willbe comapred.  In order to see how the mass balances and metabolic rates were calculated click [here](https://nbviewer.jupyter.org/github/reubens9/CBP732-Reuben/blob/master/Assignment%201.1/Data%20analysis.ipynb). In Figure 2 below it can be seen that at the $D_{crit}$ approximately 0.25 1/h ethanol begins to form. As ethanol forms the $O_2$ uptake begins to decrease, this was taken as the evidence of respiration repression.\n",
    "\n",
    "<img src=\"Meyer_RATE.png\" width=\"430\" />\n",
    "<center><h5> Figure 2: Metabolic rates for varying dilution rates from von Meyerenburg (1969)</center></h5>\n",
    "<br><br>\n",
    "\n",
    "The metabolic rate determine from the Bradford and Hall (1979) study are shown in Figure 3 below. This shows that at dilution rates above that of the $D_{crit}$, for this case approximately 0.3 1/h, ethanol begins to form however the rate of $O_2$ consumption remains constant. This shows that respiration was not repressed but ethanol form as a result of a limitation of respiration.\n",
    "\n",
    "<img src=\"Bradford_RATE.png\" width=\"430\" />\n",
    "<center><h5> Figure 3: Metabolic rates for varying dilution rates from Bradford and Hall (1979)</center></h5>\n",
    "<br><br>\n",
    "\n",
    "Figure 3 show a comparison of the two above mentioned studies $O_2$ uptake rates. It an clearly be seen that von Meyerenburg (1969) $O_2$ rate has a sharp decrease when the dilution rate exceeds the $D_{crit}$ however for Bradford and Hall (1979) the $O_2$ rate becomes constant.\n",
    "\n",
    "<img src=\"BradfordVMeyer_RATE.png\" width=\"430\" />\n",
    "<center><h5> Figure 3: Comparison between the $O_2$ uptake rate from Bradford and Hall (1979) and von Meyerenburg (1969)</center></h5>\n",
    "<br><br>\n",
    "\n",
    "In order to analyse the affect that these oxygen rates have on the respiration efficiency the energy balance is used to solve for the P/O ratio. For the purpose of these calculations it will be assumed that the ATP requirement for biomass formation ($\\gamma$) is equal to 2.5 $mol_{ATP}/cmol_X$. A total of 10 data sets from published papers have been analysed and there P/O ratios calculated. The analysed data falls into three groups namely an increasing P/O ratio, decreasing P/O ratio and no correlation. Figures 4 and 6 show these P/O ratio plots respectfully excluding the data set where no correlation was shown.\n",
    "\n",
    "<img src=\"Increase_PO.png\" width=\"430\" />\n",
    "<center><h5> Figure 4: Data sets illustrating an increasing P/O ratio (von Meyerenburg, 1969; van Hoek, 1997; Cortassa, 1998)</center></h5>\n",
    "<br><br>\n",
    "\n",
    "From the figure above is can be seen that as soon as the dilution rate passed 0.25 1/h the P/O ratio begins to increase. This means that the efficiency of the oxidative phosphorylation increases once ethanol starts forming. This however is counterintuitive since the oxygen rate is decreasing for these data sets however the respiration efficiency now has to increase to make up for the ATP shortage. The ATP shortage is created by a combination of carbon going to ethanol fermentation and the decreasing oxygen uptake. Figure 5 shows how the respiration flux is affected by the decreasing oxygen uptake. It however is not possible to separate the cause and effect since oxidative phosphorylation and the TCA cycle are intrinsically linked by NADH. Alexander (1990) states that the respiration repression that was discovered by von Meyerenburg (1969) was due to a nutritional limitation in the medium and can therefore be used in determining the cause of the Crabtree effect. \n",
    "\n",
    "<img src=\"Increase_RESP.png\" width=\"430\" />\n",
    "<center><h5> Figure 5: Rates of respiration for varied dilution rates (von Meyerenburg, 1969; van Hoek, 1997; Cortassa, 1998)</center></h5>\n",
    "<br><br>\n",
    "\n",
    "Figure 6 below shows how the respiration efficiency decreases as the dilution rate increases. This implies that at a constant oxygen rate the amount of ATP produced per NADH decreases. The figure shows that P/O values are almost consant until the critical dilution is reached. The decrease of the P/O is inversely proportional to the production rate of ethanol. This may mean that the production of catabolism products are inhibiting oxidative phosphorylation.\n",
    "\n",
    "<img src=\"Decrease_PO.png\" width=\"430\" />\n",
    "<center><h5> Figure 6: Data sets illustrating a decreasing P/O ratio (Postma, 1989; Sonnleitner, 1986; Rieger, 1983)</center></h5>\n",
    "<br><br>\n",
    "\n",
    "It is clearly shown in Figure 7 that the rate of respiration is directly proportional to the dilution rate up until $D_{crit}$ where the rate becomes limited. However, when one looks at the glucose consumption rate in Figure 8 it shows that the glucose uptake rate drastically increases once $D_{crit}$ is passed. The reason for this is that more carbon is consumed to produce energy from ethanol when compared to respiration. Once again the cause and effect cannot be separated since ethanol is produced as the P/O ratio decrease which causes the need for more ethanol to be required.\n",
    "\n",
    "<img src=\"Decrease_RESP.png\" width=\"430\" />\n",
    "<center><h5> Figure 7: Rates of respiration for varied dilution rates (Postma, 1989; Sonnleitner, 1986; Rieger, 1983)</center></h5>\n",
    "<br><br>\n",
    "\n",
    "<img src=\"Decrease_S.png\" width=\"430\" />\n",
    "<center><h5> Figure 8: Rates of glucose uptake for varied dilution rates (Postma, 1989; Sonnleitner, 1986; Rieger, 1983)</center></h5>\n",
    "<br><br>\n",
    "\n",
    "Van Urk (1989) conducted a study where in the mitochondrial rates of $S.~cerevisiae$ were compared with that of $Candida~utilis$. It was found that ethanol fermentation does not occur as a result of the limitation of enzymes in the TCA cycle. This suggests that the cause of the decreased P/O value may be as a result of a decrease supply of ADP which will limit oxidative phosphorylation."
   ]
  },
  {
   "cell_type": "markdown",
   "metadata": {
    "collapsed": true
   },
   "source": [
    "<h2> Conclusion </h2>\n",
    "\n",
    "It has been found that respiration repression is definitely not a cause of the Crabtree effect. It has been noticed that as ethanol fermentation begins the P/O ratio decreases and the glucose uptake rate increases. This supports the theory of a respiration limitation. When the rate of respiration was plotted for varying dilution rate is was seen that after $D_{crit}$ the rate begins to level out, suggesting a limitation. Since the production of ethanol and the decrease in P/O ratio happen at the same time and are intrinsically linked through the ATP requirement it is not possible to conclusively say which causes the other. It is a possibility if the supply of ADP is limited it would cause the Crabtree effect but we are still not able to determine the cause."
   ]
  }
 ],
 "metadata": {
  "kernelspec": {
   "display_name": "Python 3",
   "language": "python",
   "name": "python3"
  },
  "language_info": {
   "codemirror_mode": {
    "name": "ipython",
    "version": 3
   },
   "file_extension": ".py",
   "mimetype": "text/x-python",
   "name": "python",
   "nbconvert_exporter": "python",
   "pygments_lexer": "ipython3",
   "version": "3.5.3"
  }
 },
 "nbformat": 4,
 "nbformat_minor": 2
}
