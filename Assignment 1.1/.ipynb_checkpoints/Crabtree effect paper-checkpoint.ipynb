{
 "cells": [
  {
   "cell_type": "markdown",
   "metadata": {},
   "source": [
    "<center><h1>Comparison of respiration repression and respiration limitation in $Saccharomyces~cerevisea$"
   ]
  },
  {
   "cell_type": "markdown",
   "metadata": {
    "collapsed": true
   },
   "source": [
    "<h2> Introduction</h2>eijeij \n",
    "\n",
    "The Crabtree effect is phenomenon The Crabtree effect has been investigated more many years and by many different and well accomplished bioligists and chemical engineers alike. The no conclusion has yet been made as to the true reason behind the effect. In this study we are going to conduct a in depth metabolic energy analysis to help shed light on possible causes. Multiple sources of data will be analysed and compared true idea of the mechanisms behind the Crabtree effect.\n",
    "\n",
    "<h2> Literature </h2>\n",
    "\n",
    "<h3> $Saccharomyces~cerevisea$ </h3>\n",
    "\n",
    "This miroorganism has two modes by which it can metabolise glucose, fermentation which is manly done under anaerobic conditions and respiration which occurs under aerobic conditions. During respiration the glucose is converted to carbon dioxide, $CO_2$, unlike fermentation where ethanol and other products are produced. Respiration is more effcient\n",
    "since CO2 contains less energy than ethanol does and therefore more energy is extracted\n",
    "from the glucose molecule (Madigan et al., 2015 : 89). The yeast will utilise these two\n",
    "modes depending on the environment under which it is subjected. If the oxygen O2 is\n",
    "depleted over time the organism will move from respiration to fermentation, this is often\n",
    "used by industry since the fermentation products are often more valuable.\n",
    "\n",
    "The Crabtree effect can be described as the production of ethanol under aerobic conditions (De Deken, 1965). This effect occurs as a result of the synthesis inhibition of respiratory enzymes by high fermentation rates of glucose in high concentrations. The pyruvate that is produced through glycolysis is directed between respiration and fermentation, once the critical glucose concentration is reached as well as the oxygen uptake reaches an upper constant rate, the production of fermentation products increases as the glucose concentration increases (Villadsen et al., 2011).\n",
    "\n",
    "The long term Crabtree effect appears when S. cerevisiae is grown in an aerobic, glucose limited chemostat and is defined as alcoholic fermentation at high growth rates (Flikweert, 2000). This effect occurs when the dilution rate increases beyond the specifc growth rate. Flikweert (2000) summarizes a number of studies proposing the possible mechanism of this efect. It is proposed that the alcoholic fermentation starts when the the dilution rates force the capacity of acetaldehyde dehydrogenase to reach a limit and the carbon flux is redirected via alcohol dehydrogenase."
   ]
  },
  {
   "cell_type": "code",
   "execution_count": null,
   "metadata": {
    "collapsed": true
   },
   "outputs": [],
   "source": []
  }
 ],
 "metadata": {
  "kernelspec": {
   "display_name": "Python 3",
   "language": "python",
   "name": "python3"
  },
  "language_info": {
   "codemirror_mode": {
    "name": "ipython",
    "version": 3
   },
   "file_extension": ".py",
   "mimetype": "text/x-python",
   "name": "python",
   "nbconvert_exporter": "python",
   "pygments_lexer": "ipython3",
   "version": "3.5.3"
  }
 },
 "nbformat": 4,
 "nbformat_minor": 2
}
