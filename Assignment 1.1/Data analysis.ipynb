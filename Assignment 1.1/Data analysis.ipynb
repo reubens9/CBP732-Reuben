{
 "cells": [
  {
   "cell_type": "code",
   "execution_count": null,
   "metadata": {
    "collapsed": true
   },
   "outputs": [],
   "source": [
    "from scipy.integrate import odeint\n",
    "from scipy.optimize import fsolve\n",
    "import numpy as np\n",
    "from matplotlib import pyplot as plt\n",
    "import pandas\n",
    "%matplotlib inline"
   ]
  },
  {
   "cell_type": "code",
   "execution_count": null,
   "metadata": {
    "collapsed": true
   },
   "outputs": [],
   "source": [
    "D69 = np.array(pandas.read_excel('Data.xlsx', sheetname = 'Meyer69'))\n",
    "H97 = np.array(pandas.read_excel('Data.xlsx', sheetname = 'VanHoek97'))\n",
    "P89 = np.array(pandas.read_excel('Data.xlsx', sheetname = 'Postma89'))\n",
    "P93 = np.array(pandas.read_excel('Data.xlsx', sheetname = 'Pijen93'))\n",
    "S86 = np.array(pandas.read_excel('Data.xlsx', sheetname = 'Sonn86'))\n",
    "B79 = np.array(pandas.read_excel('Data.xlsx', sheetname = 'Barford79'))\n",
    "C98 = np.array(pandas.read_excel('Data.xlsx', sheetname = 'Cortassa98'))"
   ]
  },
  {
   "cell_type": "markdown",
   "metadata": {},
   "source": [
    "Glucose  + $O_2$ + $NH_3$ $->$ Ethanol + Biomass + $CO_2$ + $H_2O$\n",
    "\n",
    "<img src=\"etresp.png\" width=\"500\" />\n",
    "\n",
    "<center> V1 = (1 + $\\alpha$)V2 + V3 + V4</center>\n",
    " <center>V4 = V5 + 1.5V6</center>\n",
    "<center> $\\beta$ + 2V3 - 1/3V5 - 2V7 = 0</center>\n",
    "<center> -$\\gamma$V2 + 2/3V3 - 1/3V4 + V6 +  2(P/O)V7 = $\\Theta$</center>\n",
    "<center> V2 = $\\mu$ </center>"
   ]
  },
  {
   "cell_type": "code",
   "execution_count": null,
   "metadata": {
    "collapsed": true
   },
   "outputs": [],
   "source": [
    "\n",
    "A = np.matrix([[-1,0,1,1,1,0,0],        #Carbon\n",
    "                [-2,0,1.6,3,0,2,-3],    #Hydrogen\n",
    "                [-1,-2,0.5,0.5,2,1,0],  #Oxygen\n",
    "                [0,0,0.2,0,0,0,-1],     #Nitrogen\n",
    "                [0,0,0,0,1,0,0],        #CO2 Spec\n",
    "                [0,1,0,0,0,0,0],        #O2 Spec\n",
    "                [0,0,1,0,0,0,0]])       #Biomass Spec\n",
    "\n",
    "Xdor = 4 + 1.6 + 0.5*-2 + 0.2*-3\n",
    "Xmm = 12 + 1.6 + 0.5*16 + 0.2*14\n",
    "\n",
    "def Analysis(Data,Beta,Gamma,Name):\n",
    "    span = range(len(Data))\n",
    "    PO = 1.5\n",
    "    \n",
    "    ratp = np.zeros_like(Data[:,0])\n",
    "    Resp = np.zeros_like(Data[:,0])\n",
    "    re = np.zeros_like(Data[:,0])\n",
    "    P_O = np.zeros_like(Data[:,0])\n",
    "    Rs = np.zeros_like(Data[:,0])\n",
    "    \n",
    "    for i in span:\n",
    "        B = np.matrix([0,0,0,0,Data[i,2],Data[i,3],Data[i,0]/Xmm*1000]).T\n",
    "        X = np.linalg.solve(A,B)\n",
    "        re[i] = X[3,0]\n",
    "        Rs[i] = X[0,0]\n",
    "\n",
    "        alpha = 0.25*(Xdor + 2*Beta - 4)\n",
    "\n",
    "        Resp[i] = Data[i,2] - alpha*Data[i,0] - 0.5*X[3,0]\n",
    "            \n",
    "        P_O[i] = (0.5/Data[i,3])*(Gamma*Data[i,0]/Xmm*1000 - 0.5*X[3,0] - 2/3*Resp[i])\n",
    "        \n",
    "        ratp[i] = 0.5*re[i] + P_O[i]*2*Data[i,3] + (2/3)*Resp[i]\n",
    "        \n",
    "    if pltrate == True:\n",
    "        \n",
    "        plt.figure()\n",
    "        plt.plot(Data[:,0],Rs,'ro',label = '$r_{S}$')\n",
    "        plt.plot(Data[:,0],Data[:,2],'ro',label = '$r_{CO_2}$')\n",
    "        plt.plot(Data[:,0],Data[:,3],'bo',label = '$r_{O_2}$')\n",
    "        plt.plot(Data[:,0],re,'ko',label = '$r_{Ethanol}$')\n",
    "        plt.xlabel('D $(1/h)$')\n",
    "        plt.ylabel('Rate $(mmol_{i}/g/h$) ')\n",
    "        plt.title(str(Name))\n",
    "        plt.legend(loc = 'best')\n",
    "        plt.show()\n",
    "    \n",
    "    if pltresp == True:\n",
    "        \n",
    "        plt.figure()\n",
    "        plt.plot(Data[:,0],Resp,'ro',label = '$Respiration$')\n",
    "        plt.xlabel('D $(1/h)$')\n",
    "        plt.ylabel('Respiration $(mcmol/g/h$) ')\n",
    "        plt.legend(loc = 'best')\n",
    "        plt.title(str(Name))\n",
    "        plt.show()\n",
    "    \n",
    "    if pltpo == True:\n",
    "\n",
    "        plt.plot(Data[:,0],P_O,'go',label = '$P/O$')\n",
    "        plt.xlabel('D $(1/h)$')\n",
    "        plt.ylim([0,2])\n",
    "        plt.ylabel('P/O $(mol_{ATP}/mol_{O_2})$ ')\n",
    "        plt.title(str(Name))\n",
    "        plt.legend(loc = 'best')\n",
    "        plt.show()\n",
    "        \n",
    "    if pltenergy == True:\n",
    "        \n",
    "        plt.plot(Data[:,0],ratp,'co-',label = 'Total energy')\n",
    "        plt.plot(Data[:,0],Data[:,3]*P_O*2,'ko',label = 'Oxygen energy')\n",
    "        plt.plot(Data[:,0],0.5*re,'ro',label = 'Ethanol energy')\n",
    "        plt.plot(Data[:,0],Resp*2/3,'bo',label = 'Respiration energy')\n",
    "        plt.xlabel('D $(1/h)$')\n",
    "        plt.ylabel('Energy source $(mol_{ATP}//g/h)$ ')\n",
    "        plt.title(str(Name))\n",
    "        plt.legend(loc = 'best')\n",
    "        plt.show()"
   ]
  },
  {
   "cell_type": "code",
   "execution_count": null,
   "metadata": {},
   "outputs": [],
   "source": [
    "Beta = 0.1\n",
    "Gamma = 2\n",
    "\n",
    "\"\"\"Which plots do you want\"\"\"\n",
    "\n",
    "\"Rates of CO2 O2 and Ethanol?\"\n",
    "pltrate = True\n",
    "\n",
    "\"Respiration vs dilution rate?\"\n",
    "pltresp = False\n",
    "\n",
    "\"P/O vs dilution rate?\"\n",
    "pltpo = True\n",
    "\n",
    "\"Energy composition plot\"\n",
    "pltenergy = True\n",
    "\n",
    "Analysis(D69,Beta,Gamma,'Meyer69')\n",
    "# Analysis(P89,Beta,Gamma,'Postma89')\n",
    "Analysis(H97,Beta,Gamma,'VanHoek97')\n",
    "# Analysis(P93,Beta,Gamma,'Pijen93')\n",
    "# Analysis(S86,Beta,Gamma,'Sonn86')\n",
    "Analysis(B79,Beta,Gamma,'Barford79')\n",
    "Analysis(C98,Beta,Gamma,'Cortassa98')\n",
    "# Analysis(H79,Beta,Gamma,'Hall79')"
   ]
  },
  {
   "cell_type": "markdown",
   "metadata": {
    "collapsed": true
   },
   "source": [
    "# Interpretation\n",
    "\n",
    "It can be seen from the relationship between the chemostat dilution rate and the specific growth rate that saccharomyces cerevisea always optimises for biomass growth. Therefore setting a dilution rate can be seen as setting the energy production requirement for the cell. The analysis of this data assumes that the energy cost to produce biomass ($\\gamma$) is constant and there is no energy required for maintainance. \n",
    "\n",
    "The P/O ratio is an indication of the effiency of the oxidative phosphorylation process. It is therefore implied that if the P/O increases the effiency of respiration increases. \n",
    "\n",
    "Once the oxygen consumpution is at the max or aerobic fermentation has began it can be seen that the P/O ratio begins to increase. This is to account for the decrease consumption of oxygen as the energy requirement still needs to be met.\n",
    "\n",
    "It can then be seen that the formation of ethanol does not affect the growth of biomass. Therefore it possible that tyhis system developed as a means of out competing other organisms since it consumes glucose at an increase rate to produce ethanol while still growing at the maximum rate."
   ]
  },
  {
   "cell_type": "code",
   "execution_count": null,
   "metadata": {
    "collapsed": true
   },
   "outputs": [],
   "source": []
  },
  {
   "cell_type": "code",
   "execution_count": null,
   "metadata": {
    "collapsed": true
   },
   "outputs": [],
   "source": []
  }
 ],
 "metadata": {
  "kernelspec": {
   "display_name": "Python 3",
   "language": "python",
   "name": "python3"
  },
  "language_info": {
   "codemirror_mode": {
    "name": "ipython",
    "version": 3
   },
   "file_extension": ".py",
   "mimetype": "text/x-python",
   "name": "python",
   "nbconvert_exporter": "python",
   "pygments_lexer": "ipython3",
   "version": "3.6.3"
  }
 },
 "nbformat": 4,
 "nbformat_minor": 2
}
