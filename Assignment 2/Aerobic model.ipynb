{
 "cells": [
  {
   "cell_type": "code",
   "execution_count": 48,
   "metadata": {
    "collapsed": true
   },
   "outputs": [],
   "source": [
    "import sympy as sp\n",
    "import numpy as np\n",
    "from scipy.integrate import odeint\n",
    "from matplotlib import pyplot as plt\n",
    "%matplotlib inline"
   ]
  },
  {
   "cell_type": "markdown",
   "metadata": {},
   "source": [
    "Trying some sympy:"
   ]
  },
  {
   "cell_type": "code",
   "execution_count": 49,
   "metadata": {},
   "outputs": [
    {
     "data": {
      "text/plain": [
       "{v4: 0.0,\n",
       " v8: 0.117272727272727,\n",
       " v3: 0.146363636363636,\n",
       " v1: 0.150000000000000,\n",
       " v2: 0.439090909090909,\n",
       " v7: 0.0,\n",
       " v6: 0.365909090909091,\n",
       " v0: 0.604090909090909,\n",
       " v5: 0.146363636363636,\n",
       " v9: 0.292727272727273}"
      ]
     },
     "execution_count": 49,
     "metadata": {},
     "output_type": "execute_result"
    }
   ],
   "source": [
    "alpha, beta, gamma, theta, mu = 0.1, 0.1, 2.5, 0.05, 0.15\n",
    "v0, v1, v2, v3, v4, v5, v6, v7, v8, v9 = sp.symbols('v0, v1, v2, v3, v4, v5, v6, v7, v8, v9')\n",
    "unk = [v0, v1, v2, v3, v4, v5, v6, v7, v8, v9]\n",
    "\n",
    "eqns = [-v0 + (1 + alpha)*v1 + v2,\n",
    "       -v2 + 3/2*v3 + 3/4*v9,\n",
    "       -v3 + v4 + v5,\n",
    "       -3*v5 + 6/5*v6 + 6/4*v7,\n",
    "       -v9 + -v7 + 2*v5,\n",
    "       -theta - gamma*v1 + 1/3*v2 - 1/4*v9 + 1/8*v7 + 3*v8,\n",
    "       beta*v1 + 1/3*v2 + 1/2*v3 - 1/2*v4 + v7 - 2*v8,\n",
    "       mu - v1,\n",
    "       v4,\n",
    "       v7]\n",
    "\n",
    "flux1 = sp.solve(eqns,unk)\n",
    "flux1"
   ]
  },
  {
   "cell_type": "code",
   "execution_count": 50,
   "metadata": {},
   "outputs": [
    {
     "name": "stdout",
     "output_type": "stream",
     "text": [
      "Respiration vs Itaconic production\n",
      "Oxygen usage =  1.04457364341085\n",
      "Glucose usage =  0.463506395786306\n"
     ]
    },
    {
     "data": {
      "text/plain": [
       "{v4: 0.0,\n",
       " v8: 0.122500000000000,\n",
       " v3: 0.0766666666666667,\n",
       " v1: 0.150000000000000,\n",
       " v2: 0.115000000000000,\n",
       " v7: 0.153333333333333,\n",
       " v6: 0.0,\n",
       " v0: 0.280000000000000,\n",
       " v5: 0.0766666666666667,\n",
       " v9: 0.0}"
      ]
     },
     "execution_count": 50,
     "metadata": {},
     "output_type": "execute_result"
    }
   ],
   "source": [
    "eqns[-1] = v6\n",
    "\n",
    "flux2 = sp.solve(eqns,unk)\n",
    "print ('Respiration vs Itaconic production')\n",
    "print ('Oxygen usage = ' ,flux2[v8]/flux1[v8])\n",
    "print ('Glucose usage = ' ,flux2[v0]/flux1[v0])\n",
    "flux2"
   ]
  },
  {
   "cell_type": "code",
   "execution_count": 51,
   "metadata": {},
   "outputs": [
    {
     "name": "stdout",
     "output_type": "stream",
     "text": [
      "Respiration vs Itaconic production\n",
      "Oxygen usage =  1.22030651340996\n",
      "Glucose usage =  0.521863799283154\n"
     ]
    }
   ],
   "source": [
    "eqns = [-v0 + (1 + alpha)*v1 + v2,\n",
    "       -v2 + 3/2*v3 + 3/4*v9,\n",
    "       -v3 + v4 + v5,\n",
    "       -3*v5 + 6/5*v6 + 6/4*v7,\n",
    "       -v9 + -v7 + 2*v5,\n",
    "       -theta - gamma*v1 + 1/3*v2 + 1/8*v7 + 3*v8,\n",
    "       beta*v1 + 1/3*v2 + 1/2*v3 - 1/2*v4 + v7 - 2*v8,\n",
    "       mu - v1,\n",
    "       v4,\n",
    "       v7]\n",
    "\n",
    "flux1 = sp.solve(eqns,unk)\n",
    "flux1\n",
    "\n",
    "eqns[-1] = v6\n",
    "\n",
    "flux2 = sp.solve(eqns,unk)\n",
    "print ('Respiration vs Itaconic production')\n",
    "print ('Oxygen usage = ' ,flux2[v8]/flux1[v8])\n",
    "print ('Glucose usage = ' ,flux2[v0]/flux1[v0])\n"
   ]
  },
  {
   "cell_type": "code",
   "execution_count": 52,
   "metadata": {
    "collapsed": true
   },
   "outputs": [],
   "source": [
    "def rates(C):\n",
    "    Cx, Cs , Ci = C[0],C[1],C[2]\n",
    "#     mu = mu_max * Cs / (Km + Cs) * (1 - Ce / Cemax)\n",
    "#     if mu < 0:\n",
    "#         mu = 0\n",
    "#     theta = theta_max * Cs / (Km + Cs)\n",
    "    \n",
    "    ro_mt = kla * Co_sat\n",
    "    \n",
    "    eqns = [-v0 + (1 + alpha)*v1 + v2,\n",
    "       -v2 + 3/2*v3 + 3/4*v9,\n",
    "       -v3 + v4 + v5,\n",
    "       -3*v5 + 6/5*v6 + 6/4*v7,\n",
    "       -v9 + -v7 + 2*v5,\n",
    "       -theta - gamma*v1 + 1/3*v2 + 1/8*v7 + 3*v8,\n",
    "       beta*v1 + 1/3*v2 + 1/2*v3 - 1/2*v4 + v7 - 2*v8,\n",
    "       mu - v1,\n",
    "       v4,\n",
    "       v6]\n",
    "\n",
    "    flux = sp.solve(eqns,unk)\n",
    "    \n",
    "    if ro_mt > flux[v8]*Cx:\n",
    "\n",
    "        return [flux[v1],\n",
    "                -flux[v0],\n",
    "                 flux[v6]]\n",
    "    else:\n",
    "        eqns[-1] = v8 - ro_mt/Cx\n",
    "        flux = sp.solve(eqns,unk)\n",
    "        return [flux[v1],\n",
    "                -flux[v0],\n",
    "                 flux[v6]]"
   ]
  },
  {
   "cell_type": "code",
   "execution_count": 53,
   "metadata": {
    "collapsed": true
   },
   "outputs": [],
   "source": [
    "def dNdt(C,t):\n",
    "    Cx, Cs , Ci = C[0],C[1],C[2]\n",
    "    r=rates(C)     \n",
    "\n",
    "    return [r[0]*Cx,\n",
    "            r[1]*Cx,\n",
    "            r[2]*Cx,]     "
   ]
  },
  {
   "cell_type": "code",
   "execution_count": 55,
   "metadata": {},
   "outputs": [
    {
     "data": {
      "text/plain": [
       "[<matplotlib.lines.Line2D at 0x1ba78c207b8>,\n",
       " <matplotlib.lines.Line2D at 0x1ba78c209e8>,\n",
       " <matplotlib.lines.Line2D at 0x1ba78c200f0>]"
      ]
     },
     "execution_count": 55,
     "metadata": {},
     "output_type": "execute_result"
    },
    {
     "data": {
      "image/png": "[encoded data removed]",
      "text/plain": [
       "<matplotlib.figure.Figure at 0x1ba77965668>"
      ]
     },
     "metadata": {},
     "output_type": "display_data"
    }
   ],
   "source": [
    "Cxo,Cso,Cio = 0.1,50,0\n",
    "Co_sat = 7 / 1000 / 32  # mol O2 per liter\n",
    "kla = 2\n",
    "C = [Cxo,Cso,Cio]\n",
    "T = 1\n",
    "\n",
    "tspan = np.linspace(0,T,2)\n",
    "Cans = odeint(dNdt,C,tspan)\n",
    "plt.plot(tspan,Cans)"
   ]
  },
  {
   "cell_type": "markdown",
   "metadata": {},
   "source": [
    "Thats far too slow, lets try numpy:"
   ]
  },
  {
   "cell_type": "code",
   "execution_count": 56,
   "metadata": {
    "collapsed": true
   },
   "outputs": [],
   "source": [
    "def dNdt(C,t):\n",
    "    Cx, Cs , Ci ,Cco, Co, res, atp = C[0],C[1],C[2],C[3],C[4],C[5],C[6]\n",
    "    r=rates(C,t)     \n",
    "#     if r[5] < 0:\n",
    "#         print ('Res = ',t,r[5])\n",
    "#     if r[2] == 0:\n",
    "#         print ('IA = ',t)\n",
    "    return [r[0]*Cx,\n",
    "            r[1]*Cx,\n",
    "            r[2]*Cx,\n",
    "           r[3]*Cx,\n",
    "           r[4]*Cx,\n",
    "           r[5]*Cx,\n",
    "           r[6]*Cx]  \n",
    "\n",
    "Sbase = np.matrix([[-1,1.1,1,1,0,0,0],\n",
    "                     [0,0,0,-1,1.5,1.2,0],\n",
    "                     [0,0.1,2,1/3,-0.5,0.2,-2],\n",
    "                     [0,-2.5,0.5,1/3,0,-0.2,3]])\n",
    "\n",
    "et_spec=[0,0,0,0,1,0,0]\n",
    "ox_spec=[0,0,0,0,0,0,1]\n",
    "res_spec=[0,0,1,0,0,0,0]\n",
    "ita_spec=[0,0,0,0,0,1,0]\n",
    "mu_spec=[0,1,0,0,0,0,0]\n",
    "s_spec=[1,0,0,0,0,0,0]\n",
    "\n",
    "mu_max = 0.05\n",
    "theta_max = 0.1\n",
    "Km_mu, Km_theta = 30/1000/30, 5/1000/30\n",
    "\n",
    "def rates(C,t):\n",
    "    Cx, Cs , Ci ,Cco, Co, Res, Atp  = C[0],C[1],C[2],C[3],C[4],C[5],C[6]\n",
    "    mu = mu_max * Cs / (Km_mu + Cs)\n",
    "    if mu < 0:\n",
    "        mu = 0\n",
    "    theta = theta_max * Cs / (Km_theta + Cs)\n",
    "    \n",
    "    ro_mt = kla * Co_sat\n",
    "    cnt = 0\n",
    "\n",
    "    eqn = np.vstack([Sbase,et_spec,ita_spec,mu_spec])  #Stoich matrix with specs included\n",
    "    spec = np.matrix([[0,0,0,theta, 0, 0, mu]]).T    #zero ethanol and respiration\n",
    "    flux = np.linalg.solve(eqn,spec) \n",
    "#     print (ro_mt)\n",
    "    if ro_mt > flux[6,0]*Cx:\n",
    "        return [flux[1,0],\n",
    "                -mu,\n",
    "                 flux[5,0],\n",
    "               flux[2,0] + 1/5*flux[5,0] + alpha*flux[1,0],\n",
    "               flux[6,0],\n",
    "               flux[2,0],\n",
    "               0.5*flux[2,0]  + 1/3*flux[3,0] -0.2*flux[5,0] + 3* flux[6,0]]\n",
    "    else:\n",
    "        eqn = np.vstack([Sbase,et_spec,ox_spec,mu_spec])  #Stoich matrix with specs included\n",
    "        spec = np.matrix([[0,0,0,theta, 0,ro_mt/Cx , mu]]).T    #zero ethanol and respiration\n",
    "        flux = np.linalg.solve(eqn,spec) \n",
    "        cnt = 1\n",
    "\n",
    "        if flux[2,0] < 0:\n",
    "            cnt = 2\n",
    "            eqn = np.vstack([Sbase,et_spec,ox_spec,res_spec])  #Stoich matrix with specs included\n",
    "            spec = np.matrix([[0,0,0,theta, 0,ro_mt/Cx , 0]]).T    #zero ethanol and respiration\n",
    "            flux = np.linalg.solve(eqn,spec) \n",
    "\n",
    "#         if cnt == 2:\n",
    "#             print (t)\n",
    "        return [flux[1,0],\n",
    "                -mu,\n",
    "                 flux[5,0],\n",
    "               flux[2,0] + 1/5*flux[5,0] + alpha*flux[1,0],\n",
    "               flux[6,0],\n",
    "               flux[2,0],\n",
    "                0.5*flux[2,0]  + 1/3*flux[3,0] -0.2*flux[5,0] + 3* flux[6,0]]\n",
    "    \n",
    "    if flux[2,0] > 0 and flux[5,0] > 0:\n",
    "        print (t)"
   ]
  },
  {
   "cell_type": "code",
   "execution_count": 59,
   "metadata": {},
   "outputs": [
    {
     "data": {
      "image/png": "[encoded data removed]",
      "text/plain": [
       "<matplotlib.figure.Figure at 0x1ba77914fd0>"
      ]
     },
     "metadata": {},
     "output_type": "display_data"
    },
    {
     "name": "stdout",
     "output_type": "stream",
     "text": [
      "T =  55.448975803\n"
     ]
    }
   ],
   "source": [
    "Cxo,Cso,Cio,Cco,Co, res,atp = 0.1,50,0,0,0,0,0\n",
    "Co_sat = 7 / 1000 / 32  # mol O2 per liter\n",
    "kla = 200\n",
    "C = [Cxo,Cso,Cio,Cco, Co,res,atp]\n",
    "T = 160\n",
    "leng = T*101\n",
    "tspan = np.linspace(0,T,leng)\n",
    "Cans = odeint(dNdt,C,tspan)\n",
    "Cx,Cs,Ci,Cco,Co,res,atp = Cans.T\n",
    "plt.figure()\n",
    "plt.plot(tspan, Cx, 'b', label='Cx')\n",
    "plt.plot(tspan, Ci, 'c', label='Ci')\n",
    "plt.plot(tspan, Cs, 'k', label='Cs')\n",
    "plt.xlabel('Time ($h$)')\n",
    "plt.ylabel('Concentration ($cmol/L$)')\n",
    "plt.ylim(0)\n",
    "# Cxo,Cso,Cio,Cco,Co, res = 0.1,50,0,0,0,0\n",
    "# Co_sat = 7 / 1000 / 32  # mol O2 per liter\n",
    "# kla = 200\n",
    "# C = [Cxo,Cso,Cio,Cco, Co,res]\n",
    "# T = 100\n",
    "# Cans1 = odeint(dNdt,C,tspan)\n",
    "# Cx1,Cs,Ci2,Cco,Co,res = Cans1.T\n",
    "# plt.plot(tspan, Cx1, 'r', label='Cx')\n",
    "# # plt.plot(tspan, Cs,'r', label='Cs')\n",
    "# plt.plot(tspan, Ci2, 'g', label='Ci')\n",
    "# # plt.plot(tspan, Cco, 'k', label='Cco2')\n",
    "plt.legend(loc = 'best')\n",
    "\n",
    "plt.savefig('conc.png')\n",
    "plt.show()\n",
    "print ('T = ',tspan[5600])"
   ]
  },
  {
   "cell_type": "markdown",
   "metadata": {},
   "source": [
    "Far better!"
   ]
  },
  {
   "cell_type": "markdown",
   "metadata": {},
   "source": [
    "It can be seen from the graph above that respiration is functioning for the first half of the fermentation while oxygen is not\n",
    "limiting however once the biomass concentration increases the oxygen per cell decreases and oxgen becomes limiting.\n",
    "\n",
    "This is then shown by the production of Itaconic acid and the increased consumption rate of glucose."
   ]
  },
  {
   "cell_type": "code",
   "execution_count": 33,
   "metadata": {
    "collapsed": true
   },
   "outputs": [],
   "source": [
    "def rate(C,t):\n",
    "        r = rates(C,0)\n",
    "        return r\n",
    "\n",
    "\n",
    "C = Cx, Cs, Ci, Cco, Co,res, atp\n",
    "Mu = [rate([Cxi, Csi, Cii, Ccoi, Coi,resi,atpi],t ) for Cxi, Csi, Cii, Ccoi,Coi,resi,atpi,t in zip(Cx, Cs, Ci, Cco, Co,res,atp,tspan)]\n"
   ]
  },
  {
   "cell_type": "code",
   "execution_count": 61,
   "metadata": {},
   "outputs": [
    {
     "data": {
      "image/png": "[encoded data removed]",
      "text/plain": [
       "<matplotlib.figure.Figure at 0x1ba7791d240>"
      ]
     },
     "metadata": {},
     "output_type": "display_data"
    },
    {
     "data": {
      "image/png": "[encoded data removed]",
      "text/plain": [
       "<matplotlib.figure.Figure at 0x1ba778b0978>"
      ]
     },
     "metadata": {},
     "output_type": "display_data"
    }
   ],
   "source": [
    "rate = np.array(Mu)\n",
    "rx,rs,ri,rco,ro,rres,ratp = rate.T\n",
    "Yoatp = ratp/ro\n",
    "plt.plot(ro,rx,'k',label = \"Growth rate\")\n",
    "plt.plot(ro,rx,'k',label = \"mu\")\n",
    "# plt.plot(tspan,rate[:,1], 'c--',label = \"Glucose rate\")\n",
    "# plt.plot(tspan,rate[:,2], 'r--',label = \"IA rate\")\n",
    "\n",
    "# plt.plot(tspan,rates[:,3])\n",
    "plt.legend(loc = 'best')\n",
    "# plt.ylim(ymin = 0)\n",
    "plt.ylabel('Rates $( h^{-1})$')\n",
    "plt.xlabel('Rates $(mol O_2 \\xB7 h^{-1} \\xB7 CmolX^{-1})$')\n",
    "\n",
    "plt.show()\n",
    "\n",
    "\n",
    "plt.figure()\n",
    "plt.plot(tspan,rx, 'r',label = \"µ\")\n",
    "plt.plot(tspan,ro, 'k',label = \"O$_2$ consumption\")\n",
    "plt.ylabel('Rates $(Cmoli \\xB7 h^{-1} \\xB7 CmolX^{-1}$)')\n",
    "plt.xlabel('Time $(h)$')\n",
    "plt.legend(loc = 'best')\n",
    "plt.savefig('o2mu.png')\n",
    "plt.show()\n",
    "\n",
    "# plt.plot(tspan,rate[:,5], 'r',label = \"Respiration rate\")\n",
    "# plt.ylabel('Rates $(Cmoli \\xB7 h^{-1} \\xB7 CmolX^{-1}$)')\n",
    "# plt.xlabel('Time $(h)$')\n",
    "# plt.legend(loc = 'best')\n",
    "# plt.show()"
   ]
  },
  {
   "cell_type": "code",
   "execution_count": 70,
   "metadata": {},
   "outputs": [
    {
     "data": {
      "image/png": "[encoded data removed]",
      "text/plain": [
       "<matplotlib.figure.Figure at 0x1ba7a11ad68>"
      ]
     },
     "metadata": {},
     "output_type": "display_data"
    }
   ],
   "source": [
    "s,e = 0,-1\n",
    "plt.figure()\n",
    "plt.plot(tspan[s:e],rres[s:e],'r',label = \"Respiration\")\n",
    "plt.plot(tspan[s:e],ri[s:e],'k',label = \"Itaconic acid\")\n",
    "plt.legend(loc = 'best')\n",
    "plt.ylabel('Rates $(Cmoli \\xB7 h^{-1} \\xB7 CmolX^{-1}$)')\n",
    "plt.xlabel('Time $(h)$')\n",
    "plt.xlim(0)\n",
    "plt.savefig('phases.png')\n",
    "plt.show()\n"
   ]
  },
  {
   "cell_type": "code",
   "execution_count": 71,
   "metadata": {},
   "outputs": [
    {
     "data": {
      "text/plain": [
       "<matplotlib.figure.Figure at 0x1ba7a6d1470>"
      ]
     },
     "metadata": {},
     "output_type": "display_data"
    },
    {
     "data": {
      "image/png": "[encoded data removed]",
      "text/plain": [
       "<matplotlib.figure.Figure at 0x1ba78b539b0>"
      ]
     },
     "metadata": {},
     "output_type": "display_data"
    },
    {
     "data": {
      "text/plain": [
       "<matplotlib.figure.Figure at 0x1ba7a6d0e48>"
      ]
     },
     "metadata": {},
     "output_type": "display_data"
    },
    {
     "data": {
      "image/png": "[encoded data removed]",
      "text/plain": [
       "<matplotlib.figure.Figure at 0x1ba7a6d1ef0>"
      ]
     },
     "metadata": {},
     "output_type": "display_data"
    }
   ],
   "source": [
    "\n",
    "plt.figure()\n",
    "fig, ax1 = plt.subplots()\n",
    "ax1.plot(ro[s:e], rx[s:e], 'b-')\n",
    "ax1.axis(ymin = 0,ymax= 0.06)\n",
    "ax1.set_xlabel('ro $(mol O_2 \\xB7 h^{-1} \\xB7 CmolX^{-1})$')\n",
    "# Make the y-axis label, ticks and tick labels match the line color.\n",
    "ax1.set_ylabel('µ $(h^{-1})$', color='b')\n",
    "ax1.tick_params('y', colors='b')\n",
    "\n",
    "ax2 = ax1.twinx()\n",
    "ax2.axis(ymin = 3.48,ymax= 3.65)\n",
    "ax2.plot(ro[s:e], Yoatp[s:e], 'r')\n",
    "ax2.set_ylabel('Yoatp $(mol ATP \\xB7 mol O_2^{-1})$ ', color='r')\n",
    "ax2.tick_params('y', colors='r')\n",
    "\n",
    "fig.tight_layout()\n",
    "plt.savefig(\"full.png\")\n",
    "plt.show()\n",
    "\n",
    "plt.figure()\n",
    "fig, ax1 = plt.subplots()\n",
    "ax1.plot(ro[s:e], rx[s:e], 'b-')\n",
    "ax1.axis(ymin = 0,ymax= 0.06)\n",
    "ax1.set_xlabel('ro $(mol O_2 \\xB7 h^{-1} \\xB7 CmolX^{-1})$')\n",
    "# Make the y-axis label, ticks and tick labels match the line color.\n",
    "ax1.set_ylabel('µ $(h^{-1})$', color='b')\n",
    "ax1.tick_params('y', colors='b')\n",
    "\n",
    "ax2 = ax1.twinx()\n",
    "ax2.axis(ymin = 3.48,ymax= 3.65)\n",
    "ax2.plot(ro[s:e], Yoatp[s:e], 'r')\n",
    "ax2.set_ylabel('Yoatp $(mol ATP \\xB7 mol O_2^{-1})$ ', color='r')\n",
    "ax2.tick_params('y', colors='r')\n",
    "plt.xlim([ro[5804],ro[5600]])\n",
    "fig.tight_layout()\n",
    "plt.savefig('zoom.png')\n",
    "plt.show()"
   ]
  },
  {
   "cell_type": "code",
   "execution_count": null,
   "metadata": {
    "collapsed": true
   },
   "outputs": [],
   "source": []
  },
  {
   "cell_type": "code",
   "execution_count": null,
   "metadata": {
    "collapsed": true
   },
   "outputs": [],
   "source": []
  },
  {
   "cell_type": "code",
   "execution_count": null,
   "metadata": {
    "collapsed": true
   },
   "outputs": [],
   "source": []
  }
 ],
 "metadata": {
  "kernelspec": {
   "display_name": "Python 3",
   "language": "python",
   "name": "python3"
  },
  "language_info": {
   "codemirror_mode": {
    "name": "ipython",
    "version": 3
   },
   "file_extension": ".py",
   "mimetype": "text/x-python",
   "name": "python",
   "nbconvert_exporter": "python",
   "pygments_lexer": "ipython3",
   "version": "3.5.3"
  }
 },
 "nbformat": 4,
 "nbformat_minor": 2
}
