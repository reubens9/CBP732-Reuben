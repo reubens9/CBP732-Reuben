{
 "cells": [
  {
   "cell_type": "markdown",
   "metadata": {},
   "source": [
    "## Itaconic acid production\n",
    "\n",
    "Andre initiated some clever ideas on the effect of limited oxygen supply on the production of Itaconic acid. I want to set up a Ipython notebook basis for tackling the problem. Let's start with the metabolism from glucose.\n",
    "\n",
    "The full metabolic map will be given by the following:\n",
    "\n",
    "<img src=\"Ita_full.png\" width=\"650\" />"
   ]
  },
  {
   "cell_type": "markdown",
   "metadata": {},
   "source": [
    "It is easier to simplify the map (and flux model) to the following:\n",
    "\n",
    "<img src=\"Ita_model.png\" width=\"850\" />"
   ]
  },
  {
   "cell_type": "markdown",
   "metadata": {},
   "source": [
    "Let's define some arbitrary physiological parameters:\n",
    "\n",
    "\n",
    "|$\\alpha \\qquad \\qquad$|$\\gamma \\qquad \\qquad $|$\\mu_{max} \\qquad$|$\\theta_{max}\\qquad$| $(P/O)$ $\\qquad \\qquad$\n",
    "|----|-|-|-|-\n",
    "|$\\frac{cmol\\,CO_2}{cmol \\, X}$|$\\frac{mol \\, ATP}{Cmol \\, X}$|$\\frac{1}{h}$|$\\frac{mol \\, ATP}{cmol\\,X\\cdot h}$|$\\frac{mol\\,ATP}{mol\\, O}$\n",
    "|0.1|2.5|0.15|0.1|1.5\n",
    "\n",
    "Let's get Python fired up:\n"
   ]
  },
  {
   "cell_type": "code",
   "execution_count": 6,
   "metadata": {
    "collapsed": true
   },
   "outputs": [],
   "source": [
    "import numpy\n",
    "import matplotlib.pyplot as plt\n",
    "%matplotlib notebook \n",
    "from scipy.integrate import odeint\n",
    "alpha, gamma, mu, theta, PO = 0.1, 2.5, 0.15, 0.1, 1.5"
   ]
  },
  {
   "cell_type": "markdown",
   "metadata": {},
   "source": [
    "The basis of the stoichiometric matrix (Sbase) will be the two nodes, NADH and ATP balance:"
   ]
  },
  {
   "cell_type": "code",
   "execution_count": 7,
   "metadata": {},
   "outputs": [],
   "source": [
    "Sbase = numpy.matrix([[-1,1.1,1,1,0,0,0],\n",
    "                     [0,0,0,-1,1.5,1.2,0],\n",
    "                     [0,0.1,2,1/3,-0.5,0.2,-2],\n",
    "                     [0,-2.5,0.5,1/3,0,-0.2,3]])"
   ]
  },
  {
   "cell_type": "markdown",
   "metadata": {},
   "source": [
    "Note that the 0.5 mol ATP on flux 2 is not $\\frac{2}{3}$ like always to compensate for the FADH that will be considered as NADH.\n",
    "Given 7 rates, 3 specifications is required. Let's define the possible spec rows that will be added to Sbase."
   ]
  },
  {
   "cell_type": "code",
   "execution_count": 8,
   "metadata": {
    "collapsed": true
   },
   "outputs": [],
   "source": [
    "et_spec=[0,0,0,0,1,0,0]\n",
    "ox_spec=[0,0,0,0,0,0,1]\n",
    "res_spec=[0,0,1,0,0,0,0]\n",
    "ita_spec=[0,0,0,0,0,1,0]\n",
    "mu_spec=[0,1,0,0,0,0,0]\n",
    "s_spec=[1,0,0,0,0,0,0]"
   ]
  },
  {
   "cell_type": "markdown",
   "metadata": {},
   "source": [
    "We can now construct a 7x7 matrix of our choice for example:\n"
   ]
  },
  {
   "cell_type": "code",
   "execution_count": 9,
   "metadata": {},
   "outputs": [
    {
     "name": "stdout",
     "output_type": "stream",
     "text": [
      "[[  6.58636364e-01]\n",
      " [  1.50000000e-01]\n",
      " [ -1.37403840e-17]\n",
      " [  4.93636364e-01]\n",
      " [  0.00000000e+00]\n",
      " [  4.11363636e-01]\n",
      " [  1.30909091e-01]]\n"
     ]
    }
   ],
   "source": [
    "S = numpy.vstack([Sbase,et_spec,res_spec,mu_spec])  #Stoich matrix with specs included\n",
    "      \n",
    "C= numpy.matrix([[0,0,0,theta, 0, 0, mu]]).T    #zero ethanol and respiration\n",
    "r1 = numpy.linalg.solve(S,C) \n",
    "print(r1)"
   ]
  },
  {
   "cell_type": "markdown",
   "metadata": {},
   "source": [
    "So above is the rates (in $\\frac{cmol}{cmol \\, X \\cdot h}$) when zero TCA takes place and when zero ethanol is excreted. One can just devide by $-r_S$ to get the yields:"
   ]
  },
  {
   "cell_type": "code",
   "execution_count": 11,
   "metadata": {},
   "outputs": [
    {
     "name": "stdout",
     "output_type": "stream",
     "text": [
      "[[  1.00000000e+00]\n",
      " [  2.27743271e-01]\n",
      " [ -2.08618666e-17]\n",
      " [  7.49482402e-01]\n",
      " [  0.00000000e+00]\n",
      " [  6.24568668e-01]\n",
      " [  1.98757764e-01]]\n"
     ]
    }
   ],
   "source": [
    "Y=r1/r1[0]\n",
    "print(Y)"
   ]
  },
  {
   "cell_type": "markdown",
   "metadata": {},
   "source": [
    "Let's 'switch off' itaconic instead of respiration and compare:"
   ]
  },
  {
   "cell_type": "code",
   "execution_count": null,
   "metadata": {},
   "outputs": [],
   "source": [
    "S = numpy.vstack([Sbase,et_spec,ita_spec,mu_spec])  #Stoich matrix with specs included\n",
    "      \n",
    "C= numpy.matrix([[0,0,0,theta, 0, 0, mu]]).T    #zero ethanol and respiration\n",
    "r2 = numpy.linalg.solve(S,C) \n",
    "print(r2)"
   ]
  },
  {
   "cell_type": "code",
   "execution_count": null,
   "metadata": {},
   "outputs": [],
   "source": [
    "print([r2[6]/r1[6],r2[0]/r1[0]])"
   ]
  },
  {
   "cell_type": "markdown",
   "metadata": {},
   "source": [
    "So 4.4% more oxygen is required to 'service' the energy requirements when using respiration. On the other hand less than half of the glucose is required when using respiration instead of itaconic acid production. Thanks for noticing this Andre!\n",
    "\n",
    "Andre also showed that there are more energy efficient routes to produce itaconic acid. Both these routes will cause the ATP contribution to flux 5 (currently $\\frac{1}{5}$ mol ATP) to be zero. Lets atler the energy balance and re-run the calculation: "
   ]
  },
  {
   "cell_type": "code",
   "execution_count": null,
   "metadata": {},
   "outputs": [],
   "source": [
    "Sbase[3,5]=0  #altering the energy balance\n",
    "\n",
    "S = numpy.vstack([Sbase,et_spec,res_spec,mu_spec])  #Stoich matrix with specs included\n",
    "C = numpy.matrix([[0,0,0,theta, 0, 0, mu]]).T    #zero ethanol and respiration\n",
    "r1 = numpy.linalg.solve(S,C)\n",
    "\n",
    "S = numpy.vstack([Sbase,et_spec,ita_spec,mu_spec])  #Stoich matrix with specs included\n",
    "C = numpy.matrix([[0,0,0,theta, 0, 0, mu]]).T    #zero ethanol and respiration\n",
    "r2 = numpy.linalg.solve(S,C)\n",
    "\n",
    "print([r2[6]/r1[6],r2[0]/r1[0]])"
   ]
  },
  {
   "cell_type": "markdown",
   "metadata": {},
   "source": [
    "If the pathway exists, the oxygen requirements is even less. "
   ]
  },
  {
   "cell_type": "markdown",
   "metadata": {},
   "source": [
    "Remember from CBI that the oxygen supply per cell will get less if the biomass grows beyond the point where the volumetric mass transfer becomes limiting. [Click here if you forgot](https://nbviewer.jupyter.org/github/willienicol/Biochemical-engineering-notes/blob/master/6%20Modeling%20stoichiometry%20variations/Oxygen%20starvation%20in%20batch%20fermenters.ipynb).\n",
    "\n"
   ]
  },
  {
   "cell_type": "markdown",
   "metadata": {},
   "source": [
    "So the idea is that old _Aspergillus terreus_ will gradually change from using respiration for generating energy, to using itaconic acid production as the oxygen supply becomes an issue. The question is how will the bug transition? Will $-r_S$ actually increase around this critical point or is the maximum glucose uptake rate ($\\lambda$) already utilised by the respiration mode (when oxygen is freely avaialble). We don't know the answer yet, but Deon is on it."
   ]
  },
  {
   "cell_type": "markdown",
   "metadata": {},
   "source": [
    "If $\\lambda$ was already used during respiration, a regime will form (as $r_O$ is decreased, remember $r_O$ is per cell) where both respiration and itaconic production will occur, while $\\lambda$ is maintained. This regime will end when respiration becomes zero. For this regime we will specify $\\lambda$. \n",
    "\n",
    "Before we begin let's reset the energy balance to the original:"
   ]
  },
  {
   "cell_type": "code",
   "execution_count": null,
   "metadata": {},
   "outputs": [],
   "source": [
    "Sbase[3,5]=-1/5  #altering the energy balance\n",
    "\n",
    "S = numpy.vstack([Sbase,et_spec,res_spec,mu_spec])  #Stoich matrix with specs included\n",
    "C = numpy.matrix([[0,0,0,theta, 0, 0, mu]]).T    #zero ethanol and respiration\n",
    "r1 = numpy.linalg.solve(S,C)\n",
    "\n",
    "S = numpy.vstack([Sbase,et_spec,ita_spec,mu_spec])  #Stoich matrix with specs included\n",
    "C = numpy.matrix([[0,0,0,theta, 0, 0, mu]]).T    #zero ethanol and respiration\n",
    "r2 = numpy.linalg.solve(S,C)\n",
    "\n",
    "print([r2[6]/r1[6],r2[0]/r1[0]])"
   ]
  },
  {
   "cell_type": "markdown",
   "metadata": {},
   "source": [
    "$\\lambda$ can be determined form $r_2$. Let see by how much $r_O$ have to decrease to end up with full itaconic production:"
   ]
  },
  {
   "cell_type": "code",
   "execution_count": null,
   "metadata": {},
   "outputs": [],
   "source": [
    "lam=r2[0]\n",
    "\n",
    "S = numpy.vstack([Sbase,et_spec,res_spec,s_spec])  #Stoich matrix with specs included\n",
    "C = numpy.matrix([[0,0,0,theta, 0, 0, lam]]).T    #zero ethanol and respiration\n",
    "r3 = numpy.linalg.solve(S,C)\n",
    "\n",
    "print([r3[6]/r2[6]])"
   ]
  },
  {
   "cell_type": "markdown",
   "metadata": {},
   "source": [
    "Wow, so the inbetween regime (respiration and itaconic acid production) will last for a significant time, the oxygen will have to be decreased by more than a factor of 2. Let's see how the growth rate drops over this regime:"
   ]
  },
  {
   "cell_type": "code",
   "execution_count": null,
   "metadata": {},
   "outputs": [],
   "source": [
    "print([r3[1]/r2[1]])"
   ]
  },
  {
   "cell_type": "markdown",
   "metadata": {},
   "source": [
    "Significant!\n"
   ]
  },
  {
   "cell_type": "markdown",
   "metadata": {},
   "source": [
    "Beyond this regime, one will have to use a $r_O$ specification in conjucntion with an itaconic specification. Both $\\mu$ and $-r_S$ will now drop.\n",
    "\n",
    "Note that a growth limitation was not considered in the calculation!\n",
    "\n",
    "So there you have it, an initial approach to understanding itaconic acid production."
   ]
  },
  {
   "cell_type": "code",
   "execution_count": null,
   "metadata": {
    "collapsed": true
   },
   "outputs": [],
   "source": []
  }
 ],
 "metadata": {
  "kernelspec": {
   "display_name": "Python 3",
   "language": "python",
   "name": "python3"
  },
  "language_info": {
   "codemirror_mode": {
    "name": "ipython",
    "version": 3
   },
   "file_extension": ".py",
   "mimetype": "text/x-python",
   "name": "python",
   "nbconvert_exporter": "python",
   "pygments_lexer": "ipython3",
   "version": "3.5.3"
  }
 },
 "nbformat": 4,
 "nbformat_minor": 1
}
