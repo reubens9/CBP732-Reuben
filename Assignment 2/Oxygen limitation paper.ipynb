{
 "cells": [
  {
   "cell_type": "markdown",
   "metadata": {},
   "source": [
    "<center><h1>The effect of oxygen limitation on Itaconic acid production"
   ]
  },
  {
   "cell_type": "markdown",
   "metadata": {},
   "source": [
    "<h2> Introduction </h2>\n",
    "\n",
    "Itaconic acid is used in the production of polyacrylonitrile fibres and as a plasticiser in certain polymer products (Scott ,1995). It is a produced mainly through fermentations with organisms such as  aspergillus terreus and  aspergillus niger. The effect of oxygen on the general fermentation pathways for the production of Itaconic acid will be evaluated to better understand the production of Itaconic acid. Particular attention will be given to the differences between ATP yield per oxygen from the production of Itaconic acid and respiration."
   ]
  },
  {
   "cell_type": "markdown",
   "metadata": {},
   "source": [
    "<h2> Literature </h2>\n",
    "\n",
    "<h3> Metabolic pathways and model equations</h3>\n",
    "\n",
    "It will be assumed that glucose will be used ass the substrate for the production of Itaconic acid. Glucose is firstly consumed through the glycolytic pathways to pyruvate, this is then used the the Tricarboxylic acid cycle to produce citric acid. Citric acid is the converted to itaconic acid with Aconitate hydratase and Aconitate decarboxylase. Figure 1 shows the total metabolic pathway from glucose to itaconic acid.\n",
    "\n",
    "<img src=\"Ita_full.png\" width=\"650\" />\n",
    "<center><h5> Figure 1: Metabolic pathways for the production of Itaconic acid (Nicol, 2018)</center>\n",
    "<br><br>\n",
    "\n",
    "Figure 2 shows a simplified metabolic pathways for the that shown in Figure 1, it also shows the model equations for the metabolism. \n",
    "\n",
    "<img src=\"Ita_model.png\" width=\"850\" />\n",
    "<center><h5> Figure 2: Simplified metabolic pathways and model for the production of Itaconic acid (Nicol, 2018)</center>\n",
    "<br><br>\n",
    "\n",
    "Since the fermentation to be investigated is aerobic oxidative phosphoratlytion will also be included. In order to account for the effect of oxygen on the metabolism the following equation will be used. It calculates the rate of oxygen consumption based on the oxygen concentration in the bulk medium. \n",
    "\n",
    "$$r_{O_2}^{mt}=k_La \\cdot \\left(C_{O_2}^{sat}-C_{O_2} \\right)$$\n",
    "\n",
    "Nicol, (2017) suggests that if it is assumed that the medium is saturated with oxygen the following equation can be used to relate the rate of oxygen consumption to the concentration of biomass in the medium. \n",
    "\n",
    "$$r_{O_2}=\\frac{r_{O_2}^{mt_{max}}}{C_X}$$"
   ]
  },
  {
   "cell_type": "markdown",
   "metadata": {},
   "source": [
    "<h2> Results and discussion </h2>\n",
    "\n",
    "The model was developed with Python code and euler intergration was used to solve the equations. In order to analyses the effect of oxygen on the metabolism a batch fermentation was simulated. This enables one to see how the metabolism varies with changing glucose concentrations as well as cellular oxygen uptake rates. Figure 3 shows the concentration profiles for the batch fermentation. It shows that glucose was consumed slowly at first with no production of itaconic acid. At 55.45 hours into the fermentation itaconic acid begins to be produced while biomass continues to form. \n",
    "\n",
    "<img src=\"Conc.png\" width=\"430\" />\n",
    "<center><h5> Figure 3: Concentration profiles for the batch fermentation of glucose to itaconic acid</center>\n",
    "<br><br>\n",
    "\n",
    "The production of itaconic acid produces NADH much like the TCA cycle therefore an organism can produce energy through two different pathways depending on its requirements. The above figure shows that there is a period where itaconic acid is not produced, this is a period where respiration is then used to produce the ATP required. Figure 4 shows that rates of biomass growth (µ) and oxygen consumption for oxidative phosphorylation. It can be seen that at the same time that itaconic acid begins to be produced the rates of growth and oxygen consumption begin to decrease. µ decreases to zero since it is dependent on the glucose the concentration which goes to zero. The oxygen consumption decreases to a lower value and then begins to stabilise since the concentration of biomass becomes stable.\n",
    "\n",
    "<img src=\"o2mu.png\" width=\"430\" />\n",
    "<center><h5> Figure 4: Rate profiles for the batch fermentation of glucose to itaconic acid</center>\n",
    "<br><br>\n",
    "\n",
    "In order to determine how this transition between respiration and itaconic acid production occurs their rates were determined and shown in Figure 5. This figure shows respiration occurring rate steady rate until the a point and then it decreases rapidly. At this same point the production of itaconic acid increases to a maximum and then slowly decrease again. This transition phase is causes by the decreasing oxygen uptake rate that in now controlled by the amount of biomass in the fermenter. \n",
    "\n",
    "<img src=\"phases.png\" width=\"430\" />\n",
    "<center><h5> Figure 5: Rate profiles of respiration and itaconic acid production for a batch fermentation</center>\n",
    "<br><br>\n",
    "\n",
    "Figure 6 shows µ as the consumed oxygen rate changes. Starting from the right hand side of the graph initially µ is constant during respiration, as oxygen mass transfer begins to play a role rO$_2$ decreases but µ remains constant. µ is able to remain constant since both itaconic acid and respiration are contributing to the energy requirement. Respiration then slows to a stop and µ begins to fall as rO$_2$ decreases.  Starting from the right hand side of the graph initially the Yoatp is constant during respiration, the yield then begins to increase during the transition between respiration and itaconic acid (steep slope). Respiration now stops and Yoatp increases slowly on itaconic acid production.\n",
    "\n",
    "<img src=\"full.png\" width=\"430\" />\n",
    "<center><h5> Figure 6: Rate of biomass growth and yield of ATP on oxygen versus oxygen consumption</center>\n",
    "<br><br>\n",
    "\n",
    "Figure 7 shows the rate of biomass growth and yield of ATP on oxygen for the transition phase between respiration and itaconic acid. It can be seen that µ remains constant while the oxygen uptake decreases and this is only possible since the yield of ATP on oxygen increases as a result of the transition to itaconic acid production.\n",
    "\n",
    "<img src=\"zoom.png\" width=\"430\" />\n",
    "<center><h5> Figure 7: Rate of biomass growth and yield of ATP on oxygen  for the transition phase between respiration and itaconic acid</center>\n",
    "<br><br>"
   ]
  },
  {
   "cell_type": "markdown",
   "metadata": {},
   "source": [
    "<h2> Conclusion </h2>\n",
    "\n",
    "It has been found through the analysis shown above that the amount of oxygen available in the fermenter does control the carbon flux through the metabolic pathways. During periods of high oxygen availability respiration is used to produce ATP. When the oxygen availability decreases the carbon is directed to the production of itaconic acid since this produces a higher yield of ATP per oxygen. "
   ]
  },
  {
   "cell_type": "markdown",
   "metadata": {},
   "source": [
    "<h2> Bibliography </h2>\n",
    "\n",
    "Nicol, W. (2018). Oxygen consumption and replacement. Retrieved March 12, 2018, from\n",
    "https://nbviewer.jupyter.org/github/willienicol/Biochemical-engineering-notes/blob/master/6%20Modeling%20stoichiometry%20variations/Oxygen%20starvation%20in%20batch%20fermenters.ipynb\n",
    "\n",
    "Nicol, W. (2018). Itaconic acid production. Retrieved March 16, 2018, from\n",
    "[https://nbviewer.jupyter.org/github/willienicol/Biochemical-engineering-notes/blob/master/Postgrads/Itaconic/Itaconic acid metabolism.ipynb](https://nbviewer.jupyter.org/github/willienicol/Biochemical-engineering-notes/blob/master/Postgrads/Itaconic/Itaconic acid metabolism.ipynb)\n",
    "\n",
    "\n",
    "Scott, K. (Keith). (1995). Handbook of industrial membranes. Elsevier Advanced Technology."
   ]
  }
 ],
 "metadata": {
  "kernelspec": {
   "display_name": "Python 3",
   "language": "python",
   "name": "python3"
  },
  "language_info": {
   "codemirror_mode": {
    "name": "ipython",
    "version": 3
   },
   "file_extension": ".py",
   "mimetype": "text/x-python",
   "name": "python",
   "nbconvert_exporter": "python",
   "pygments_lexer": "ipython3",
   "version": "3.5.3"
  }
 },
 "nbformat": 4,
 "nbformat_minor": 2
}
